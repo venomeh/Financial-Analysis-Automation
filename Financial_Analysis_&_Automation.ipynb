{
  "nbformat": 4,
  "nbformat_minor": 0,
  "metadata": {
    "colab": {
      "provenance": [],
      "authorship_tag": "ABX9TyONsPYh2Bbfw7M2jXhNWx4o",
      "include_colab_link": true
    },
    "kernelspec": {
      "name": "python3",
      "display_name": "Python 3"
    },
    "language_info": {
      "name": "python"
    }
  },
  "cells": [
    {
      "cell_type": "markdown",
      "metadata": {
        "id": "view-in-github",
        "colab_type": "text"
      },
      "source": [
        "<a href=\"https://colab.research.google.com/github/venomeh/Financial-Analysis-Automation/blob/main/Financial_Analysis_%26_Automation.ipynb\" target=\"_parent\"><img src=\"https://colab.research.google.com/assets/colab-badge.svg\" alt=\"Open In Colab\"/></a>"
      ]
    },
    {
      "cell_type": "code",
      "source": [
        "!pip install eodhd yfinance"
      ],
      "metadata": {
        "colab": {
          "base_uri": "https://localhost:8080/"
        },
        "collapsed": true,
        "id": "m_UYAIYJOLWr",
        "outputId": "ec675358-3236-43b1-9e95-933697216db9"
      },
      "execution_count": null,
      "outputs": [
        {
          "output_type": "stream",
          "name": "stdout",
          "text": [
            "Requirement already satisfied: eodhd in /usr/local/lib/python3.10/dist-packages (1.0.31)\n",
            "Requirement already satisfied: yfinance in /usr/local/lib/python3.10/dist-packages (0.2.50)\n",
            "Requirement already satisfied: websockets>=11.0.3 in /usr/local/lib/python3.10/dist-packages (from eodhd) (14.1)\n",
            "Requirement already satisfied: websocket-client>=1.6.3 in /usr/local/lib/python3.10/dist-packages (from eodhd) (1.8.0)\n",
            "Requirement already satisfied: requests>=2.31.0 in /usr/local/lib/python3.10/dist-packages (from eodhd) (2.32.3)\n",
            "Requirement already satisfied: rich>=13.5.2 in /usr/local/lib/python3.10/dist-packages (from eodhd) (13.9.4)\n",
            "Requirement already satisfied: pandas>=2.1.0 in /usr/local/lib/python3.10/dist-packages (from eodhd) (2.2.2)\n",
            "Requirement already satisfied: numpy>=1.25.2 in /usr/local/lib/python3.10/dist-packages (from eodhd) (1.26.4)\n",
            "Requirement already satisfied: matplotlib>=3.7.2 in /usr/local/lib/python3.10/dist-packages (from eodhd) (3.8.0)\n",
            "Requirement already satisfied: multitasking>=0.0.7 in /usr/local/lib/python3.10/dist-packages (from yfinance) (0.0.11)\n",
            "Requirement already satisfied: lxml>=4.9.1 in /usr/local/lib/python3.10/dist-packages (from yfinance) (5.3.0)\n",
            "Requirement already satisfied: platformdirs>=2.0.0 in /usr/local/lib/python3.10/dist-packages (from yfinance) (4.3.6)\n",
            "Requirement already satisfied: pytz>=2022.5 in /usr/local/lib/python3.10/dist-packages (from yfinance) (2024.2)\n",
            "Requirement already satisfied: frozendict>=2.3.4 in /usr/local/lib/python3.10/dist-packages (from yfinance) (2.4.6)\n",
            "Requirement already satisfied: peewee>=3.16.2 in /usr/local/lib/python3.10/dist-packages (from yfinance) (3.17.8)\n",
            "Requirement already satisfied: beautifulsoup4>=4.11.1 in /usr/local/lib/python3.10/dist-packages (from yfinance) (4.12.3)\n",
            "Requirement already satisfied: html5lib>=1.1 in /usr/local/lib/python3.10/dist-packages (from yfinance) (1.1)\n",
            "Requirement already satisfied: soupsieve>1.2 in /usr/local/lib/python3.10/dist-packages (from beautifulsoup4>=4.11.1->yfinance) (2.6)\n",
            "Requirement already satisfied: six>=1.9 in /usr/local/lib/python3.10/dist-packages (from html5lib>=1.1->yfinance) (1.16.0)\n",
            "Requirement already satisfied: webencodings in /usr/local/lib/python3.10/dist-packages (from html5lib>=1.1->yfinance) (0.5.1)\n",
            "Requirement already satisfied: contourpy>=1.0.1 in /usr/local/lib/python3.10/dist-packages (from matplotlib>=3.7.2->eodhd) (1.3.1)\n",
            "Requirement already satisfied: cycler>=0.10 in /usr/local/lib/python3.10/dist-packages (from matplotlib>=3.7.2->eodhd) (0.12.1)\n",
            "Requirement already satisfied: fonttools>=4.22.0 in /usr/local/lib/python3.10/dist-packages (from matplotlib>=3.7.2->eodhd) (4.55.1)\n",
            "Requirement already satisfied: kiwisolver>=1.0.1 in /usr/local/lib/python3.10/dist-packages (from matplotlib>=3.7.2->eodhd) (1.4.7)\n",
            "Requirement already satisfied: packaging>=20.0 in /usr/local/lib/python3.10/dist-packages (from matplotlib>=3.7.2->eodhd) (24.2)\n",
            "Requirement already satisfied: pillow>=6.2.0 in /usr/local/lib/python3.10/dist-packages (from matplotlib>=3.7.2->eodhd) (11.0.0)\n",
            "Requirement already satisfied: pyparsing>=2.3.1 in /usr/local/lib/python3.10/dist-packages (from matplotlib>=3.7.2->eodhd) (3.2.0)\n",
            "Requirement already satisfied: python-dateutil>=2.7 in /usr/local/lib/python3.10/dist-packages (from matplotlib>=3.7.2->eodhd) (2.8.2)\n",
            "Requirement already satisfied: tzdata>=2022.7 in /usr/local/lib/python3.10/dist-packages (from pandas>=2.1.0->eodhd) (2024.2)\n",
            "Requirement already satisfied: charset-normalizer<4,>=2 in /usr/local/lib/python3.10/dist-packages (from requests>=2.31.0->eodhd) (3.4.0)\n",
            "Requirement already satisfied: idna<4,>=2.5 in /usr/local/lib/python3.10/dist-packages (from requests>=2.31.0->eodhd) (3.10)\n",
            "Requirement already satisfied: urllib3<3,>=1.21.1 in /usr/local/lib/python3.10/dist-packages (from requests>=2.31.0->eodhd) (2.2.3)\n",
            "Requirement already satisfied: certifi>=2017.4.17 in /usr/local/lib/python3.10/dist-packages (from requests>=2.31.0->eodhd) (2024.8.30)\n",
            "Requirement already satisfied: markdown-it-py>=2.2.0 in /usr/local/lib/python3.10/dist-packages (from rich>=13.5.2->eodhd) (3.0.0)\n",
            "Requirement already satisfied: pygments<3.0.0,>=2.13.0 in /usr/local/lib/python3.10/dist-packages (from rich>=13.5.2->eodhd) (2.18.0)\n",
            "Requirement already satisfied: typing-extensions<5.0,>=4.0.0 in /usr/local/lib/python3.10/dist-packages (from rich>=13.5.2->eodhd) (4.12.2)\n",
            "Requirement already satisfied: mdurl~=0.1 in /usr/local/lib/python3.10/dist-packages (from markdown-it-py>=2.2.0->rich>=13.5.2->eodhd) (0.1.2)\n"
          ]
        }
      ]
    },
    {
      "cell_type": "code",
      "source": [
        "import yfinance as yf\n",
        "import json"
      ],
      "metadata": {
        "id": "PYLEGYt6S2wv"
      },
      "execution_count": null,
      "outputs": []
    },
    {
      "cell_type": "code",
      "source": [
        "from eodhd import APIClient\n",
        "import pandas as pd"
      ],
      "metadata": {
        "id": "eIk9CNztOmJn"
      },
      "execution_count": null,
      "outputs": []
    },
    {
      "cell_type": "code",
      "source": [
        "def get_stock_info(symbol: str) -> dict:\n",
        "    \"\"\"\n",
        "    Retrieves and formats detailed information about a stock from Yahoo Finance.\n",
        "\n",
        "    Args:\n",
        "        symbol (str): The stock ticker symbol to look up.\n",
        "\n",
        "    Returns:\n",
        "        dict: A dictionary containing detailed stock information, including ticker, name,\n",
        "              business summary, city, state, country, industry, and sector.\n",
        "    \"\"\"\n",
        "    data = yf.Ticker(symbol)\n",
        "    stock_info = data.info\n",
        "\n",
        "    properties = {\n",
        "        \"Ticker\": stock_info.get('symbol', 'Information not available'),\n",
        "        'Name': stock_info.get('longName', 'Information not available'),\n",
        "        'Business Summary': stock_info.get('longBusinessSummary'),\n",
        "        'City': stock_info.get('city', 'Information not available'),\n",
        "        'State': stock_info.get('state', 'Information not available'),\n",
        "        'Country': stock_info.get('country', 'Information not available'),\n",
        "        'Industry': stock_info.get('industry', 'Information not available'),\n",
        "        'Sector': stock_info.get('sector', 'Information not available')\n",
        "    }\n",
        "\n",
        "    return properties"
      ],
      "metadata": {
        "id": "M3o3IgQKTFof"
      },
      "execution_count": null,
      "outputs": []
    },
    {
      "cell_type": "code",
      "source": [
        "def get_company_tickers():\n",
        "    \"\"\"\n",
        "    Downloads and parses the Stock ticker symbols from the GitHub-hosted SEC company tickers JSON file.\n",
        "\n",
        "    Returns:\n",
        "        dict: A dictionary containing company tickers and related information.\n",
        "\n",
        "    Notes:\n",
        "        The data is sourced from the official SEC website via a GitHub repository:\n",
        "        https://raw.githubusercontent.com/team-headstart/Financial-Analysis-and-Automation-with-LLMs/main/company_tickers.json\n",
        "    \"\"\"\n",
        "    # URL to fetch the raw JSON file from GitHub\n",
        "    url = \"https://raw.githubusercontent.com/team-headstart/Financial-Analysis-and-Automation-with-LLMs/main/company_tickers.json\"\n",
        "\n",
        "    # Making a GET request to the URL\n",
        "    response = requests.get(url)\n",
        "\n",
        "    # Checking if the request was successful\n",
        "    if response.status_code == 200:\n",
        "        # Parse the JSON content directly\n",
        "        company_tickers = json.loads(response.content.decode('utf-8'))\n",
        "\n",
        "        # Optionally save the content to a local file for future use\n",
        "        with open(\"company_tickers.json\", \"w\", encoding=\"utf-8\") as file:\n",
        "            json.dump(company_tickers, file, indent=4)\n",
        "\n",
        "        print(\"File downloaded successfully and saved as 'company_tickers.json'\")\n",
        "        return company_tickers\n",
        "    else:\n",
        "        print(f\"Failed to download file. Status code: {response.status_code}\")\n",
        "        return None"
      ],
      "metadata": {
        "id": "3Buuf-sETHsu"
      },
      "execution_count": null,
      "outputs": []
    },
    {
      "cell_type": "code",
      "source": [
        "company_tickers = get_company_tickers()"
      ],
      "metadata": {
        "colab": {
          "base_uri": "https://localhost:8080/"
        },
        "id": "qhMn6SHgTQ02",
        "outputId": "a44e07f8-8cc8-413b-bcd5-95f14eecfd95"
      },
      "execution_count": null,
      "outputs": [
        {
          "output_type": "stream",
          "name": "stdout",
          "text": [
            "File downloaded successfully and saved as 'company_tickers.json'\n"
          ]
        }
      ]
    },
    {
      "cell_type": "code",
      "source": [
        "api = APIClient(\"67544afe43fa78.34659758\")"
      ],
      "metadata": {
        "id": "27ZDW7m8R_An"
      },
      "execution_count": null,
      "outputs": []
    },
    {
      "cell_type": "code",
      "source": [
        "resp = api.get_eod_historical_stock_market_data(symbol = 'NVDA', period='d', from_date = '2024-06-29', to_date = '2024-08-15', order='a')\n",
        "print(resp)"
      ],
      "metadata": {
        "colab": {
          "base_uri": "https://localhost:8080/"
        },
        "id": "_etSjRVYPXO8",
        "outputId": "c7a3fb5e-9838-4db9-957b-86911b00f102"
      },
      "execution_count": null,
      "outputs": [
        {
          "output_type": "stream",
          "name": "stdout",
          "text": [
            "[{'date': '2024-07-01', 'open': 123.47, 'high': 124.84, 'low': 118.83, 'close': 124.3, 'adjusted_close': 124.2808, 'volume': 284885500}, {'date': '2024-07-02', 'open': 121.13, 'high': 123.41, 'low': 121.03, 'close': 122.67, 'adjusted_close': 122.6511, 'volume': 218374000}, {'date': '2024-07-03', 'open': 121.66, 'high': 128.28, 'low': 121.36, 'close': 128.28, 'adjusted_close': 128.2602, 'volume': 215748984}, {'date': '2024-07-05', 'open': 127.38, 'high': 128.85, 'low': 125.68, 'close': 125.83, 'adjusted_close': 125.8106, 'volume': 214176703}, {'date': '2024-07-08', 'open': 127.49, 'high': 130.77, 'low': 127.04, 'close': 128.2, 'adjusted_close': 128.1802, 'volume': 237677297}, {'date': '2024-07-09', 'open': 130.35, 'high': 133.82, 'low': 128.65, 'close': 131.38, 'adjusted_close': 131.3597, 'volume': 287020812}, {'date': '2024-07-10', 'open': 134.03, 'high': 135.1, 'low': 132.42, 'close': 134.91, 'adjusted_close': 134.8892, 'volume': 248978594}, {'date': '2024-07-11', 'open': 135.75, 'high': 136.15, 'low': 127.05, 'close': 127.4, 'adjusted_close': 127.3803, 'volume': 374782688}, {'date': '2024-07-12', 'open': 128.26, 'high': 131.92, 'low': 127.22, 'close': 129.24, 'adjusted_close': 129.22, 'volume': 252680500}, {'date': '2024-07-15', 'open': 130.56, 'high': 131.39, 'low': 127.18, 'close': 128.44, 'adjusted_close': 128.4202, 'volume': 208326203}, {'date': '2024-07-16', 'open': 128.44, 'high': 129.04, 'low': 124.58, 'close': 126.36, 'adjusted_close': 126.3405, 'volume': 214769500}, {'date': '2024-07-17', 'open': 121.35, 'high': 121.85, 'low': 116.72, 'close': 117.99, 'adjusted_close': 117.9718, 'volume': 390086219}, {'date': '2024-07-18', 'open': 121.85, 'high': 122.4, 'low': 116.56, 'close': 121.09, 'adjusted_close': 121.0713, 'volume': 320979500}, {'date': '2024-07-19', 'open': 120.35, 'high': 121.6, 'low': 117.37, 'close': 117.93, 'adjusted_close': 117.9118, 'volume': 217223812}, {'date': '2024-07-22', 'open': 120.35, 'high': 124.07, 'low': 119.86, 'close': 123.54, 'adjusted_close': 123.5209, 'volume': 258068891}, {'date': '2024-07-23', 'open': 122.78, 'high': 124.69, 'low': 122.1, 'close': 122.59, 'adjusted_close': 122.5711, 'volume': 173911016}, {'date': '2024-07-24', 'open': 119.17, 'high': 119.95, 'low': 113.44, 'close': 114.25, 'adjusted_close': 114.2324, 'volume': 327776906}, {'date': '2024-07-25', 'open': 113.04, 'high': 116.63, 'low': 106.3, 'close': 112.28, 'adjusted_close': 112.2627, 'volume': 460067000}, {'date': '2024-07-26', 'open': 116.19, 'high': 116.2, 'low': 111.58, 'close': 113.06, 'adjusted_close': 113.0425, 'volume': 293399094}, {'date': '2024-07-29', 'open': 113.69, 'high': 116.28, 'low': 111.3, 'close': 111.59, 'adjusted_close': 111.5728, 'volume': 248152094}, {'date': '2024-07-30', 'open': 111.52, 'high': 111.99, 'low': 102.54, 'close': 103.73, 'adjusted_close': 103.714, 'volume': 486833312}, {'date': '2024-07-31', 'open': 112.9, 'high': 118.34, 'low': 110.88, 'close': 117.02, 'adjusted_close': 117.0019, 'volume': 473174219}, {'date': '2024-08-01', 'open': 117.53, 'high': 120.16, 'low': 106.8104, 'close': 109.21, 'adjusted_close': 109.1931, 'volume': 523462312}, {'date': '2024-08-02', 'open': 103.76, 'high': 108.72, 'low': 101.37, 'close': 107.27, 'adjusted_close': 107.2534, 'volume': 482027500}, {'date': '2024-08-05', 'open': 92.06, 'high': 103.41, 'low': 90.69, 'close': 100.45, 'adjusted_close': 100.4345, 'volume': 552842375}, {'date': '2024-08-06', 'open': 103.84, 'high': 107.71, 'low': 100.55, 'close': 104.25, 'adjusted_close': 104.2339, 'volume': 409012094}, {'date': '2024-08-07', 'open': 107.81, 'high': 108.8, 'low': 98.69, 'close': 98.91, 'adjusted_close': 98.8947, 'volume': 411440375}, {'date': '2024-08-08', 'open': 102, 'high': 105.5, 'low': 97.52, 'close': 104.97, 'adjusted_close': 104.9538, 'volume': 391910031}, {'date': '2024-08-09', 'open': 105.64, 'high': 106.6, 'low': 103.43, 'close': 104.75, 'adjusted_close': 104.7338, 'volume': 290844188}, {'date': '2024-08-12', 'open': 106.32, 'high': 111.07, 'low': 106.26, 'close': 109.02, 'adjusted_close': 109.0032, 'volume': 325559906}, {'date': '2024-08-13', 'open': 112.44, 'high': 116.23, 'low': 111.58, 'close': 116.14, 'adjusted_close': 116.1221, 'volume': 312646688}, {'date': '2024-08-14', 'open': 118.53, 'high': 118.6, 'low': 114.07, 'close': 118.08, 'adjusted_close': 118.0618, 'volume': 339246406}, {'date': '2024-08-15', 'open': 118.76, 'high': 123.24, 'low': 117.47, 'close': 122.86, 'adjusted_close': 122.841, 'volume': 318086688}]\n"
          ]
        }
      ]
    },
    {
      "cell_type": "code",
      "source": [
        "import json\n",
        "\n",
        "# Load the JSON file\n",
        "with open('company_tickers.json', 'r') as file:\n",
        "    data = json.load(file)\n",
        "\n",
        "# Initialize an empty list to store the tickers\n",
        "tickers = []\n",
        "\n",
        "# Iterate through the first 10 items and collect their tickers\n",
        "for i in range(10):\n",
        "    tickers.append(data[str(i)]['ticker'])\n",
        "\n",
        "\n",
        "# Print the tickers list\n",
        "print(tickers)\n"
      ],
      "metadata": {
        "colab": {
          "base_uri": "https://localhost:8080/"
        },
        "id": "7SzxywsNWdNf",
        "outputId": "be0f0444-76fb-44fc-e7ca-8f3b62f44ecb"
      },
      "execution_count": null,
      "outputs": [
        {
          "output_type": "stream",
          "name": "stdout",
          "text": [
            "['NVDA', 'AAPL', 'MSFT', 'AMZN', 'GOOGL', 'META', 'TSLA', 'BRK-B', 'TSM', 'AVGO']\n"
          ]
        }
      ]
    },
    {
      "cell_type": "code",
      "source": [
        "resp = api.get_eod_historical_stock_market_data(symbol = 'BRK-B', period='d', from_date = '2024-06-29', to_date = '2024-08-15', order='a')\n",
        "print(resp)"
      ],
      "metadata": {
        "colab": {
          "base_uri": "https://localhost:8080/"
        },
        "id": "yDb3bgGTW7wj",
        "outputId": "465e1ba3-cc65-401a-8f2f-fbeaa577a274"
      },
      "execution_count": null,
      "outputs": [
        {
          "output_type": "stream",
          "name": "stdout",
          "text": [
            "[{'date': '2024-07-01', 'open': 408.09, 'high': 409.67, 'low': 403.82, 'close': 405.19, 'adjusted_close': 405.19, 'volume': 2974100}, {'date': '2024-07-02', 'open': 404.02, 'high': 407.39, 'low': 403.92, 'close': 407.1, 'adjusted_close': 407.1, 'volume': 3220900}, {'date': '2024-07-03', 'open': 407.16, 'high': 407.16, 'low': 404.22, 'close': 405.77, 'adjusted_close': 405.77, 'volume': 1970300}, {'date': '2024-07-05', 'open': 406.24, 'high': 411.4, 'low': 405.03, 'close': 411.17, 'adjusted_close': 411.17, 'volume': 5149200}, {'date': '2024-07-08', 'open': 411.27, 'high': 413.79, 'low': 408, 'close': 409.08, 'adjusted_close': 409.08, 'volume': 3559500}, {'date': '2024-07-09', 'open': 409.42, 'high': 413.71, 'low': 408.64, 'close': 410.52, 'adjusted_close': 410.52, 'volume': 2989700}, {'date': '2024-07-10', 'open': 410.81, 'high': 413.96, 'low': 409.4, 'close': 413.79, 'adjusted_close': 413.79, 'volume': 3791800}, {'date': '2024-07-11', 'open': 413.99, 'high': 419.2, 'low': 412, 'close': 418.78, 'adjusted_close': 418.78, 'volume': 4073570}, {'date': '2024-07-12', 'open': 420.23, 'high': 427.45, 'low': 419.7, 'close': 424.44, 'adjusted_close': 424.44, 'volume': 4828500}, {'date': '2024-07-15', 'open': 425.59, 'high': 434.71, 'low': 425.3, 'close': 434.42, 'adjusted_close': 434.42, 'volume': 4594900}, {'date': '2024-07-16', 'open': 437.4, 'high': 439.05, 'low': 434.02, 'close': 438.9, 'adjusted_close': 438.9, 'volume': 4293700}, {'date': '2024-07-17', 'open': 437.85, 'high': 446.15, 'low': 437.84, 'close': 445.61, 'adjusted_close': 445.61, 'volume': 4776600}, {'date': '2024-07-18', 'open': 445.62, 'high': 449.25, 'low': 439.57, 'close': 441.82, 'adjusted_close': 441.82, 'volume': 4638300}, {'date': '2024-07-19', 'open': 442.67, 'high': 442.8, 'low': 433.35, 'close': 434.47, 'adjusted_close': 434.47, 'volume': 4158800}, {'date': '2024-07-22', 'open': 435.05, 'high': 438.11, 'low': 432.12, 'close': 435.98, 'adjusted_close': 435.98, 'volume': 2995700}, {'date': '2024-07-23', 'open': 437.34, 'high': 437.92, 'low': 433.47, 'close': 434.01, 'adjusted_close': 434.01, 'volume': 2393000}, {'date': '2024-07-24', 'open': 433.99, 'high': 435.41, 'low': 430.73, 'close': 432.8, 'adjusted_close': 432.8, 'volume': 3143700}, {'date': '2024-07-25', 'open': 431.6, 'high': 439.63, 'low': 431.6, 'close': 433.29, 'adjusted_close': 433.29, 'volume': 3334300}, {'date': '2024-07-26', 'open': 435.66, 'high': 439, 'low': 434.1, 'close': 437.66, 'adjusted_close': 437.66, 'volume': 2717600}, {'date': '2024-07-29', 'open': 438.01, 'high': 439.44, 'low': 435.49, 'close': 438.31, 'adjusted_close': 438.31, 'volume': 2620000}, {'date': '2024-07-30', 'open': 439.51, 'high': 443.89, 'low': 439.14, 'close': 441.26, 'adjusted_close': 441.26, 'volume': 3736400}, {'date': '2024-07-31', 'open': 439.85, 'high': 440.85, 'low': 437.74, 'close': 438.5, 'adjusted_close': 438.5, 'volume': 3798800}, {'date': '2024-08-01', 'open': 439.67, 'high': 440.61, 'low': 430.95, 'close': 431.81, 'adjusted_close': 431.81, 'volume': 3892300}, {'date': '2024-08-02', 'open': 429.77, 'high': 436.25, 'low': 423.49, 'close': 428.36, 'adjusted_close': 428.36, 'volume': 4251500}, {'date': '2024-08-05', 'open': 413.43, 'high': 417.82, 'low': 406.11, 'close': 413.72, 'adjusted_close': 413.72, 'volume': 7695125}, {'date': '2024-08-06', 'open': 416.41, 'high': 427.46, 'low': 415.1, 'close': 422.14, 'adjusted_close': 422.14, 'volume': 5138707}, {'date': '2024-08-07', 'open': 426.07, 'high': 433.17, 'low': 425.6, 'close': 427.02, 'adjusted_close': 427.02, 'volume': 4745600}, {'date': '2024-08-08', 'open': 429.24, 'high': 432.26, 'low': 427.6, 'close': 431.54, 'adjusted_close': 431.54, 'volume': 3150000}, {'date': '2024-08-09', 'open': 431.92, 'high': 434.75, 'low': 430.21, 'close': 431.67, 'adjusted_close': 431.67, 'volume': 2602600}, {'date': '2024-08-12', 'open': 434.16, 'high': 434.16, 'low': 429.01, 'close': 430.39, 'adjusted_close': 430.39, 'volume': 2376000}, {'date': '2024-08-13', 'open': 431.83, 'high': 432.81, 'low': 425.9, 'close': 432.41, 'adjusted_close': 432.41, 'volume': 3472000}, {'date': '2024-08-14', 'open': 433, 'high': 438.98, 'low': 431.71, 'close': 438.47, 'adjusted_close': 438.47, 'volume': 2860200}, {'date': '2024-08-15', 'open': 441.8, 'high': 442.59, 'low': 438.72, 'close': 440.84, 'adjusted_close': 440.84, 'volume': 3226400}]\n"
          ]
        }
      ]
    },
    {
      "cell_type": "code",
      "source": [
        "for ticker in tickers:\n",
        "    resp = api.get_eod_historical_stock_market_data(symbol = ticker,period='d', from_date = '2024-06-29', to_date = '2024-08-15', order='a' )\n",
        "    print(resp)"
      ],
      "metadata": {
        "colab": {
          "base_uri": "https://localhost:8080/"
        },
        "id": "ngZdPUdCXDbq",
        "outputId": "9cef33e9-226b-4d55-99a6-e59e2c65fa84"
      },
      "execution_count": null,
      "outputs": [
        {
          "output_type": "stream",
          "name": "stdout",
          "text": [
            "[{'date': '2024-07-01', 'open': 123.47, 'high': 124.84, 'low': 118.83, 'close': 124.3, 'adjusted_close': 124.2808, 'volume': 284885500}, {'date': '2024-07-02', 'open': 121.13, 'high': 123.41, 'low': 121.03, 'close': 122.67, 'adjusted_close': 122.6511, 'volume': 218374000}, {'date': '2024-07-03', 'open': 121.66, 'high': 128.28, 'low': 121.36, 'close': 128.28, 'adjusted_close': 128.2602, 'volume': 215748984}, {'date': '2024-07-05', 'open': 127.38, 'high': 128.85, 'low': 125.68, 'close': 125.83, 'adjusted_close': 125.8106, 'volume': 214176703}, {'date': '2024-07-08', 'open': 127.49, 'high': 130.77, 'low': 127.04, 'close': 128.2, 'adjusted_close': 128.1802, 'volume': 237677297}, {'date': '2024-07-09', 'open': 130.35, 'high': 133.82, 'low': 128.65, 'close': 131.38, 'adjusted_close': 131.3597, 'volume': 287020812}, {'date': '2024-07-10', 'open': 134.03, 'high': 135.1, 'low': 132.42, 'close': 134.91, 'adjusted_close': 134.8892, 'volume': 248978594}, {'date': '2024-07-11', 'open': 135.75, 'high': 136.15, 'low': 127.05, 'close': 127.4, 'adjusted_close': 127.3803, 'volume': 374782688}, {'date': '2024-07-12', 'open': 128.26, 'high': 131.92, 'low': 127.22, 'close': 129.24, 'adjusted_close': 129.22, 'volume': 252680500}, {'date': '2024-07-15', 'open': 130.56, 'high': 131.39, 'low': 127.18, 'close': 128.44, 'adjusted_close': 128.4202, 'volume': 208326203}, {'date': '2024-07-16', 'open': 128.44, 'high': 129.04, 'low': 124.58, 'close': 126.36, 'adjusted_close': 126.3405, 'volume': 214769500}, {'date': '2024-07-17', 'open': 121.35, 'high': 121.85, 'low': 116.72, 'close': 117.99, 'adjusted_close': 117.9718, 'volume': 390086219}, {'date': '2024-07-18', 'open': 121.85, 'high': 122.4, 'low': 116.56, 'close': 121.09, 'adjusted_close': 121.0713, 'volume': 320979500}, {'date': '2024-07-19', 'open': 120.35, 'high': 121.6, 'low': 117.37, 'close': 117.93, 'adjusted_close': 117.9118, 'volume': 217223812}, {'date': '2024-07-22', 'open': 120.35, 'high': 124.07, 'low': 119.86, 'close': 123.54, 'adjusted_close': 123.5209, 'volume': 258068891}, {'date': '2024-07-23', 'open': 122.78, 'high': 124.69, 'low': 122.1, 'close': 122.59, 'adjusted_close': 122.5711, 'volume': 173911016}, {'date': '2024-07-24', 'open': 119.17, 'high': 119.95, 'low': 113.44, 'close': 114.25, 'adjusted_close': 114.2324, 'volume': 327776906}, {'date': '2024-07-25', 'open': 113.04, 'high': 116.63, 'low': 106.3, 'close': 112.28, 'adjusted_close': 112.2627, 'volume': 460067000}, {'date': '2024-07-26', 'open': 116.19, 'high': 116.2, 'low': 111.58, 'close': 113.06, 'adjusted_close': 113.0425, 'volume': 293399094}, {'date': '2024-07-29', 'open': 113.69, 'high': 116.28, 'low': 111.3, 'close': 111.59, 'adjusted_close': 111.5728, 'volume': 248152094}, {'date': '2024-07-30', 'open': 111.52, 'high': 111.99, 'low': 102.54, 'close': 103.73, 'adjusted_close': 103.714, 'volume': 486833312}, {'date': '2024-07-31', 'open': 112.9, 'high': 118.34, 'low': 110.88, 'close': 117.02, 'adjusted_close': 117.0019, 'volume': 473174219}, {'date': '2024-08-01', 'open': 117.53, 'high': 120.16, 'low': 106.8104, 'close': 109.21, 'adjusted_close': 109.1931, 'volume': 523462312}, {'date': '2024-08-02', 'open': 103.76, 'high': 108.72, 'low': 101.37, 'close': 107.27, 'adjusted_close': 107.2534, 'volume': 482027500}, {'date': '2024-08-05', 'open': 92.06, 'high': 103.41, 'low': 90.69, 'close': 100.45, 'adjusted_close': 100.4345, 'volume': 552842375}, {'date': '2024-08-06', 'open': 103.84, 'high': 107.71, 'low': 100.55, 'close': 104.25, 'adjusted_close': 104.2339, 'volume': 409012094}, {'date': '2024-08-07', 'open': 107.81, 'high': 108.8, 'low': 98.69, 'close': 98.91, 'adjusted_close': 98.8947, 'volume': 411440375}, {'date': '2024-08-08', 'open': 102, 'high': 105.5, 'low': 97.52, 'close': 104.97, 'adjusted_close': 104.9538, 'volume': 391910031}, {'date': '2024-08-09', 'open': 105.64, 'high': 106.6, 'low': 103.43, 'close': 104.75, 'adjusted_close': 104.7338, 'volume': 290844188}, {'date': '2024-08-12', 'open': 106.32, 'high': 111.07, 'low': 106.26, 'close': 109.02, 'adjusted_close': 109.0032, 'volume': 325559906}, {'date': '2024-08-13', 'open': 112.44, 'high': 116.23, 'low': 111.58, 'close': 116.14, 'adjusted_close': 116.1221, 'volume': 312646688}, {'date': '2024-08-14', 'open': 118.53, 'high': 118.6, 'low': 114.07, 'close': 118.08, 'adjusted_close': 118.0618, 'volume': 339246406}, {'date': '2024-08-15', 'open': 118.76, 'high': 123.24, 'low': 117.47, 'close': 122.86, 'adjusted_close': 122.841, 'volume': 318086688}]\n",
            "[{'date': '2024-07-01', 'open': 212.09, 'high': 217.51, 'low': 211.92, 'close': 216.75, 'adjusted_close': 216.2615, 'volume': 60402900}, {'date': '2024-07-02', 'open': 216.15, 'high': 220.38, 'low': 215.1, 'close': 220.27, 'adjusted_close': 219.7735, 'volume': 58046200}, {'date': '2024-07-03', 'open': 220, 'high': 221.55, 'low': 219.03, 'close': 221.55, 'adjusted_close': 221.0507, 'volume': 37369800}, {'date': '2024-07-05', 'open': 221.65, 'high': 226.45, 'low': 221.65, 'close': 226.34, 'adjusted_close': 225.8299, 'volume': 60412400}, {'date': '2024-07-08', 'open': 227.09, 'high': 227.85, 'low': 223.25, 'close': 227.82, 'adjusted_close': 227.3065, 'volume': 59085900}, {'date': '2024-07-09', 'open': 227.93, 'high': 229.4, 'low': 226.37, 'close': 228.68, 'adjusted_close': 228.1646, 'volume': 48076100}, {'date': '2024-07-10', 'open': 229.3, 'high': 233.08, 'low': 229.25, 'close': 232.98, 'adjusted_close': 232.4549, 'volume': 62627700}, {'date': '2024-07-11', 'open': 231.39, 'high': 232.39, 'low': 225.77, 'close': 227.57, 'adjusted_close': 227.0571, 'volume': 64710600}, {'date': '2024-07-12', 'open': 228.92, 'high': 232.64, 'low': 228.68, 'close': 230.54, 'adjusted_close': 230.0204, 'volume': 53046500}, {'date': '2024-07-15', 'open': 236.48, 'high': 237.23, 'low': 233.09, 'close': 234.4, 'adjusted_close': 233.8717, 'volume': 62631300}, {'date': '2024-07-16', 'open': 235, 'high': 236.27, 'low': 232.33, 'close': 234.82, 'adjusted_close': 234.2908, 'volume': 43234300}, {'date': '2024-07-17', 'open': 229.45, 'high': 231.46, 'low': 226.64, 'close': 228.88, 'adjusted_close': 228.3641, 'volume': 57345900}, {'date': '2024-07-18', 'open': 230.28, 'high': 230.44, 'low': 222.27, 'close': 224.18, 'adjusted_close': 223.6747, 'volume': 66034600}, {'date': '2024-07-19', 'open': 224.82, 'high': 226.8, 'low': 223.28, 'close': 224.31, 'adjusted_close': 223.8044, 'volume': 49151500}, {'date': '2024-07-22', 'open': 227.01, 'high': 227.78, 'low': 223.09, 'close': 223.96, 'adjusted_close': 223.4552, 'volume': 48201800}, {'date': '2024-07-23', 'open': 224.37, 'high': 226.94, 'low': 222.68, 'close': 225.01, 'adjusted_close': 224.5029, 'volume': 39960300}, {'date': '2024-07-24', 'open': 224, 'high': 224.8, 'low': 217.13, 'close': 218.54, 'adjusted_close': 218.0474, 'volume': 61777600}, {'date': '2024-07-25', 'open': 218.93, 'high': 220.85, 'low': 214.62, 'close': 217.49, 'adjusted_close': 216.9998, 'volume': 51391200}, {'date': '2024-07-26', 'open': 218.7, 'high': 219.49, 'low': 216.01, 'close': 217.96, 'adjusted_close': 217.4688, 'volume': 41601300}, {'date': '2024-07-29', 'open': 216.96, 'high': 219.3, 'low': 215.75, 'close': 218.24, 'adjusted_close': 217.7481, 'volume': 36311800}, {'date': '2024-07-30', 'open': 219.19, 'high': 220.33, 'low': 216.12, 'close': 218.8, 'adjusted_close': 218.3069, 'volume': 41643800}, {'date': '2024-07-31', 'open': 221.44, 'high': 223.82, 'low': 220.63, 'close': 222.08, 'adjusted_close': 221.5795, 'volume': 50036300}, {'date': '2024-08-01', 'open': 224.37, 'high': 224.48, 'low': 217.02, 'close': 218.36, 'adjusted_close': 217.8678, 'volume': 62501000}, {'date': '2024-08-02', 'open': 219.15, 'high': 225.6, 'low': 217.71, 'close': 219.86, 'adjusted_close': 219.3645, 'volume': 105568600}, {'date': '2024-08-05', 'open': 199.09, 'high': 213.5, 'low': 196, 'close': 209.27, 'adjusted_close': 208.7983, 'volume': 119548600}, {'date': '2024-08-06', 'open': 205.3, 'high': 209.99, 'low': 201.07, 'close': 207.23, 'adjusted_close': 206.7629, 'volume': 69660500}, {'date': '2024-08-07', 'open': 206.9, 'high': 213.64, 'low': 206.39, 'close': 209.82, 'adjusted_close': 209.3471, 'volume': 63516400}, {'date': '2024-08-08', 'open': 213.11, 'high': 214.2, 'low': 208.83, 'close': 213.31, 'adjusted_close': 212.8292, 'volume': 47161100}, {'date': '2024-08-09', 'open': 212.1, 'high': 216.78, 'low': 211.97, 'close': 216.24, 'adjusted_close': 215.7526, 'volume': 42201600}, {'date': '2024-08-12', 'open': 216.07, 'high': 219.51, 'low': 215.6, 'close': 217.53, 'adjusted_close': 217.2909, 'volume': 38028100}, {'date': '2024-08-13', 'open': 219.01, 'high': 221.89, 'low': 219.01, 'close': 221.27, 'adjusted_close': 221.0268, 'volume': 44155300}, {'date': '2024-08-14', 'open': 220.57, 'high': 223.03, 'low': 219.7, 'close': 221.72, 'adjusted_close': 221.4763, 'volume': 41960600}, {'date': '2024-08-15', 'open': 224.6, 'high': 225.35, 'low': 222.76, 'close': 224.72, 'adjusted_close': 224.473, 'volume': 46414000}]\n",
            "[{'date': '2024-07-01', 'open': 448.66, 'high': 457.37, 'low': 445.66, 'close': 456.73, 'adjusted_close': 454.9975, 'volume': 17662800}, {'date': '2024-07-02', 'open': 453.2, 'high': 459.59, 'low': 453.11, 'close': 459.28, 'adjusted_close': 457.5379, 'volume': 13979800}, {'date': '2024-07-03', 'open': 458.19, 'high': 461.02, 'low': 457.88, 'close': 460.77, 'adjusted_close': 459.0222, 'volume': 9932800}, {'date': '2024-07-05', 'open': 459.61, 'high': 468.35, 'low': 458.97, 'close': 467.56, 'adjusted_close': 465.7864, 'volume': 16000300}, {'date': '2024-07-08', 'open': 466.55, 'high': 467.7, 'low': 464.46, 'close': 466.24, 'adjusted_close': 464.4715, 'volume': 12962300}, {'date': '2024-07-09', 'open': 467, 'high': 467.33, 'low': 458, 'close': 459.54, 'adjusted_close': 457.7969, 'volume': 17207200}, {'date': '2024-07-10', 'open': 461.22, 'high': 466.46, 'low': 458.86, 'close': 466.25, 'adjusted_close': 464.4814, 'volume': 18196100}, {'date': '2024-07-11', 'open': 462.98, 'high': 464.78, 'low': 451.55, 'close': 454.7, 'adjusted_close': 452.9752, 'volume': 23111200}, {'date': '2024-07-12', 'open': 454.33, 'high': 456.36, 'low': 450.65, 'close': 453.55, 'adjusted_close': 451.8296, 'volume': 16324300}, {'date': '2024-07-15', 'open': 453.3, 'high': 457.26, 'low': 451.43, 'close': 453.96, 'adjusted_close': 452.238, 'volume': 14429400}, {'date': '2024-07-16', 'open': 454.22, 'high': 454.3, 'low': 446.66, 'close': 449.52, 'adjusted_close': 447.8149, 'volume': 17175700}, {'date': '2024-07-17', 'open': 442.59, 'high': 444.85, 'low': 439.18, 'close': 443.52, 'adjusted_close': 441.8376, 'volume': 21778000}, {'date': '2024-07-18', 'open': 444.34, 'high': 444.65, 'low': 434.4, 'close': 440.37, 'adjusted_close': 438.6996, 'volume': 20794800}, {'date': '2024-07-19', 'open': 433.1, 'high': 441.14, 'low': 432, 'close': 437.11, 'adjusted_close': 435.4519, 'volume': 20940400}, {'date': '2024-07-22', 'open': 441.79, 'high': 444.6, 'low': 438.91, 'close': 442.94, 'adjusted_close': 441.2598, 'volume': 15808800}, {'date': '2024-07-23', 'open': 443.9, 'high': 448.39, 'low': 443.1, 'close': 444.85, 'adjusted_close': 443.1626, 'volume': 13107100}, {'date': '2024-07-24', 'open': 440.45, 'high': 441.48, 'low': 427.59, 'close': 428.9, 'adjusted_close': 427.2731, 'volume': 26805800}, {'date': '2024-07-25', 'open': 428.8, 'high': 429.8, 'low': 417.51, 'close': 418.4, 'adjusted_close': 416.8129, 'volume': 29943800}, {'date': '2024-07-26', 'open': 418.2, 'high': 428.92, 'low': 417.27, 'close': 425.27, 'adjusted_close': 423.6569, 'volume': 23583800}, {'date': '2024-07-29', 'open': 431.58, 'high': 432.15, 'low': 424.7, 'close': 426.73, 'adjusted_close': 425.1113, 'volume': 15125800}, {'date': '2024-07-30', 'open': 427.72, 'high': 429.05, 'low': 417.36, 'close': 422.92, 'adjusted_close': 421.3158, 'volume': 32687600}, {'date': '2024-07-31', 'open': 420.5, 'high': 421.78, 'low': 412.21, 'close': 418.35, 'adjusted_close': 416.7631, 'volume': 42891400}, {'date': '2024-08-01', 'open': 420.79, 'high': 427.46, 'low': 413.09, 'close': 417.11, 'adjusted_close': 415.5278, 'volume': 30296400}, {'date': '2024-08-02', 'open': 412.49, 'high': 415, 'low': 404.34, 'close': 408.49, 'adjusted_close': 406.9405, 'volume': 29437900}, {'date': '2024-08-05', 'open': 389.17, 'high': 401.04, 'low': 385.58, 'close': 395.15, 'adjusted_close': 393.6511, 'volume': 40709200}, {'date': '2024-08-06', 'open': 400, 'high': 405.67, 'low': 398.5, 'close': 399.61, 'adjusted_close': 398.0942, 'volume': 24946500}, {'date': '2024-08-07', 'open': 408.64, 'high': 410.08, 'low': 397.47, 'close': 398.43, 'adjusted_close': 396.9187, 'volume': 20650900}, {'date': '2024-08-08', 'open': 402.44, 'high': 405.86, 'low': 399.94, 'close': 402.69, 'adjusted_close': 401.1625, 'volume': 20203000}, {'date': '2024-08-09', 'open': 404.03, 'high': 408.05, 'low': 402.26, 'close': 406.02, 'adjusted_close': 404.4799, 'volume': 19276700}, {'date': '2024-08-12', 'open': 407.06, 'high': 408.76, 'low': 404.24, 'close': 406.81, 'adjusted_close': 405.2669, 'volume': 16762900}, {'date': '2024-08-13', 'open': 409.59, 'high': 414.95, 'low': 409.57, 'close': 414.01, 'adjusted_close': 412.4396, 'volume': 19414300}, {'date': '2024-08-14', 'open': 414.8, 'high': 417.72, 'low': 412.45, 'close': 416.86, 'adjusted_close': 415.2788, 'volume': 18267000}, {'date': '2024-08-15', 'open': 419.8, 'high': 421.11, 'low': 417.66, 'close': 421.03, 'adjusted_close': 420.1889, 'volume': 20752100}]\n",
            "[{'date': '2024-07-01', 'open': 193.49, 'high': 198.2957, 'low': 192.82, 'close': 197.2, 'adjusted_close': 197.2, 'volume': 41192008}, {'date': '2024-07-02', 'open': 197.28, 'high': 200.43, 'low': 195.93, 'close': 200, 'adjusted_close': 200, 'volume': 45600008}, {'date': '2024-07-03', 'open': 199.94, 'high': 200.029, 'low': 196.7601, 'close': 197.59, 'adjusted_close': 197.59, 'volume': 31597930}, {'date': '2024-07-05', 'open': 198.65, 'high': 200.55, 'low': 198.17, 'close': 200, 'adjusted_close': 200, 'volume': 39858887}, {'date': '2024-07-08', 'open': 200.04, 'high': 201.2, 'low': 197.96, 'close': 199.29, 'adjusted_close': 199.29, 'volume': 34767262}, {'date': '2024-07-09', 'open': 199.4, 'high': 200.57, 'low': 199.045, 'close': 199.34, 'adjusted_close': 199.34, 'volume': 32756740}, {'date': '2024-07-10', 'open': 199.995, 'high': 200.11, 'low': 197.69, 'close': 199.79, 'adjusted_close': 199.79, 'volume': 32883750}, {'date': '2024-07-11', 'open': 200.09, 'high': 200.2699, 'low': 192.86, 'close': 195.05, 'adjusted_close': 195.05, 'volume': 44565039}, {'date': '2024-07-12', 'open': 194.8, 'high': 196.47, 'low': 193.8301, 'close': 194.49, 'adjusted_close': 194.49, 'volume': 30598529}, {'date': '2024-07-15', 'open': 194.56, 'high': 196.19, 'low': 190.83, 'close': 192.72, 'adjusted_close': 192.72, 'volume': 40683230}, {'date': '2024-07-16', 'open': 195.59, 'high': 196.62, 'low': 192.24, 'close': 193.02, 'adjusted_close': 193.02, 'volume': 33994711}, {'date': '2024-07-17', 'open': 191.35, 'high': 191.58, 'low': 185.99, 'close': 187.93, 'adjusted_close': 187.93, 'volume': 48076141}, {'date': '2024-07-18', 'open': 189.59, 'high': 189.68, 'low': 181.448, 'close': 183.75, 'adjusted_close': 183.75, 'volume': 51043633}, {'date': '2024-07-19', 'open': 181.14, 'high': 184.93, 'low': 180.11, 'close': 183.13, 'adjusted_close': 183.13, 'volume': 43081832}, {'date': '2024-07-22', 'open': 185, 'high': 185.06, 'low': 182.48, 'close': 182.55, 'adjusted_close': 182.55, 'volume': 39931922}, {'date': '2024-07-23', 'open': 184.1, 'high': 189.39, 'low': 183.56, 'close': 186.41, 'adjusted_close': 186.41, 'volume': 47537672}, {'date': '2024-07-24', 'open': 183.2, 'high': 185.45, 'low': 180.41, 'close': 180.83, 'adjusted_close': 180.83, 'volume': 41532359}, {'date': '2024-07-25', 'open': 182.91, 'high': 183.8958, 'low': 176.8, 'close': 179.85, 'adjusted_close': 179.85, 'volume': 44464160}, {'date': '2024-07-26', 'open': 180.39, 'high': 183.19, 'low': 180.24, 'close': 182.5, 'adjusted_close': 182.5, 'volume': 29505961}, {'date': '2024-07-29', 'open': 183.84, 'high': 184.75, 'low': 182.38, 'close': 183.2, 'adjusted_close': 183.2, 'volume': 33270121}, {'date': '2024-07-30', 'open': 184.72, 'high': 185.86, 'low': 179.38, 'close': 181.71, 'adjusted_close': 181.71, 'volume': 39508566}, {'date': '2024-07-31', 'open': 185.05, 'high': 187.94, 'low': 184.46, 'close': 186.98, 'adjusted_close': 186.98, 'volume': 41667328}, {'date': '2024-08-01', 'open': 189.285, 'high': 190.6, 'low': 181.87, 'close': 184.07, 'adjusted_close': 184.07, 'volume': 70435641}, {'date': '2024-08-02', 'open': 166.75, 'high': 168.77, 'low': 160.55, 'close': 167.9, 'adjusted_close': 167.9, 'volume': 141448406}, {'date': '2024-08-05', 'open': 154.21, 'high': 162.96, 'low': 151.61, 'close': 161.02, 'adjusted_close': 161.02, 'volume': 83149438}, {'date': '2024-08-06', 'open': 161.71, 'high': 165.08, 'low': 158.5404, 'close': 161.93, 'adjusted_close': 161.93, 'volume': 59950832}, {'date': '2024-08-07', 'open': 166.55, 'high': 167.58, 'low': 161.43, 'close': 162.77, 'adjusted_close': 162.77, 'volume': 48408238}, {'date': '2024-08-08', 'open': 165.165, 'high': 166.6899, 'low': 162.55, 'close': 165.8, 'adjusted_close': 165.8, 'volume': 44616207}, {'date': '2024-08-09', 'open': 166.4, 'high': 168.55, 'low': 165.85, 'close': 166.94, 'adjusted_close': 166.94, 'volume': 36401047}, {'date': '2024-08-12', 'open': 168.14, 'high': 168.55, 'low': 166.1101, 'close': 166.8, 'adjusted_close': 166.8, 'volume': 30072789}, {'date': '2024-08-13', 'open': 167.81, 'high': 171.04, 'low': 167.1, 'close': 170.23, 'adjusted_close': 170.23, 'volume': 39237922}, {'date': '2024-08-14', 'open': 172.11, 'high': 172.28, 'low': 168.86, 'close': 170.1, 'adjusted_close': 170.1, 'volume': 28843801}, {'date': '2024-08-15', 'open': 174.86, 'high': 177.91, 'low': 173.99, 'close': 177.59, 'adjusted_close': 177.59, 'volume': 51698512}]\n",
            "[{'date': '2024-07-01', 'open': 183.03, 'high': 183.88, 'low': 181.3, 'close': 182.99, 'adjusted_close': 182.7475, 'volume': 16006130}, {'date': '2024-07-02', 'open': 182.05, 'high': 185.57, 'low': 181.56, 'close': 185.24, 'adjusted_close': 184.9945, 'volume': 17372490}, {'date': '2024-07-03', 'open': 184.85, 'high': 186.09, 'low': 184, 'close': 185.82, 'adjusted_close': 185.5738, 'volume': 10242130}, {'date': '2024-07-05', 'open': 185.855, 'high': 190.86, 'low': 185.8, 'close': 190.6, 'adjusted_close': 190.3474, 'volume': 20967449}, {'date': '2024-07-08', 'open': 189.895, 'high': 190.17, 'low': 187.78, 'close': 189.03, 'adjusted_close': 188.7795, 'volume': 21035891}, {'date': '2024-07-09', 'open': 190.31, 'high': 191.36, 'low': 188.72, 'close': 188.98, 'adjusted_close': 188.7296, 'volume': 15141310}, {'date': '2024-07-10', 'open': 189.15, 'high': 191.75, 'low': 189.03, 'close': 191.18, 'adjusted_close': 190.9266, 'volume': 15952450}, {'date': '2024-07-11', 'open': 189.845, 'high': 190.86, 'low': 185.08, 'close': 185.57, 'adjusted_close': 185.3241, 'volume': 25625779}, {'date': '2024-07-12', 'open': 185.08, 'high': 187.11, 'low': 184.49, 'close': 185.07, 'adjusted_close': 184.8247, 'volume': 22898410}, {'date': '2024-07-15', 'open': 184.92, 'high': 188.24, 'low': 184.92, 'close': 186.53, 'adjusted_close': 186.2828, 'volume': 16474039}, {'date': '2024-07-16', 'open': 187.36, 'high': 188.68, 'low': 183.3736, 'close': 183.92, 'adjusted_close': 183.6763, 'volume': 18290721}, {'date': '2024-07-17', 'open': 182.965, 'high': 183.55, 'low': 179.9, 'close': 181.02, 'adjusted_close': 180.7801, 'volume': 20734070}, {'date': '2024-07-18', 'open': 181.93, 'high': 182.5, 'low': 176.47, 'close': 177.69, 'adjusted_close': 177.4545, 'volume': 25315730}, {'date': '2024-07-19', 'open': 178.88, 'high': 180.29, 'low': 177.13, 'close': 177.66, 'adjusted_close': 177.4246, 'volume': 18881891}, {'date': '2024-07-22', 'open': 180.59, 'high': 182.7, 'low': 180.23, 'close': 181.67, 'adjusted_close': 181.4292, 'volume': 24100350}, {'date': '2024-07-23', 'open': 182.05, 'high': 183.61, 'low': 181.54, 'close': 181.79, 'adjusted_close': 181.5491, 'volume': 36352711}, {'date': '2024-07-24', 'open': 173.6, 'high': 176.19, 'low': 171.82, 'close': 172.63, 'adjusted_close': 172.4012, 'volume': 49585199}, {'date': '2024-07-25', 'open': 172.52, 'high': 173.42, 'low': 167.19, 'close': 167.28, 'adjusted_close': 167.0583, 'volume': 44851969}, {'date': '2024-07-26', 'open': 167.15, 'high': 168.09, 'low': 164.06, 'close': 167, 'adjusted_close': 166.7787, 'volume': 41336887}, {'date': '2024-07-29', 'open': 168.83, 'high': 170.43, 'low': 167.99, 'close': 169.53, 'adjusted_close': 169.3053, 'volume': 20293820}, {'date': '2024-07-30', 'open': 170.24, 'high': 171.2299, 'low': 168.44, 'close': 170.29, 'adjusted_close': 170.0643, 'volume': 18959689}, {'date': '2024-07-31', 'open': 173.24, 'high': 174.245, 'low': 170.01, 'close': 171.54, 'adjusted_close': 171.3127, 'volume': 25729090}, {'date': '2024-08-01', 'open': 170.25, 'high': 174.05, 'low': 168.88, 'close': 170.76, 'adjusted_close': 170.5337, 'volume': 24531391}, {'date': '2024-08-02', 'open': 166.44, 'high': 168.51, 'low': 164.67, 'close': 166.66, 'adjusted_close': 166.4391, 'volume': 29130100}, {'date': '2024-08-05', 'open': 155.5, 'high': 164.43, 'low': 154.93, 'close': 159.25, 'adjusted_close': 159.039, 'volume': 53630672}, {'date': '2024-08-06', 'open': 159.33, 'high': 160.57, 'low': 156.41, 'close': 158.29, 'adjusted_close': 158.0802, 'volume': 49004559}, {'date': '2024-08-07', 'open': 161.25, 'high': 162.98, 'low': 158.47, 'close': 158.94, 'adjusted_close': 158.7294, 'volume': 25138570}, {'date': '2024-08-08', 'open': 160.51, 'high': 163.69, 'low': 160.21, 'close': 162.03, 'adjusted_close': 161.8153, 'volume': 25578840}, {'date': '2024-08-09', 'open': 160.01, 'high': 163.79, 'low': 159.06, 'close': 163.67, 'adjusted_close': 163.4531, 'volume': 28602289}, {'date': '2024-08-12', 'open': 164.35, 'high': 164.9, 'low': 161.84, 'close': 162.29, 'adjusted_close': 162.0749, 'volume': 15895290}, {'date': '2024-08-13', 'open': 163.41, 'high': 164.73, 'low': 162.97, 'close': 164.16, 'adjusted_close': 163.9425, 'volume': 18551689}, {'date': '2024-08-14', 'open': 162.4, 'high': 163.22, 'low': 157.71, 'close': 160.37, 'adjusted_close': 160.1575, 'volume': 40591129}, {'date': '2024-08-15', 'open': 160.5, 'high': 161.635, 'low': 159.61, 'close': 161.3, 'adjusted_close': 161.0862, 'volume': 31524250}]\n",
            "[{'date': '2024-07-01', 'open': 504.95, 'high': 506.58, 'low': 493.17, 'close': 504.68, 'adjusted_close': 504.199, 'volume': 10328150}, {'date': '2024-07-02', 'open': 500.76, 'high': 510.5, 'low': 499.45, 'close': 509.5, 'adjusted_close': 509.0144, 'volume': 7739479}, {'date': '2024-07-03', 'open': 506.37, 'high': 511.28, 'low': 506.02, 'close': 509.96, 'adjusted_close': 509.474, 'volume': 6005615}, {'date': '2024-07-05', 'open': 511.6, 'high': 540.87, 'low': 511.6, 'close': 539.91, 'adjusted_close': 539.3954, 'volume': 21354090}, {'date': '2024-07-08', 'open': 542.35, 'high': 542.81, 'low': 526.65, 'close': 529.32, 'adjusted_close': 528.8155, 'volume': 14917500}, {'date': '2024-07-09', 'open': 533.75, 'high': 537.48, 'low': 528.1901, 'close': 530, 'adjusted_close': 529.4949, 'volume': 8769088}, {'date': '2024-07-10', 'open': 530.79, 'high': 538.88, 'low': 528.36, 'close': 534.69, 'adjusted_close': 534.1804, 'volume': 10983280}, {'date': '2024-07-11', 'open': 530.89, 'high': 535.46, 'low': 508.3733, 'close': 512.7, 'adjusted_close': 512.2114, 'volume': 16458250}, {'date': '2024-07-12', 'open': 497.755, 'high': 508.09, 'low': 494.23, 'close': 498.87, 'adjusted_close': 498.3945, 'volume': 19750539}, {'date': '2024-07-15', 'open': 498.63, 'high': 506.6799, 'low': 493.37, 'close': 496.16, 'adjusted_close': 495.6871, 'volume': 12539160}, {'date': '2024-07-16', 'open': 501.5, 'high': 503.9499, 'low': 485.79, 'close': 489.79, 'adjusted_close': 489.3232, 'volume': 14075830}, {'date': '2024-07-17', 'open': 479.17, 'high': 479.17, 'low': 459.12, 'close': 461.99, 'adjusted_close': 461.5497, 'volume': 28076600}, {'date': '2024-07-18', 'open': 475, 'high': 479.2393, 'low': 464.54, 'close': 475.85, 'adjusted_close': 475.3965, 'volume': 19267160}, {'date': '2024-07-19', 'open': 476.06, 'high': 486.71, 'low': 475.71, 'close': 476.79, 'adjusted_close': 476.3356, 'volume': 15149420}, {'date': '2024-07-22', 'open': 486.575, 'high': 492.06, 'low': 483.9, 'close': 487.4, 'adjusted_close': 486.9355, 'volume': 12023090}, {'date': '2024-07-23', 'open': 489.84, 'high': 495.22, 'low': 487.72, 'close': 488.69, 'adjusted_close': 488.2242, 'volume': 9455527}, {'date': '2024-07-24', 'open': 472.305, 'high': 476.3, 'low': 460.58, 'close': 461.27, 'adjusted_close': 460.8304, 'volume': 17649740}, {'date': '2024-07-25', 'open': 463.26, 'high': 463.548, 'low': 442.65, 'close': 453.41, 'adjusted_close': 452.9779, 'volume': 18240490}, {'date': '2024-07-26', 'open': 464.195, 'high': 469.77, 'low': 459.42, 'close': 465.7, 'adjusted_close': 465.2562, 'volume': 14222390}, {'date': '2024-07-29', 'open': 469.88, 'high': 473.96, 'low': 465.02, 'close': 465.71, 'adjusted_close': 465.2661, 'volume': 11339630}, {'date': '2024-07-30', 'open': 467, 'high': 472.73, 'low': 456.7, 'close': 463.19, 'adjusted_close': 462.7485, 'volume': 11390440}, {'date': '2024-07-31', 'open': 471.02, 'high': 476.5, 'low': 466.75, 'close': 474.83, 'adjusted_close': 474.3775, 'volume': 24285779}, {'date': '2024-08-01', 'open': 521, 'high': 527.1709, 'low': 492.1, 'close': 497.74, 'adjusted_close': 497.2656, 'volume': 43083078}, {'date': '2024-08-02', 'open': 489, 'high': 501.145, 'low': 476.15, 'close': 488.14, 'adjusted_close': 487.6748, 'volume': 24044660}, {'date': '2024-08-05', 'open': 451.345, 'high': 483.48, 'low': 450.8, 'close': 475.73, 'adjusted_close': 475.2766, 'volume': 21396189}, {'date': '2024-08-06', 'open': 479, 'high': 502.56, 'low': 478.65, 'close': 494.09, 'adjusted_close': 493.6191, 'volume': 20954961}, {'date': '2024-08-07', 'open': 503.13, 'high': 510.15, 'low': 486.86, 'close': 488.92, 'adjusted_close': 488.454, 'volume': 20105311}, {'date': '2024-08-08', 'open': 497.5, 'high': 509.96, 'low': 494.72, 'close': 509.63, 'adjusted_close': 509.1443, 'volume': 16156840}, {'date': '2024-08-09', 'open': 507.71, 'high': 518.34, 'low': 505.7, 'close': 517.77, 'adjusted_close': 517.2765, 'volume': 13696640}, {'date': '2024-08-12', 'open': 516.86, 'high': 518.02, 'low': 509.1, 'close': 515.95, 'adjusted_close': 515.4583, 'volume': 9767422}, {'date': '2024-08-13', 'open': 520.01, 'high': 531.4999, 'low': 518.15, 'close': 528.54, 'adjusted_close': 528.0363, 'volume': 13743840}, {'date': '2024-08-14', 'open': 528.06, 'high': 534, 'low': 523.13, 'close': 526.76, 'adjusted_close': 526.258, 'volume': 11444190}, {'date': '2024-08-15', 'open': 531.79, 'high': 539.77, 'low': 526.7, 'close': 537.33, 'adjusted_close': 536.8179, 'volume': 13482140}]\n",
            "[{'date': '2024-07-01', 'open': 201.02, 'high': 213.23, 'low': 200.85, 'close': 209.86, 'adjusted_close': 209.86, 'volume': 135691391}, {'date': '2024-07-02', 'open': 218.89, 'high': 231.3, 'low': 218.06, 'close': 231.26, 'adjusted_close': 231.26, 'volume': 205047906}, {'date': '2024-07-03', 'open': 234.56, 'high': 248.35, 'low': 234.25, 'close': 246.39, 'adjusted_close': 246.39, 'volume': 166561500}, {'date': '2024-07-05', 'open': 249.81, 'high': 252.37, 'low': 242.4601, 'close': 251.52, 'adjusted_close': 251.52, 'volume': 154501203}, {'date': '2024-07-08', 'open': 247.71, 'high': 259.439, 'low': 244.57, 'close': 252.94, 'adjusted_close': 252.94, 'volume': 157219594}, {'date': '2024-07-09', 'open': 251, 'high': 265.61, 'low': 250.3, 'close': 262.33, 'adjusted_close': 262.33, 'volume': 160742500}, {'date': '2024-07-10', 'open': 262.8, 'high': 267.59, 'low': 257.86, 'close': 263.26, 'adjusted_close': 263.26, 'volume': 128519398}, {'date': '2024-07-11', 'open': 263.3, 'high': 271, 'low': 239.65, 'close': 241.03, 'adjusted_close': 241.03, 'volume': 221707297}, {'date': '2024-07-12', 'open': 235.8, 'high': 251.84, 'low': 233.0912, 'close': 248.23, 'adjusted_close': 248.23, 'volume': 155955812}, {'date': '2024-07-15', 'open': 255.97, 'high': 265.6, 'low': 251.73, 'close': 252.64, 'adjusted_close': 252.64, 'volume': 146912891}, {'date': '2024-07-16', 'open': 255.31, 'high': 258.62, 'low': 245.8001, 'close': 256.56, 'adjusted_close': 256.56, 'volume': 126332492}, {'date': '2024-07-17', 'open': 252.73, 'high': 258.47, 'low': 246.182, 'close': 248.5, 'adjusted_close': 248.5, 'volume': 115584797}, {'date': '2024-07-18', 'open': 251.09, 'high': 257.14, 'low': 247.2, 'close': 249.23, 'adjusted_close': 249.23, 'volume': 110869000}, {'date': '2024-07-19', 'open': 247.79, 'high': 249.44, 'low': 236.83, 'close': 239.2, 'adjusted_close': 239.2, 'volume': 87403906}, {'date': '2024-07-22', 'open': 244.21, 'high': 253.21, 'low': 243.75, 'close': 251.51, 'adjusted_close': 251.51, 'volume': 101225398}, {'date': '2024-07-23', 'open': 253.6, 'high': 255.7594, 'low': 245.63, 'close': 246.38, 'adjusted_close': 246.38, 'volume': 111928203}, {'date': '2024-07-24', 'open': 225.42, 'high': 225.99, 'low': 214.71, 'close': 215.99, 'adjusted_close': 215.99, 'volume': 167942891}, {'date': '2024-07-25', 'open': 216.8, 'high': 226, 'low': 216.231, 'close': 220.25, 'adjusted_close': 220.25, 'volume': 100636492}, {'date': '2024-07-26', 'open': 221.19, 'high': 222.2799, 'low': 215.33, 'close': 219.8, 'adjusted_close': 219.8, 'volume': 94604148}, {'date': '2024-07-29', 'open': 224.9, 'high': 234.27, 'low': 224.7, 'close': 232.1, 'adjusted_close': 232.1, 'volume': 129201797}, {'date': '2024-07-30', 'open': 232.25, 'high': 232.41, 'low': 220, 'close': 222.62, 'adjusted_close': 222.62, 'volume': 100560305}, {'date': '2024-07-31', 'open': 227.9, 'high': 234.68, 'low': 226.7875, 'close': 232.07, 'adjusted_close': 232.07, 'volume': 67497008}, {'date': '2024-08-01', 'open': 227.69, 'high': 231.867, 'low': 214.3328, 'close': 216.86, 'adjusted_close': 216.86, 'volume': 83861906}, {'date': '2024-08-02', 'open': 214.88, 'high': 216.13, 'low': 205.78, 'close': 207.67, 'adjusted_close': 207.67, 'volume': 82880117}, {'date': '2024-08-05', 'open': 185.22, 'high': 203.8799, 'low': 182, 'close': 198.88, 'adjusted_close': 198.88, 'volume': 100308797}, {'date': '2024-08-06', 'open': 200.75, 'high': 202.9, 'low': 192.67, 'close': 200.64, 'adjusted_close': 200.64, 'volume': 73783938}, {'date': '2024-08-07', 'open': 200.77, 'high': 203.49, 'low': 191.48, 'close': 191.76, 'adjusted_close': 191.76, 'volume': 71159773}, {'date': '2024-08-08', 'open': 195.7, 'high': 200.7, 'low': 192.04, 'close': 198.84, 'adjusted_close': 198.84, 'volume': 65033871}, {'date': '2024-08-09', 'open': 197.05, 'high': 200.88, 'low': 195.11, 'close': 200, 'adjusted_close': 200, 'volume': 58648273}, {'date': '2024-08-12', 'open': 199.02, 'high': 199.26, 'low': 194.67, 'close': 197.49, 'adjusted_close': 197.49, 'volume': 64044898}, {'date': '2024-08-13', 'open': 198.47, 'high': 208.49, 'low': 197.06, 'close': 207.83, 'adjusted_close': 207.83, 'volume': 76247391}, {'date': '2024-08-14', 'open': 207.39, 'high': 208.44, 'low': 198.75, 'close': 201.38, 'adjusted_close': 201.38, 'volume': 70250008}, {'date': '2024-08-15', 'open': 205.02, 'high': 215.88, 'low': 204.82, 'close': 214.14, 'adjusted_close': 214.14, 'volume': 89848531}]\n",
            "[{'date': '2024-07-01', 'open': 408.09, 'high': 409.67, 'low': 403.82, 'close': 405.19, 'adjusted_close': 405.19, 'volume': 2974100}, {'date': '2024-07-02', 'open': 404.02, 'high': 407.39, 'low': 403.92, 'close': 407.1, 'adjusted_close': 407.1, 'volume': 3220900}, {'date': '2024-07-03', 'open': 407.16, 'high': 407.16, 'low': 404.22, 'close': 405.77, 'adjusted_close': 405.77, 'volume': 1970300}, {'date': '2024-07-05', 'open': 406.24, 'high': 411.4, 'low': 405.03, 'close': 411.17, 'adjusted_close': 411.17, 'volume': 5149200}, {'date': '2024-07-08', 'open': 411.27, 'high': 413.79, 'low': 408, 'close': 409.08, 'adjusted_close': 409.08, 'volume': 3559500}, {'date': '2024-07-09', 'open': 409.42, 'high': 413.71, 'low': 408.64, 'close': 410.52, 'adjusted_close': 410.52, 'volume': 2989700}, {'date': '2024-07-10', 'open': 410.81, 'high': 413.96, 'low': 409.4, 'close': 413.79, 'adjusted_close': 413.79, 'volume': 3791800}, {'date': '2024-07-11', 'open': 413.99, 'high': 419.2, 'low': 412, 'close': 418.78, 'adjusted_close': 418.78, 'volume': 4073570}, {'date': '2024-07-12', 'open': 420.23, 'high': 427.45, 'low': 419.7, 'close': 424.44, 'adjusted_close': 424.44, 'volume': 4828500}, {'date': '2024-07-15', 'open': 425.59, 'high': 434.71, 'low': 425.3, 'close': 434.42, 'adjusted_close': 434.42, 'volume': 4594900}, {'date': '2024-07-16', 'open': 437.4, 'high': 439.05, 'low': 434.02, 'close': 438.9, 'adjusted_close': 438.9, 'volume': 4293700}, {'date': '2024-07-17', 'open': 437.85, 'high': 446.15, 'low': 437.84, 'close': 445.61, 'adjusted_close': 445.61, 'volume': 4776600}, {'date': '2024-07-18', 'open': 445.62, 'high': 449.25, 'low': 439.57, 'close': 441.82, 'adjusted_close': 441.82, 'volume': 4638300}, {'date': '2024-07-19', 'open': 442.67, 'high': 442.8, 'low': 433.35, 'close': 434.47, 'adjusted_close': 434.47, 'volume': 4158800}, {'date': '2024-07-22', 'open': 435.05, 'high': 438.11, 'low': 432.12, 'close': 435.98, 'adjusted_close': 435.98, 'volume': 2995700}, {'date': '2024-07-23', 'open': 437.34, 'high': 437.92, 'low': 433.47, 'close': 434.01, 'adjusted_close': 434.01, 'volume': 2393000}, {'date': '2024-07-24', 'open': 433.99, 'high': 435.41, 'low': 430.73, 'close': 432.8, 'adjusted_close': 432.8, 'volume': 3143700}, {'date': '2024-07-25', 'open': 431.6, 'high': 439.63, 'low': 431.6, 'close': 433.29, 'adjusted_close': 433.29, 'volume': 3334300}, {'date': '2024-07-26', 'open': 435.66, 'high': 439, 'low': 434.1, 'close': 437.66, 'adjusted_close': 437.66, 'volume': 2717600}, {'date': '2024-07-29', 'open': 438.01, 'high': 439.44, 'low': 435.49, 'close': 438.31, 'adjusted_close': 438.31, 'volume': 2620000}, {'date': '2024-07-30', 'open': 439.51, 'high': 443.89, 'low': 439.14, 'close': 441.26, 'adjusted_close': 441.26, 'volume': 3736400}, {'date': '2024-07-31', 'open': 439.85, 'high': 440.85, 'low': 437.74, 'close': 438.5, 'adjusted_close': 438.5, 'volume': 3798800}, {'date': '2024-08-01', 'open': 439.67, 'high': 440.61, 'low': 430.95, 'close': 431.81, 'adjusted_close': 431.81, 'volume': 3892300}, {'date': '2024-08-02', 'open': 429.77, 'high': 436.25, 'low': 423.49, 'close': 428.36, 'adjusted_close': 428.36, 'volume': 4251500}, {'date': '2024-08-05', 'open': 413.43, 'high': 417.82, 'low': 406.11, 'close': 413.72, 'adjusted_close': 413.72, 'volume': 7695125}, {'date': '2024-08-06', 'open': 416.41, 'high': 427.46, 'low': 415.1, 'close': 422.14, 'adjusted_close': 422.14, 'volume': 5138707}, {'date': '2024-08-07', 'open': 426.07, 'high': 433.17, 'low': 425.6, 'close': 427.02, 'adjusted_close': 427.02, 'volume': 4745600}, {'date': '2024-08-08', 'open': 429.24, 'high': 432.26, 'low': 427.6, 'close': 431.54, 'adjusted_close': 431.54, 'volume': 3150000}, {'date': '2024-08-09', 'open': 431.92, 'high': 434.75, 'low': 430.21, 'close': 431.67, 'adjusted_close': 431.67, 'volume': 2602600}, {'date': '2024-08-12', 'open': 434.16, 'high': 434.16, 'low': 429.01, 'close': 430.39, 'adjusted_close': 430.39, 'volume': 2376000}, {'date': '2024-08-13', 'open': 431.83, 'high': 432.81, 'low': 425.9, 'close': 432.41, 'adjusted_close': 432.41, 'volume': 3472000}, {'date': '2024-08-14', 'open': 433, 'high': 438.98, 'low': 431.71, 'close': 438.47, 'adjusted_close': 438.47, 'volume': 2860200}, {'date': '2024-08-15', 'open': 441.8, 'high': 442.59, 'low': 438.72, 'close': 440.84, 'adjusted_close': 440.84, 'volume': 3226400}]\n",
            "[{'date': '2024-07-01', 'open': 174.24, 'high': 175.3, 'low': 170.45, 'close': 172.33, 'adjusted_close': 171.6963, 'volume': 10716980}, {'date': '2024-07-02', 'open': 171.13, 'high': 176.71, 'low': 171.03, 'close': 175.7, 'adjusted_close': 175.0539, 'volume': 10655490}, {'date': '2024-07-03', 'open': 177.99, 'high': 182.49, 'low': 177.88, 'close': 182.49, 'adjusted_close': 181.8189, 'volume': 11808740}, {'date': '2024-07-05', 'open': 184.14, 'high': 185.08, 'low': 182.3, 'close': 183.99, 'adjusted_close': 183.3134, 'volume': 11372880}, {'date': '2024-07-08', 'open': 190, 'high': 192.8, 'low': 185.13, 'close': 186.63, 'adjusted_close': 185.9437, 'volume': 22582400}, {'date': '2024-07-09', 'open': 188.09, 'high': 188.44, 'low': 182.5, 'close': 184.52, 'adjusted_close': 183.8415, 'volume': 19972039}, {'date': '2024-07-10', 'open': 188.28, 'high': 191.42, 'low': 186.7, 'close': 191.05, 'adjusted_close': 190.3474, 'volume': 19293520}, {'date': '2024-07-11', 'open': 193.09, 'high': 193.47, 'low': 183.01, 'close': 184.5, 'adjusted_close': 183.8215, 'volume': 21584170}, {'date': '2024-07-12', 'open': 183.07, 'high': 190.38, 'low': 182.75, 'close': 187.35, 'adjusted_close': 186.661, 'volume': 19220330}, {'date': '2024-07-15', 'open': 188.68, 'high': 190.06, 'low': 184.08, 'close': 185.22, 'adjusted_close': 184.5389, 'volume': 15683110}, {'date': '2024-07-16', 'open': 188.27, 'high': 189.59, 'low': 185.02, 'close': 186.04, 'adjusted_close': 185.3559, 'volume': 16663311}, {'date': '2024-07-17', 'open': 175.215, 'high': 176.58, 'low': 170.51, 'close': 171.2, 'adjusted_close': 170.5704, 'volume': 45052594}, {'date': '2024-07-18', 'open': 175.5, 'high': 178.69, 'low': 164.51, 'close': 171.87, 'adjusted_close': 171.238, 'volume': 52903621}, {'date': '2024-07-19', 'open': 169.17, 'high': 170.52, 'low': 165.22, 'close': 165.77, 'adjusted_close': 165.1604, 'volume': 22585301}, {'date': '2024-07-22', 'open': 166.61, 'high': 170.88, 'low': 166.18, 'close': 169.35, 'adjusted_close': 168.7272, 'volume': 21037199}, {'date': '2024-07-23', 'open': 169.42, 'high': 171.54, 'low': 167.9666, 'close': 169.82, 'adjusted_close': 169.1955, 'volume': 11690670}, {'date': '2024-07-24', 'open': 165.09, 'high': 165.45, 'low': 159.59, 'close': 159.8, 'adjusted_close': 159.2124, 'volume': 19536580}, {'date': '2024-07-25', 'open': 158.16, 'high': 163.4, 'low': 152.11, 'close': 160.28, 'adjusted_close': 159.6906, 'volume': 25731750}, {'date': '2024-07-26', 'open': 164.3, 'high': 164.59, 'low': 159.19, 'close': 161.94, 'adjusted_close': 161.3445, 'volume': 13089170}, {'date': '2024-07-29', 'open': 162.68, 'high': 163.23, 'low': 158.63, 'close': 160.01, 'adjusted_close': 159.4216, 'volume': 12663080}, {'date': '2024-07-30', 'open': 160.44, 'high': 161.1499, 'low': 152.55, 'close': 154.54, 'adjusted_close': 153.9717, 'volume': 22017961}, {'date': '2024-07-31', 'open': 163.77, 'high': 166.65, 'low': 162.07, 'close': 165.8, 'adjusted_close': 165.1903, 'volume': 19860381}, {'date': '2024-08-01', 'open': 163.48, 'high': 167.665, 'low': 156.84, 'close': 158.18, 'adjusted_close': 157.5983, 'volume': 21095641}, {'date': '2024-08-02', 'open': 151.25, 'high': 153.86, 'low': 146.89, 'close': 149.86, 'adjusted_close': 149.3089, 'volume': 31095270}, {'date': '2024-08-05', 'open': 133.86, 'high': 150, 'low': 133.57, 'close': 147.95, 'adjusted_close': 147.4059, 'volume': 31193150}, {'date': '2024-08-06', 'open': 150.44, 'high': 157.71, 'low': 147.72, 'close': 155.39, 'adjusted_close': 154.8186, 'volume': 24528070}, {'date': '2024-08-07', 'open': 161.55, 'high': 162.65, 'low': 154.52, 'close': 155.04, 'adjusted_close': 154.4699, 'volume': 22379010}, {'date': '2024-08-08', 'open': 159.27, 'high': 164.75, 'low': 155.54, 'close': 164.55, 'adjusted_close': 163.9449, 'volume': 18889641}, {'date': '2024-08-09', 'open': 166.32, 'high': 167.8, 'low': 163.24, 'close': 167.12, 'adjusted_close': 166.5054, 'volume': 20519410}, {'date': '2024-08-12', 'open': 166, 'high': 169.53, 'low': 165.54, 'close': 167.63, 'adjusted_close': 167.0136, 'volume': 14727280}, {'date': '2024-08-13', 'open': 168, 'high': 172.45, 'low': 166.34, 'close': 172.34, 'adjusted_close': 171.7062, 'volume': 15243470}, {'date': '2024-08-14', 'open': 171.88, 'high': 172.51, 'low': 167.19, 'close': 169.97, 'adjusted_close': 169.345, 'volume': 11510310}, {'date': '2024-08-15', 'open': 172.43, 'high': 175.44, 'low': 170.82, 'close': 173.96, 'adjusted_close': 173.3203, 'volume': 15393530}]\n",
            "[{'date': '2024-07-01', 'open': 1608.2, 'high': 1648.75, 'low': 1593.5, 'close': 1640.8, 'adjusted_close': 163.5421, 'volume': 47623440}, {'date': '2024-07-02', 'open': 1640.8, 'high': 1659.2, 'low': 1622, 'close': 1657.48, 'adjusted_close': 165.2046, 'volume': 32538840}, {'date': '2024-07-03', 'open': 1670, 'high': 1729.22, 'low': 1664.46, 'close': 1729.22, 'adjusted_close': 172.3551, 'volume': 39953820}, {'date': '2024-07-05', 'open': 1755.56, 'high': 1765.47, 'low': 1696, 'close': 1703.31, 'adjusted_close': 169.7726, 'volume': 45240480}, {'date': '2024-07-08', 'open': 1705, 'high': 1756.9, 'low': 1705, 'close': 1745.86, 'adjusted_close': 174.0137, 'volume': 36398460}, {'date': '2024-07-09', 'open': 1756.56, 'high': 1770.98, 'low': 1705.56, 'close': 1733.31, 'adjusted_close': 172.7628, 'volume': 37916210}, {'date': '2024-07-10', 'open': 1746, 'high': 1766.49, 'low': 1726.363, 'close': 1744.69, 'adjusted_close': 173.897, 'volume': 41074200}, {'date': '2024-07-11', 'open': 1764.66, 'high': 1764.87, 'low': 1668.5, 'close': 1705.95, 'adjusted_close': 170.0357, 'volume': 51111680}, {'date': '2024-07-12', 'open': 1711.03, 'high': 1725.91, 'low': 1691.31, 'close': 1700.67, 'adjusted_close': 169.5095, 'volume': 30453000}, {'date': '2024-07-15', 'open': 170, 'high': 173.5099, 'low': 169.26, 'close': 171.42, 'adjusted_close': 170.858, 'volume': 22999201}, {'date': '2024-07-16', 'open': 172.4, 'high': 172.81, 'low': 166.4, 'close': 169.375, 'adjusted_close': 168.8197, 'volume': 22244943}, {'date': '2024-07-17', 'open': 162.31, 'high': 162.84, 'low': 155.61, 'close': 155.98, 'adjusted_close': 155.4687, 'volume': 43343355}, {'date': '2024-07-18', 'open': 158.89, 'high': 161.51, 'low': 153.9, 'close': 160.52, 'adjusted_close': 159.9938, 'volume': 37973498}, {'date': '2024-07-19', 'open': 161.84, 'high': 163.95, 'low': 157.12, 'close': 157.35, 'adjusted_close': 156.8342, 'volume': 26309545}, {'date': '2024-07-22', 'open': 160.23, 'high': 162.99, 'low': 157.9, 'close': 161.06, 'adjusted_close': 160.532, 'volume': 28813334}, {'date': '2024-07-23', 'open': 160.395, 'high': 165.33, 'low': 159.9, 'close': 163.77, 'adjusted_close': 163.2331, 'volume': 21570177}, {'date': '2024-07-24', 'open': 160.355, 'high': 161.405, 'low': 151.1, 'close': 151.34, 'adjusted_close': 150.8439, 'volume': 37162620}, {'date': '2024-07-25', 'open': 151.26, 'high': 153.55, 'low': 145.52, 'close': 149.26, 'adjusted_close': 148.7707, 'volume': 30872127}, {'date': '2024-07-26', 'open': 153.5, 'high': 153.58, 'low': 149.9202, 'close': 151.63, 'adjusted_close': 151.1329, 'volume': 20839871}, {'date': '2024-07-29', 'open': 152.02, 'high': 155, 'low': 149.15, 'close': 150.22, 'adjusted_close': 149.7275, 'volume': 16625762}, {'date': '2024-07-30', 'open': 153.28, 'high': 153.47, 'low': 143.35, 'close': 143.52, 'adjusted_close': 143.0495, 'volume': 31102341}, {'date': '2024-07-31', 'open': 151.47, 'high': 161.33, 'low': 151, 'close': 160.68, 'adjusted_close': 160.1532, 'volume': 45827511}, {'date': '2024-08-01', 'open': 157.5, 'high': 158.91, 'low': 146.17, 'close': 147.02, 'adjusted_close': 146.538, 'volume': 40319955}, {'date': '2024-08-02', 'open': 141.925, 'high': 145.35, 'low': 139.6, 'close': 143.82, 'adjusted_close': 143.3485, 'volume': 33745843}, {'date': '2024-08-05', 'open': 129.61, 'high': 145.42, 'low': 128.5, 'close': 142.08, 'adjusted_close': 141.6142, 'volume': 41309257}, {'date': '2024-08-06', 'open': 141.73, 'high': 148.91, 'low': 140.25, 'close': 143.92, 'adjusted_close': 143.4482, 'volume': 24751290}, {'date': '2024-08-07', 'open': 148.25, 'high': 150.1, 'low': 135.83, 'close': 136.27, 'adjusted_close': 135.8233, 'volume': 29749755}, {'date': '2024-08-08', 'open': 141.2, 'high': 146.27, 'low': 138.4, 'close': 145.74, 'adjusted_close': 145.2622, 'volume': 27583199}, {'date': '2024-08-09', 'open': 144.2, 'high': 149.55, 'low': 144.11, 'close': 148.26, 'adjusted_close': 147.774, 'volume': 18438655}, {'date': '2024-08-12', 'open': 148.08, 'high': 151.13, 'low': 146.37, 'close': 148.62, 'adjusted_close': 148.1328, 'volume': 17778473}, {'date': '2024-08-13', 'open': 151.55, 'high': 156.38, 'low': 149.81, 'close': 156.16, 'adjusted_close': 155.6481, 'volume': 22053604}, {'date': '2024-08-14', 'open': 158.02, 'high': 160.25, 'low': 154.72, 'close': 157.69, 'adjusted_close': 157.173, 'volume': 20184199}, {'date': '2024-08-15', 'open': 161.2, 'high': 166.67, 'low': 160.3351, 'close': 166.13, 'adjusted_close': 165.5854, 'volume': 27944968}]\n"
          ]
        }
      ]
    },
    {
      "cell_type": "code",
      "source": [
        "import requests\n",
        "\n",
        "url = f'https://eodhd.com/api/news?s=AAPL.US&offset=0&limit=10&api_token=67544afe43fa78.34659758&fmt=json'\n",
        "data = requests.get(url).json()\n",
        "\n",
        "print(data)"
      ],
      "metadata": {
        "colab": {
          "base_uri": "https://localhost:8080/"
        },
        "id": "YK9cGFh5XWNK",
        "outputId": "a09f5113-a995-4b0d-c903-178477e811e9"
      },
      "execution_count": null,
      "outputs": [
        {
          "output_type": "stream",
          "name": "stdout",
          "text": [
            "[{'date': '2024-12-07T00:28:00+00:00', 'title': 'CFPB Moves to Supervise Google Payments Under New Rules', 'content': 'The Consumer Financial Protection Bureau said it determined that the platform meets the legal requirements for supervision under new rules.\\n\\nContinue reading\\n\\nView comments', 'link': 'https://finance.yahoo.com/m/4951b614-1b08-307a-bf56-fb4abf21e3bf/cfpb-moves-to-supervise.html', 'symbols': ['0R2V.IL', '0RIH.IL', '0RIH.LSE', '1GOOG.MI', '1GOOGL.MI', '2PP.F', '2PP.STU', '2PP.XETRA', '2PP0.F', 'AAPL.BA', 'AAPL.MX', 'AAPL.NEO', 'AAPL.SN', 'AAPL.US', 'AAPL34.SA', 'ABE0.F', 'ABEA.F', 'ABEA.STU', 'ABEA.XETRA', 'ABEC.F'], 'tags': [], 'sentiment': {'polarity': 0.44, 'neg': 0, 'neu': 0.849, 'pos': 0.151}}, {'date': '2024-12-05T00:00:00+00:00', 'title': \"Here's Why Warren Buffett and Berkshire Hathaway May Change Their Investing Strategy With Donald Trump as President\", 'content': \"Here's Why Warren Buffett and Berkshire Hathaway May Change Their Investing Strategy With Donald Trump as President\", 'link': 'https://www.fool.com/investing/2024/12/05/heres-why-warren-buffett-and-berkshire-hathaway-ma/', 'symbols': ['AAPL.US'], 'tags': [], 'sentiment': {'polarity': 0, 'neg': 0, 'neu': 1, 'pos': 0}}, {'date': '2024-12-05T00:00:00+00:00', 'title': 'Where Will Apple Stock Be in 2 Years?', 'content': 'Where Will Apple Stock Be in 2 Years?', 'link': 'https://www.fool.com/investing/2024/12/05/where-will-apple-stock-be-in-2-years/', 'symbols': ['AAPL.US'], 'tags': [], 'sentiment': {'polarity': 0, 'neg': 0, 'neu': 1, 'pos': 0}}, {'date': '2024-12-03T00:00:00+00:00', 'title': '2 Sensational Stocks \"Britain\\'s Warren Buffett,\" Terry Smith, Wants to Own for 2025', 'content': \"Two industry-leading tech companies -- which aren't exactly value stocks -- have been top buys for Fundsmith's traditionally value-focused billionaire chief, Terry Smith.\", 'link': 'https://www.fool.com/investing/2024/12/03/2-stocks-britain-warren-buffett-wants-to-own-2025/', 'symbols': ['AAPL.US'], 'tags': [], 'sentiment': {'polarity': 0.1, 'neg': 0.058, 'neu': 0.867, 'pos': 0.074}}, {'date': '2024-12-02T21:30:27+00:00', 'title': 'Apple Is IBD Stock Of The Day As Wall Street Eyes iPhone 16 Demand, AI Software Upgrade', 'content': 'Apple is the IBD Stock Of The Day as Wall Street focuses on iPhone 16 demand amid the holiday shopping season and iOS 18 release with AI features.\\n\\nContinue reading\\n\\nView comments', 'link': 'https://finance.yahoo.com/m/ca2d1a4a-6d02-3183-ac7e-e7408152264c/apple-is-ibd-stock-of-the-day.html', 'symbols': ['0R2V.IL', 'AAPL.BA', 'AAPL.MX', 'AAPL.NEO', 'AAPL.SN', 'AAPL.US', 'AAPL34.SA', 'APC.BE', 'APC.DU', 'APC.F', 'APC.HA', 'APC.HM', 'APC.MU', 'APC.STU', 'APC.XETRA', 'APC8.F'], 'tags': [], 'sentiment': {'polarity': 0.296, 'neg': 0.044, 'neu': 0.877, 'pos': 0.079}}, {'date': '2024-12-02T18:36:46+00:00', 'title': 'Dow Jones Tech Titan Apple Breaking Out Today; Meta Stock Eyes New Entry', 'content': 'Dow Jones tech titan Apple stock is breaking out, while AI leader Meta stock is nearing a new buy point on the stock market today.\\n\\nContinue reading\\n\\nView comments', 'link': 'https://finance.yahoo.com/m/fe309558-0a93-337a-8e86-aaa5c0d5e14f/dow-jones-tech-titan-apple.html', 'symbols': ['0LCE.LSE', '0QZI.LSE', '0R2V.IL', '1FB.MI', 'AAPL.BA', 'AAPL.MX', 'AAPL.NEO', 'AAPL.SN', 'AAPL.US', 'AAPL34.SA', 'APC.BE', 'APC.DU', 'APC.F', 'APC.HA', 'APC.HM', 'APC.MU', 'APC.STU', 'APC.XETRA', 'APC8.F', 'EMBR3.SA'], 'tags': [], 'sentiment': {'polarity': 0, 'neg': 0, 'neu': 1, 'pos': 0}}, {'date': '2024-12-02T04:21:00+00:00', 'title': 'Building Apple Products Has Become a Side Hustle for China’s Biggest EV Maker', 'content': 'BYD has grown into a top iPad assembler and has put around 100,000 people to work for Tim Cook’s company.\\n\\nContinue reading\\n\\nView comments', 'link': 'https://finance.yahoo.com/m/b00c1d30-b7f2-3496-aa92-3878844ad25f/building-apple-products-has.html', 'symbols': ['0R2V.IL', '1NVDA.MI', '1TSLA.MI', 'AAPL.BA', 'AAPL.MX', 'AAPL.NEO', 'AAPL.SN', 'AAPL.US', 'AAPL34.SA', 'APC.BE', 'APC.DU', 'APC.F', 'APC.HA', 'APC.HM', 'APC.MU', 'APC.STU', 'APC.XETRA', 'APC8.F', 'BERK34.SA', 'BRH.BE'], 'tags': [], 'sentiment': {'polarity': 0.202, 'neg': 0, 'neu': 0.924, 'pos': 0.076}}, {'date': '2024-12-02T00:00:00+00:00', 'title': '1 Wall Street Analyst Thinks Apple Stock Is Going to $273. Is It a Buy?', 'content': '1 Wall Street Analyst Thinks Apple Stock Is Going to $273. Is It a Buy?', 'link': 'https://www.fool.com/investing/2024/12/02/wall-street-analyst-apple-stock-273-buy/', 'symbols': ['AAPL.US'], 'tags': [], 'sentiment': {'polarity': 0, 'neg': 0, 'neu': 1, 'pos': 0}}, {'date': '2024-12-02T00:00:00+00:00', 'title': 'Warren Buffett and Berkshire Hathaway Continue to Sell Apple Stock. Should You Follow Them?', 'content': 'Warren Buffett and Berkshire Hathaway Continue to Sell Apple Stock. Should You Follow Them?', 'link': 'https://www.fool.com/investing/2024/12/02/warren-buffett-and-berkshire-hathaway-continue-to/', 'symbols': ['AAPL.US'], 'tags': [], 'sentiment': {'polarity': 0, 'neg': 0, 'neu': 1, 'pos': 0}}, {'date': '2024-12-01T05:01:00+00:00', 'title': 'A Top Mission for Europe’s Chief Is to Cool Trump’s Ire Toward the EU', 'content': 'Donald Trump is threatening Europe over trade and war. What comes next will depend partly on Ursula von der Leyen.\\n\\nContinue reading\\n\\nView comments', 'link': 'https://finance.yahoo.com/m/50e65672-9bbe-359e-973b-7f1aac89ea82/a-top-mission-for-europe%E2%80%99s.html', 'symbols': ['0QYY.LSE', '0QZI.LSE', '0R2V.IL', '1FB.MI', 'AAPL.BA', 'AAPL.MX', 'AAPL.NEO', 'AAPL.SN', 'AAPL.US', 'AAPL34.SA', 'APC.BE', 'APC.DU', 'APC.F', 'APC.HA', 'APC.HM', 'APC.MU', 'APC.STU', 'APC.XETRA', 'APC8.F', 'FB20.F'], 'tags': [], 'sentiment': {'polarity': -0.807, 'neg': 0.249, 'neu': 0.751, 'pos': 0}}]\n"
          ]
        }
      ]
    },
    {
      "cell_type": "code",
      "source": [],
      "metadata": {
        "id": "6tiVNHRncC2S"
      },
      "execution_count": null,
      "outputs": []
    }
  ]
}