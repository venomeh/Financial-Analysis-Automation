{
  "nbformat": 4,
  "nbformat_minor": 0,
  "metadata": {
    "colab": {
      "provenance": [],
      "gpuType": "T4",
      "authorship_tag": "ABX9TyNknojJrm4CPyefOMUZXCTN",
      "include_colab_link": true
    },
    "kernelspec": {
      "name": "python3",
      "display_name": "Python 3"
    },
    "language_info": {
      "name": "python"
    },
    "accelerator": "GPU"
  },
  "cells": [
    {
      "cell_type": "markdown",
      "metadata": {
        "id": "view-in-github",
        "colab_type": "text"
      },
      "source": [
        "<a href=\"https://colab.research.google.com/github/venomeh/Financial-Analysis-Automation/blob/main/Financial_Analysis_%26_Automation.ipynb\" target=\"_parent\"><img src=\"https://colab.research.google.com/assets/colab-badge.svg\" alt=\"Open In Colab\"/></a>"
      ]
    },
    {
      "cell_type": "code",
      "source": [
        "!pip install eodhd yfinance"
      ],
      "metadata": {
        "colab": {
          "base_uri": "https://localhost:8080/"
        },
        "collapsed": true,
        "id": "m_UYAIYJOLWr",
        "outputId": "c1bb9558-6008-438e-afd3-e6729895b9b1"
      },
      "execution_count": 1,
      "outputs": [
        {
          "output_type": "stream",
          "name": "stdout",
          "text": [
            "Collecting eodhd\n",
            "  Downloading eodhd-1.0.31-py3-none-any.whl.metadata (2.9 kB)\n",
            "Requirement already satisfied: yfinance in /usr/local/lib/python3.10/dist-packages (0.2.50)\n",
            "Collecting websockets>=11.0.3 (from eodhd)\n",
            "  Downloading websockets-14.1-cp310-cp310-manylinux_2_5_x86_64.manylinux1_x86_64.manylinux_2_17_x86_64.manylinux2014_x86_64.whl.metadata (6.7 kB)\n",
            "Requirement already satisfied: websocket-client>=1.6.3 in /usr/local/lib/python3.10/dist-packages (from eodhd) (1.8.0)\n",
            "Requirement already satisfied: requests>=2.31.0 in /usr/local/lib/python3.10/dist-packages (from eodhd) (2.32.3)\n",
            "Requirement already satisfied: rich>=13.5.2 in /usr/local/lib/python3.10/dist-packages (from eodhd) (13.9.4)\n",
            "Requirement already satisfied: pandas>=2.1.0 in /usr/local/lib/python3.10/dist-packages (from eodhd) (2.2.2)\n",
            "Requirement already satisfied: numpy>=1.25.2 in /usr/local/lib/python3.10/dist-packages (from eodhd) (1.26.4)\n",
            "Requirement already satisfied: matplotlib>=3.7.2 in /usr/local/lib/python3.10/dist-packages (from eodhd) (3.8.0)\n",
            "Requirement already satisfied: multitasking>=0.0.7 in /usr/local/lib/python3.10/dist-packages (from yfinance) (0.0.11)\n",
            "Requirement already satisfied: lxml>=4.9.1 in /usr/local/lib/python3.10/dist-packages (from yfinance) (5.3.0)\n",
            "Requirement already satisfied: platformdirs>=2.0.0 in /usr/local/lib/python3.10/dist-packages (from yfinance) (4.3.6)\n",
            "Requirement already satisfied: pytz>=2022.5 in /usr/local/lib/python3.10/dist-packages (from yfinance) (2024.2)\n",
            "Requirement already satisfied: frozendict>=2.3.4 in /usr/local/lib/python3.10/dist-packages (from yfinance) (2.4.6)\n",
            "Requirement already satisfied: peewee>=3.16.2 in /usr/local/lib/python3.10/dist-packages (from yfinance) (3.17.8)\n",
            "Requirement already satisfied: beautifulsoup4>=4.11.1 in /usr/local/lib/python3.10/dist-packages (from yfinance) (4.12.3)\n",
            "Requirement already satisfied: html5lib>=1.1 in /usr/local/lib/python3.10/dist-packages (from yfinance) (1.1)\n",
            "Requirement already satisfied: soupsieve>1.2 in /usr/local/lib/python3.10/dist-packages (from beautifulsoup4>=4.11.1->yfinance) (2.6)\n",
            "Requirement already satisfied: six>=1.9 in /usr/local/lib/python3.10/dist-packages (from html5lib>=1.1->yfinance) (1.16.0)\n",
            "Requirement already satisfied: webencodings in /usr/local/lib/python3.10/dist-packages (from html5lib>=1.1->yfinance) (0.5.1)\n",
            "Requirement already satisfied: contourpy>=1.0.1 in /usr/local/lib/python3.10/dist-packages (from matplotlib>=3.7.2->eodhd) (1.3.1)\n",
            "Requirement already satisfied: cycler>=0.10 in /usr/local/lib/python3.10/dist-packages (from matplotlib>=3.7.2->eodhd) (0.12.1)\n",
            "Requirement already satisfied: fonttools>=4.22.0 in /usr/local/lib/python3.10/dist-packages (from matplotlib>=3.7.2->eodhd) (4.55.1)\n",
            "Requirement already satisfied: kiwisolver>=1.0.1 in /usr/local/lib/python3.10/dist-packages (from matplotlib>=3.7.2->eodhd) (1.4.7)\n",
            "Requirement already satisfied: packaging>=20.0 in /usr/local/lib/python3.10/dist-packages (from matplotlib>=3.7.2->eodhd) (24.2)\n",
            "Requirement already satisfied: pillow>=6.2.0 in /usr/local/lib/python3.10/dist-packages (from matplotlib>=3.7.2->eodhd) (11.0.0)\n",
            "Requirement already satisfied: pyparsing>=2.3.1 in /usr/local/lib/python3.10/dist-packages (from matplotlib>=3.7.2->eodhd) (3.2.0)\n",
            "Requirement already satisfied: python-dateutil>=2.7 in /usr/local/lib/python3.10/dist-packages (from matplotlib>=3.7.2->eodhd) (2.8.2)\n",
            "Requirement already satisfied: tzdata>=2022.7 in /usr/local/lib/python3.10/dist-packages (from pandas>=2.1.0->eodhd) (2024.2)\n",
            "Requirement already satisfied: charset-normalizer<4,>=2 in /usr/local/lib/python3.10/dist-packages (from requests>=2.31.0->eodhd) (3.4.0)\n",
            "Requirement already satisfied: idna<4,>=2.5 in /usr/local/lib/python3.10/dist-packages (from requests>=2.31.0->eodhd) (3.10)\n",
            "Requirement already satisfied: urllib3<3,>=1.21.1 in /usr/local/lib/python3.10/dist-packages (from requests>=2.31.0->eodhd) (2.2.3)\n",
            "Requirement already satisfied: certifi>=2017.4.17 in /usr/local/lib/python3.10/dist-packages (from requests>=2.31.0->eodhd) (2024.8.30)\n",
            "Requirement already satisfied: markdown-it-py>=2.2.0 in /usr/local/lib/python3.10/dist-packages (from rich>=13.5.2->eodhd) (3.0.0)\n",
            "Requirement already satisfied: pygments<3.0.0,>=2.13.0 in /usr/local/lib/python3.10/dist-packages (from rich>=13.5.2->eodhd) (2.18.0)\n",
            "Requirement already satisfied: typing-extensions<5.0,>=4.0.0 in /usr/local/lib/python3.10/dist-packages (from rich>=13.5.2->eodhd) (4.12.2)\n",
            "Requirement already satisfied: mdurl~=0.1 in /usr/local/lib/python3.10/dist-packages (from markdown-it-py>=2.2.0->rich>=13.5.2->eodhd) (0.1.2)\n",
            "Downloading eodhd-1.0.31-py3-none-any.whl (30 kB)\n",
            "Downloading websockets-14.1-cp310-cp310-manylinux_2_5_x86_64.manylinux1_x86_64.manylinux_2_17_x86_64.manylinux2014_x86_64.whl (168 kB)\n",
            "\u001b[2K   \u001b[90m━━━━━━━━━━━━━━━━━━━━━━━━━━━━━━━━━━━━━━━━\u001b[0m \u001b[32m168.2/168.2 kB\u001b[0m \u001b[31m11.7 MB/s\u001b[0m eta \u001b[36m0:00:00\u001b[0m\n",
            "\u001b[?25hInstalling collected packages: websockets, eodhd\n",
            "Successfully installed eodhd-1.0.31 websockets-14.1\n"
          ]
        }
      ]
    },
    {
      "cell_type": "code",
      "source": [
        "import yfinance as yf\n",
        "import json"
      ],
      "metadata": {
        "id": "PYLEGYt6S2wv"
      },
      "execution_count": 2,
      "outputs": []
    },
    {
      "cell_type": "code",
      "source": [
        "from eodhd import APIClient\n",
        "import pandas as pd"
      ],
      "metadata": {
        "id": "eIk9CNztOmJn"
      },
      "execution_count": 3,
      "outputs": []
    },
    {
      "cell_type": "code",
      "source": [
        "def get_stock_info(symbol: str) -> dict:\n",
        "    \"\"\"\n",
        "    Retrieves and formats detailed information about a stock from Yahoo Finance.\n",
        "\n",
        "    Args:\n",
        "        symbol (str): The stock ticker symbol to look up.\n",
        "\n",
        "    Returns:\n",
        "        dict: A dictionary containing detailed stock information, including ticker, name,\n",
        "              business summary, city, state, country, industry, and sector.\n",
        "    \"\"\"\n",
        "    data = yf.Ticker(symbol)\n",
        "    stock_info = data.info\n",
        "\n",
        "    properties = {\n",
        "        \"Ticker\": stock_info.get('symbol', 'Information not available'),\n",
        "        'Name': stock_info.get('longName', 'Information not available'),\n",
        "        'Business Summary': stock_info.get('longBusinessSummary'),\n",
        "        'City': stock_info.get('city', 'Information not available'),\n",
        "        'State': stock_info.get('state', 'Information not available'),\n",
        "        'Country': stock_info.get('country', 'Information not available'),\n",
        "        'Industry': stock_info.get('industry', 'Information not available'),\n",
        "        'Sector': stock_info.get('sector', 'Information not available')\n",
        "    }\n",
        "\n",
        "    return properties"
      ],
      "metadata": {
        "id": "M3o3IgQKTFof"
      },
      "execution_count": 4,
      "outputs": []
    },
    {
      "cell_type": "code",
      "source": [
        "def get_company_tickers():\n",
        "    \"\"\"\n",
        "    Downloads and parses the Stock ticker symbols from the GitHub-hosted SEC company tickers JSON file.\n",
        "\n",
        "    Returns:\n",
        "        dict: A dictionary containing company tickers and related information.\n",
        "\n",
        "    Notes:\n",
        "        The data is sourced from the official SEC website via a GitHub repository:\n",
        "        https://raw.githubusercontent.com/team-headstart/Financial-Analysis-and-Automation-with-LLMs/main/company_tickers.json\n",
        "    \"\"\"\n",
        "    # URL to fetch the raw JSON file from GitHub\n",
        "    url = \"https://raw.githubusercontent.com/team-headstart/Financial-Analysis-and-Automation-with-LLMs/main/company_tickers.json\"\n",
        "\n",
        "    # Making a GET request to the URL\n",
        "    response = requests.get(url)\n",
        "\n",
        "    # Checking if the request was successful\n",
        "    if response.status_code == 200:\n",
        "        # Parse the JSON content directly\n",
        "        company_tickers = json.loads(response.content.decode('utf-8'))\n",
        "\n",
        "        # Optionally save the content to a local file for future use\n",
        "        with open(\"company_tickers.json\", \"w\", encoding=\"utf-8\") as file:\n",
        "            json.dump(company_tickers, file, indent=4)\n",
        "\n",
        "        print(\"File downloaded successfully and saved as 'company_tickers.json'\")\n",
        "        return company_tickers\n",
        "    else:\n",
        "        print(f\"Failed to download file. Status code: {response.status_code}\")\n",
        "        return None"
      ],
      "metadata": {
        "id": "3Buuf-sETHsu"
      },
      "execution_count": 5,
      "outputs": []
    },
    {
      "cell_type": "code",
      "source": [
        "company_tickers = get_company_tickers()"
      ],
      "metadata": {
        "colab": {
          "base_uri": "https://localhost:8080/"
        },
        "id": "qhMn6SHgTQ02",
        "outputId": "1ff90665-df6c-4c2a-cfa0-105e7a3b1104",
        "collapsed": true
      },
      "execution_count": null,
      "outputs": [
        {
          "output_type": "stream",
          "name": "stderr",
          "text": [
            "ERROR:root:Internal Python error in the inspect module.\n",
            "Below is the traceback from this internal error.\n",
            "\n",
            "ERROR:root:Internal Python error in the inspect module.\n",
            "Below is the traceback from this internal error.\n",
            "\n",
            "ERROR:root:Internal Python error in the inspect module.\n",
            "Below is the traceback from this internal error.\n",
            "\n"
          ]
        },
        {
          "output_type": "stream",
          "name": "stdout",
          "text": [
            "Traceback (most recent call last):\n",
            "  File \"/usr/local/lib/python3.10/dist-packages/IPython/core/interactiveshell.py\", line 3553, in run_code\n",
            "    exec(code_obj, self.user_global_ns, self.user_ns)\n",
            "NameError: name 'requests' is not defined\n",
            "\n",
            "During handling of the above exception, another exception occurred:\n",
            "\n",
            "Traceback (most recent call last):\n",
            "  File \"/usr/local/lib/python3.10/dist-packages/IPython/core/interactiveshell.py\", line 2099, in showtraceback\n",
            "    stb = value._render_traceback_()\n",
            "AttributeError: 'NameError' object has no attribute '_render_traceback_'\n",
            "\n",
            "During handling of the above exception, another exception occurred:\n",
            "\n",
            "Traceback (most recent call last):\n",
            "  File \"/usr/local/lib/python3.10/dist-packages/IPython/core/ultratb.py\", line 1101, in get_records\n",
            "    return _fixed_getinnerframes(etb, number_of_lines_of_context, tb_offset)\n",
            "AssertionError\n",
            "Traceback (most recent call last):\n",
            "  File \"/usr/local/lib/python3.10/dist-packages/IPython/core/interactiveshell.py\", line 3553, in run_code\n",
            "    exec(code_obj, self.user_global_ns, self.user_ns)\n",
            "NameError: name 'requests' is not defined\n",
            "\n",
            "During handling of the above exception, another exception occurred:\n",
            "\n",
            "Traceback (most recent call last):\n",
            "  File \"/usr/local/lib/python3.10/dist-packages/IPython/core/interactiveshell.py\", line 2099, in showtraceback\n",
            "    stb = value._render_traceback_()\n",
            "AttributeError: 'NameError' object has no attribute '_render_traceback_'\n",
            "\n",
            "During handling of the above exception, another exception occurred:\n",
            "\n",
            "Traceback (most recent call last):\n",
            "  File \"/usr/local/lib/python3.10/dist-packages/IPython/core/interactiveshell.py\", line 3473, in run_ast_nodes\n",
            "    if (await self.run_code(code, result,  async_=asy)):\n",
            "TypeError: object of type 'NoneType' has no len()\n",
            "\n",
            "During handling of the above exception, another exception occurred:\n",
            "\n",
            "Traceback (most recent call last):\n",
            "  File \"/usr/local/lib/python3.10/dist-packages/IPython/core/interactiveshell.py\", line 2099, in showtraceback\n",
            "    stb = value._render_traceback_()\n",
            "AttributeError: 'TypeError' object has no attribute '_render_traceback_'\n",
            "\n",
            "During handling of the above exception, another exception occurred:\n",
            "\n",
            "Traceback (most recent call last):\n",
            "  File \"/usr/local/lib/python3.10/dist-packages/IPython/core/ultratb.py\", line 1101, in get_records\n",
            "    return _fixed_getinnerframes(etb, number_of_lines_of_context, tb_offset)\n",
            "AssertionError\n",
            "Traceback (most recent call last):\n",
            "  File \"/usr/local/lib/python3.10/dist-packages/IPython/core/interactiveshell.py\", line 3553, in run_code\n",
            "    exec(code_obj, self.user_global_ns, self.user_ns)\n",
            "NameError: name 'requests' is not defined\n",
            "\n",
            "During handling of the above exception, another exception occurred:\n",
            "\n",
            "Traceback (most recent call last):\n",
            "  File \"/usr/local/lib/python3.10/dist-packages/IPython/core/interactiveshell.py\", line 2099, in showtraceback\n",
            "    stb = value._render_traceback_()\n",
            "AttributeError: 'NameError' object has no attribute '_render_traceback_'\n",
            "\n",
            "During handling of the above exception, another exception occurred:\n",
            "\n",
            "Traceback (most recent call last):\n",
            "  File \"/usr/local/lib/python3.10/dist-packages/IPython/core/interactiveshell.py\", line 3473, in run_ast_nodes\n",
            "    if (await self.run_code(code, result,  async_=asy)):\n",
            "TypeError: object of type 'NoneType' has no len()\n",
            "\n",
            "During handling of the above exception, another exception occurred:\n",
            "\n",
            "Traceback (most recent call last):\n",
            "  File \"/usr/local/lib/python3.10/dist-packages/IPython/core/interactiveshell.py\", line 2099, in showtraceback\n",
            "    stb = value._render_traceback_()\n",
            "AttributeError: 'TypeError' object has no attribute '_render_traceback_'\n",
            "\n",
            "During handling of the above exception, another exception occurred:\n",
            "\n",
            "Traceback (most recent call last):\n",
            "  File \"/usr/local/lib/python3.10/dist-packages/IPython/core/interactiveshell.py\", line 3030, in _run_cell\n",
            "    return runner(coro)\n",
            "TypeError: object of type 'NoneType' has no len()\n",
            "\n",
            "During handling of the above exception, another exception occurred:\n",
            "\n",
            "Traceback (most recent call last):\n",
            "  File \"/usr/local/lib/python3.10/dist-packages/IPython/core/interactiveshell.py\", line 2099, in showtraceback\n",
            "    stb = value._render_traceback_()\n",
            "AttributeError: 'TypeError' object has no attribute '_render_traceback_'\n",
            "\n",
            "During handling of the above exception, another exception occurred:\n",
            "\n",
            "Traceback (most recent call last):\n",
            "  File \"/usr/local/lib/python3.10/dist-packages/IPython/core/ultratb.py\", line 1101, in get_records\n",
            "    return _fixed_getinnerframes(etb, number_of_lines_of_context, tb_offset)\n",
            "AssertionError\n"
          ]
        }
      ]
    },
    {
      "cell_type": "code",
      "source": [
        "api = APIClient(\"API\")"
      ],
      "metadata": {
        "id": "27ZDW7m8R_An"
      },
      "execution_count": 6,
      "outputs": []
    },
    {
      "cell_type": "code",
      "source": [
        "resp = api.get_eod_historical_stock_market_data(symbol = 'NVDA', period='d', from_date = '2024-06-29', order='a') # this will give the latest data\n",
        "print(resp)"
      ],
      "metadata": {
        "colab": {
          "base_uri": "https://localhost:8080/"
        },
        "id": "_etSjRVYPXO8",
        "outputId": "3d6d26f2-69be-4302-8722-cf47f9b3ba69"
      },
      "execution_count": 7,
      "outputs": [
        {
          "output_type": "stream",
          "name": "stdout",
          "text": [
            "[{'date': '2024-07-01', 'open': 123.47, 'high': 124.84, 'low': 118.83, 'close': 124.3, 'adjusted_close': 124.2808, 'volume': 284885500}, {'date': '2024-07-02', 'open': 121.13, 'high': 123.41, 'low': 121.03, 'close': 122.67, 'adjusted_close': 122.6511, 'volume': 218374000}, {'date': '2024-07-03', 'open': 121.66, 'high': 128.28, 'low': 121.36, 'close': 128.28, 'adjusted_close': 128.2602, 'volume': 215748984}, {'date': '2024-07-05', 'open': 127.38, 'high': 128.85, 'low': 125.68, 'close': 125.83, 'adjusted_close': 125.8106, 'volume': 214176703}, {'date': '2024-07-08', 'open': 127.49, 'high': 130.77, 'low': 127.04, 'close': 128.2, 'adjusted_close': 128.1802, 'volume': 237677297}, {'date': '2024-07-09', 'open': 130.35, 'high': 133.82, 'low': 128.65, 'close': 131.38, 'adjusted_close': 131.3597, 'volume': 287020812}, {'date': '2024-07-10', 'open': 134.03, 'high': 135.1, 'low': 132.42, 'close': 134.91, 'adjusted_close': 134.8892, 'volume': 248978594}, {'date': '2024-07-11', 'open': 135.75, 'high': 136.15, 'low': 127.05, 'close': 127.4, 'adjusted_close': 127.3803, 'volume': 374782688}, {'date': '2024-07-12', 'open': 128.26, 'high': 131.92, 'low': 127.22, 'close': 129.24, 'adjusted_close': 129.22, 'volume': 252680500}, {'date': '2024-07-15', 'open': 130.56, 'high': 131.39, 'low': 127.18, 'close': 128.44, 'adjusted_close': 128.4202, 'volume': 208326203}, {'date': '2024-07-16', 'open': 128.44, 'high': 129.04, 'low': 124.58, 'close': 126.36, 'adjusted_close': 126.3405, 'volume': 214769500}, {'date': '2024-07-17', 'open': 121.35, 'high': 121.85, 'low': 116.72, 'close': 117.99, 'adjusted_close': 117.9718, 'volume': 390086219}, {'date': '2024-07-18', 'open': 121.85, 'high': 122.4, 'low': 116.56, 'close': 121.09, 'adjusted_close': 121.0713, 'volume': 320979500}, {'date': '2024-07-19', 'open': 120.35, 'high': 121.6, 'low': 117.37, 'close': 117.93, 'adjusted_close': 117.9118, 'volume': 217223812}, {'date': '2024-07-22', 'open': 120.35, 'high': 124.07, 'low': 119.86, 'close': 123.54, 'adjusted_close': 123.5209, 'volume': 258068891}, {'date': '2024-07-23', 'open': 122.78, 'high': 124.69, 'low': 122.1, 'close': 122.59, 'adjusted_close': 122.5711, 'volume': 173911016}, {'date': '2024-07-24', 'open': 119.17, 'high': 119.95, 'low': 113.44, 'close': 114.25, 'adjusted_close': 114.2324, 'volume': 327776906}, {'date': '2024-07-25', 'open': 113.04, 'high': 116.63, 'low': 106.3, 'close': 112.28, 'adjusted_close': 112.2627, 'volume': 460067000}, {'date': '2024-07-26', 'open': 116.19, 'high': 116.2, 'low': 111.58, 'close': 113.06, 'adjusted_close': 113.0425, 'volume': 293399094}, {'date': '2024-07-29', 'open': 113.69, 'high': 116.28, 'low': 111.3, 'close': 111.59, 'adjusted_close': 111.5728, 'volume': 248152094}, {'date': '2024-07-30', 'open': 111.52, 'high': 111.99, 'low': 102.54, 'close': 103.73, 'adjusted_close': 103.714, 'volume': 486833312}, {'date': '2024-07-31', 'open': 112.9, 'high': 118.34, 'low': 110.88, 'close': 117.02, 'adjusted_close': 117.0019, 'volume': 473174219}, {'date': '2024-08-01', 'open': 117.53, 'high': 120.16, 'low': 106.8104, 'close': 109.21, 'adjusted_close': 109.1931, 'volume': 523462312}, {'date': '2024-08-02', 'open': 103.76, 'high': 108.72, 'low': 101.37, 'close': 107.27, 'adjusted_close': 107.2534, 'volume': 482027500}, {'date': '2024-08-05', 'open': 92.06, 'high': 103.41, 'low': 90.69, 'close': 100.45, 'adjusted_close': 100.4345, 'volume': 552842375}, {'date': '2024-08-06', 'open': 103.84, 'high': 107.71, 'low': 100.55, 'close': 104.25, 'adjusted_close': 104.2339, 'volume': 409012094}, {'date': '2024-08-07', 'open': 107.81, 'high': 108.8, 'low': 98.69, 'close': 98.91, 'adjusted_close': 98.8947, 'volume': 411440375}, {'date': '2024-08-08', 'open': 102, 'high': 105.5, 'low': 97.52, 'close': 104.97, 'adjusted_close': 104.9538, 'volume': 391910031}, {'date': '2024-08-09', 'open': 105.64, 'high': 106.6, 'low': 103.43, 'close': 104.75, 'adjusted_close': 104.7338, 'volume': 290844188}, {'date': '2024-08-12', 'open': 106.32, 'high': 111.07, 'low': 106.26, 'close': 109.02, 'adjusted_close': 109.0032, 'volume': 325559906}, {'date': '2024-08-13', 'open': 112.44, 'high': 116.23, 'low': 111.58, 'close': 116.14, 'adjusted_close': 116.1221, 'volume': 312646688}, {'date': '2024-08-14', 'open': 118.53, 'high': 118.6, 'low': 114.07, 'close': 118.08, 'adjusted_close': 118.0618, 'volume': 339246406}, {'date': '2024-08-15', 'open': 118.76, 'high': 123.24, 'low': 117.47, 'close': 122.86, 'adjusted_close': 122.841, 'volume': 318086688}, {'date': '2024-08-16', 'open': 121.94, 'high': 125, 'low': 121.18, 'close': 124.58, 'adjusted_close': 124.5608, 'volume': 302589875}, {'date': '2024-08-19', 'open': 124.28, 'high': 130, 'low': 123.42, 'close': 130, 'adjusted_close': 129.9799, 'volume': 318333594}, {'date': '2024-08-20', 'open': 128.4, 'high': 129.88, 'low': 125.89, 'close': 127.25, 'adjusted_close': 127.2303, 'volume': 300087406}, {'date': '2024-08-21', 'open': 127.315, 'high': 129.35, 'low': 126.66, 'close': 128.5, 'adjusted_close': 128.4802, 'volume': 257883594}, {'date': '2024-08-22', 'open': 130.02, 'high': 130.75, 'low': 123.1, 'close': 123.74, 'adjusted_close': 123.7209, 'volume': 376189094}, {'date': '2024-08-23', 'open': 125.86, 'high': 129.6, 'low': 125.22, 'close': 129.37, 'adjusted_close': 129.35, 'volume': 323230312}, {'date': '2024-08-26', 'open': 129.57, 'high': 131.26, 'low': 124.37, 'close': 126.46, 'adjusted_close': 126.4405, 'volume': 331964719}, {'date': '2024-08-27', 'open': 125.05, 'high': 129.2, 'low': 123.88, 'close': 128.3, 'adjusted_close': 128.2802, 'volume': 303134594}, {'date': '2024-08-28', 'open': 128.12, 'high': 128.33, 'low': 122.64, 'close': 125.61, 'adjusted_close': 125.5906, 'volume': 448101094}, {'date': '2024-08-29', 'open': 121.355, 'high': 124.43, 'low': 116.71, 'close': 117.59, 'adjusted_close': 117.5718, 'volume': 453023281}, {'date': '2024-08-30', 'open': 119.53, 'high': 121.75, 'low': 117.22, 'close': 119.37, 'adjusted_close': 119.3516, 'volume': 333751625}, {'date': '2024-09-03', 'open': 116.01, 'high': 116.21, 'low': 107.29, 'close': 108, 'adjusted_close': 107.9833, 'volume': 474972000}, {'date': '2024-09-04', 'open': 105.41, 'high': 113.27, 'low': 104.12, 'close': 106.21, 'adjusted_close': 106.1936, 'volume': 372470312}, {'date': '2024-09-05', 'open': 104.985, 'high': 109.65, 'low': 104.76, 'close': 107.21, 'adjusted_close': 107.1934, 'volume': 306850688}, {'date': '2024-09-06', 'open': 108.04, 'high': 108.15, 'low': 100.95, 'close': 102.83, 'adjusted_close': 102.8141, 'volume': 413638125}, {'date': '2024-09-09', 'open': 104.88, 'high': 106.55, 'low': 103.69, 'close': 106.47, 'adjusted_close': 106.4536, 'volume': 273912000}, {'date': '2024-09-10', 'open': 107.81, 'high': 109.4, 'low': 104.95, 'close': 108.1, 'adjusted_close': 108.0833, 'volume': 268283688}, {'date': '2024-09-11', 'open': 109.39, 'high': 117.19, 'low': 107.42, 'close': 116.91, 'adjusted_close': 116.8919, 'volume': 441422406}, {'date': '2024-09-12', 'open': 116.84, 'high': 120.79, 'low': 115.38, 'close': 119.14, 'adjusted_close': 119.1318, 'volume': 367100500}, {'date': '2024-09-13', 'open': 119.08, 'high': 119.955, 'low': 117.6, 'close': 119.1, 'adjusted_close': 119.0918, 'volume': 238358297}, {'date': '2024-09-16', 'open': 116.79, 'high': 118.18, 'low': 114.36, 'close': 116.78, 'adjusted_close': 116.772, 'volume': 248772297}, {'date': '2024-09-17', 'open': 118.17, 'high': 118.8, 'low': 114.83, 'close': 115.59, 'adjusted_close': 115.582, 'volume': 231925906}, {'date': '2024-09-18', 'open': 115.89, 'high': 117.7, 'low': 113.22, 'close': 113.37, 'adjusted_close': 113.3622, 'volume': 310318906}, {'date': '2024-09-19', 'open': 117.35, 'high': 119.66, 'low': 117.25, 'close': 117.87, 'adjusted_close': 117.8619, 'volume': 293506406}, {'date': '2024-09-20', 'open': 117.06, 'high': 118.6181, 'low': 115.3901, 'close': 116, 'adjusted_close': 115.992, 'volume': 382462406}, {'date': '2024-09-23', 'open': 116.55, 'high': 116.99, 'low': 114.86, 'close': 116.26, 'adjusted_close': 116.252, 'volume': 206228500}, {'date': '2024-09-24', 'open': 116.515, 'high': 121.8, 'low': 115.38, 'close': 120.87, 'adjusted_close': 120.8617, 'volume': 354966781}, {'date': '2024-09-25', 'open': 122.02, 'high': 124.94, 'low': 121.61, 'close': 123.51, 'adjusted_close': 123.5015, 'volume': 284692906}, {'date': '2024-09-26', 'open': 126.8, 'high': 127.665, 'low': 121.8, 'close': 124.04, 'adjusted_close': 124.0315, 'volume': 302582906}, {'date': '2024-09-27', 'open': 123.97, 'high': 124.03, 'low': 119.26, 'close': 121.4, 'adjusted_close': 121.3916, 'volume': 271009219}, {'date': '2024-09-30', 'open': 118.31, 'high': 121.5, 'low': 118.15, 'close': 121.44, 'adjusted_close': 121.4316, 'volume': 227053703}, {'date': '2024-10-01', 'open': 121.765, 'high': 122.4351, 'low': 115.79, 'close': 117, 'adjusted_close': 116.9919, 'volume': 302094500}, {'date': '2024-10-02', 'open': 116.44, 'high': 119.38, 'low': 115.14, 'close': 118.85, 'adjusted_close': 118.8418, 'volume': 221845906}, {'date': '2024-10-03', 'open': 120.92, 'high': 124.36, 'low': 120.3401, 'close': 122.85, 'adjusted_close': 122.8415, 'volume': 277118031}, {'date': '2024-10-04', 'open': 124.94, 'high': 125.04, 'low': 121.83, 'close': 124.92, 'adjusted_close': 124.9114, 'volume': 244465594}, {'date': '2024-10-07', 'open': 124.99, 'high': 130.64, 'low': 124.95, 'close': 127.72, 'adjusted_close': 127.7112, 'volume': 346250219}, {'date': '2024-10-08', 'open': 130.26, 'high': 133.48, 'low': 129.42, 'close': 132.89, 'adjusted_close': 132.8808, 'volume': 285722500}, {'date': '2024-10-09', 'open': 134.11, 'high': 134.52, 'low': 131.38, 'close': 132.65, 'adjusted_close': 132.6409, 'volume': 246191594}, {'date': '2024-10-10', 'open': 131.91, 'high': 135, 'low': 131, 'close': 134.81, 'adjusted_close': 134.8007, 'volume': 242311297}, {'date': '2024-10-11', 'open': 134.01, 'high': 135.78, 'low': 133.66, 'close': 134.8, 'adjusted_close': 134.7907, 'volume': 170209500}, {'date': '2024-10-14', 'open': 136.47, 'high': 139.6, 'low': 136.3, 'close': 138.07, 'adjusted_close': 138.0605, 'volume': 232347703}, {'date': '2024-10-15', 'open': 137.87, 'high': 138.57, 'low': 128.74, 'close': 131.6, 'adjusted_close': 131.5909, 'volume': 377831000}, {'date': '2024-10-16', 'open': 133.98, 'high': 136.62, 'low': 131.58, 'close': 135.72, 'adjusted_close': 135.7106, 'volume': 264879688}, {'date': '2024-10-17', 'open': 139.34, 'high': 140.89, 'low': 136.87, 'close': 136.93, 'adjusted_close': 136.9206, 'volume': 306435906}, {'date': '2024-10-18', 'open': 138.665, 'high': 138.9, 'low': 137.28, 'close': 138, 'adjusted_close': 137.9905, 'volume': 176090203}, {'date': '2024-10-21', 'open': 138.13, 'high': 143.71, 'low': 138, 'close': 143.71, 'adjusted_close': 143.7001, 'volume': 264554500}, {'date': '2024-10-22', 'open': 142.91, 'high': 144.42, 'low': 141.78, 'close': 143.59, 'adjusted_close': 143.5801, 'volume': 226311594}, {'date': '2024-10-23', 'open': 142.03, 'high': 142.43, 'low': 137.46, 'close': 139.56, 'adjusted_close': 139.5504, 'volume': 285929969}, {'date': '2024-10-24', 'open': 140.82, 'high': 141.35, 'low': 138.46, 'close': 140.41, 'adjusted_close': 140.4003, 'volume': 172354891}, {'date': '2024-10-25', 'open': 140.93, 'high': 144.13, 'low': 140.8, 'close': 141.54, 'adjusted_close': 141.5302, 'volume': 205122094}, {'date': '2024-10-28', 'open': 143, 'high': 143.14, 'low': 140.05, 'close': 140.52, 'adjusted_close': 140.5103, 'volume': 173586703}, {'date': '2024-10-29', 'open': 140.285, 'high': 142.2598, 'low': 138.9, 'close': 141.25, 'adjusted_close': 141.2403, 'volume': 157593594}, {'date': '2024-10-30', 'open': 139.54, 'high': 140.33, 'low': 136.81, 'close': 139.335, 'adjusted_close': 139.3254, 'volume': 179418094}, {'date': '2024-10-31', 'open': 137.6, 'high': 137.61, 'low': 132.1106, 'close': 132.76, 'adjusted_close': 132.7509, 'volume': 270039625}, {'date': '2024-11-01', 'open': 134.7, 'high': 137.31, 'low': 134.57, 'close': 135.4, 'adjusted_close': 135.3907, 'volume': 207127812}, {'date': '2024-11-04', 'open': 137.21, 'high': 138.96, 'low': 135.57, 'close': 136.05, 'adjusted_close': 136.0406, 'volume': 187528188}, {'date': '2024-11-05', 'open': 137.45, 'high': 140.3701, 'low': 137.33, 'close': 139.91, 'adjusted_close': 139.9004, 'volume': 160537406}, {'date': '2024-11-06', 'open': 142.96, 'high': 146.49, 'low': 141.96, 'close': 145.61, 'adjusted_close': 145.6, 'volume': 242043906}, {'date': '2024-11-07', 'open': 146.39, 'high': 148.93, 'low': 146.17, 'close': 148.88, 'adjusted_close': 148.8697, 'volume': 207323297}, {'date': '2024-11-08', 'open': 148.77, 'high': 149.77, 'low': 146.26, 'close': 147.63, 'adjusted_close': 147.6198, 'volume': 175665797}, {'date': '2024-11-11', 'open': 148.68, 'high': 148.85, 'low': 143.57, 'close': 145.26, 'adjusted_close': 145.25, 'volume': 182325594}, {'date': '2024-11-12', 'open': 146.78, 'high': 149.65, 'low': 146.01, 'close': 148.29, 'adjusted_close': 148.2798, 'volume': 198634703}, {'date': '2024-11-13', 'open': 149.07, 'high': 149.33, 'low': 145.9, 'close': 146.27, 'adjusted_close': 146.2599, 'volume': 191903297}, {'date': '2024-11-14', 'open': 147.64, 'high': 149, 'low': 145.55, 'close': 146.76, 'adjusted_close': 146.7499, 'volume': 194463297}, {'date': '2024-11-15', 'open': 144.87, 'high': 145.24, 'low': 140.08, 'close': 141.98, 'adjusted_close': 141.9702, 'volume': 250132891}, {'date': '2024-11-18', 'open': 139.5, 'high': 141.55, 'low': 137.15, 'close': 140.15, 'adjusted_close': 140.1403, 'volume': 221866000}, {'date': '2024-11-19', 'open': 141.32, 'high': 147.13, 'low': 140.99, 'close': 147.01, 'adjusted_close': 146.9999, 'volume': 227834891}, {'date': '2024-11-20', 'open': 147.41, 'high': 147.56, 'low': 142.73, 'close': 145.89, 'adjusted_close': 145.8799, 'volume': 309871719}, {'date': '2024-11-21', 'open': 149.35, 'high': 152.89, 'low': 140.7, 'close': 146.67, 'adjusted_close': 146.6599, 'volume': 400946594}, {'date': '2024-11-22', 'open': 145.93, 'high': 147.16, 'low': 141.1, 'close': 141.95, 'adjusted_close': 141.9402, 'volume': 236406203}, {'date': '2024-11-25', 'open': 141.99, 'high': 142.05, 'low': 135.82, 'close': 136.02, 'adjusted_close': 136.0106, 'volume': 344941875}, {'date': '2024-11-26', 'open': 137.7, 'high': 139.3, 'low': 135.67, 'close': 136.92, 'adjusted_close': 136.9106, 'volume': 190287703}, {'date': '2024-11-27', 'open': 135.01, 'high': 137.22, 'low': 131.8, 'close': 135.34, 'adjusted_close': 135.3307, 'volume': 226370891}, {'date': '2024-11-29', 'open': 136.78, 'high': 139.35, 'low': 136.05, 'close': 138.25, 'adjusted_close': 138.2405, 'volume': 141863203}, {'date': '2024-12-02', 'open': 138.83, 'high': 140.45, 'low': 137.825, 'close': 138.63, 'adjusted_close': 138.6204, 'volume': 171682797}, {'date': '2024-12-03', 'open': 138.26, 'high': 140.54, 'low': 137.95, 'close': 140.26, 'adjusted_close': 140.2503, 'volume': 164414000}, {'date': '2024-12-04', 'open': 141.995, 'high': 145.79, 'low': 140.29, 'close': 145.14, 'adjusted_close': 145.13, 'volume': 231224297}, {'date': '2024-12-05', 'open': 145.11, 'high': 146.54, 'low': 143.95, 'close': 145.06, 'adjusted_close': 145.06, 'volume': 172621203}, {'date': '2024-12-06', 'open': 144.6, 'high': 145.7, 'low': 141.31, 'close': 142.44, 'adjusted_close': 142.44, 'volume': 188505573}]\n"
          ]
        }
      ]
    },
    {
      "cell_type": "code",
      "source": [
        "# import json\n",
        "\n",
        "# # Load the JSON file\n",
        "# with open('company_tickers.json', 'r') as file:\n",
        "#     data = json.load(file)\n",
        "\n",
        "# # Initialize an empty list to store the tickers\n",
        "# tickers = []\n",
        "\n",
        "# # Iterate through the first 10 items and collect their tickers\n",
        "# for i in range(10):\n",
        "#     tickers.append(data[str(i)]['ticker'])\n",
        "\n",
        "\n",
        "# # Print the tickers list\n",
        "# print(tickers)\n"
      ],
      "metadata": {
        "id": "7SzxywsNWdNf"
      },
      "execution_count": 8,
      "outputs": []
    },
    {
      "cell_type": "code",
      "source": [
        "# resp = api.get_eod_historical_stock_market_data(symbol = 'BRK-B', period='d', from_date = '2024-06-29', to_date = '2024-08-15', order='a')\n",
        "# print(resp)"
      ],
      "metadata": {
        "id": "yDb3bgGTW7wj"
      },
      "execution_count": 9,
      "outputs": []
    },
    {
      "cell_type": "code",
      "source": [
        "# for ticker in tickers:\n",
        "#     resp = api.get_eod_historical_stock_market_data(symbol = ticker,period='d', from_date = '2024-06-29', to_date = '2024-08-15', order='a' )\n",
        "#     print(resp)"
      ],
      "metadata": {
        "id": "ngZdPUdCXDbq"
      },
      "execution_count": 10,
      "outputs": []
    },
    {
      "cell_type": "code",
      "source": [],
      "metadata": {
        "id": "FaGeOqeFZKk7"
      },
      "execution_count": 10,
      "outputs": []
    },
    {
      "cell_type": "code",
      "source": [
        "import requests\n",
        "\n",
        "url = f'https://eodhd.com/api/news?s=AAPL.US&offset=0&limit=10&api_token=token&fmt=json'\n",
        "data = requests.get(url).json()\n",
        "\n",
        "print(data)"
      ],
      "metadata": {
        "colab": {
          "base_uri": "https://localhost:8080/"
        },
        "id": "YK9cGFh5XWNK",
        "outputId": "e2a56ca1-dbaf-4009-e3bb-e48e7e8a7706"
      },
      "execution_count": 11,
      "outputs": [
        {
          "output_type": "stream",
          "name": "stdout",
          "text": [
            "[{'date': '2024-12-07T00:28:00+00:00', 'title': 'CFPB Moves to Supervise Google Payments Under New Rules', 'content': 'The Consumer Financial Protection Bureau said it determined that the platform meets the legal requirements for supervision under new rules.\\n\\nContinue reading\\n\\nView comments', 'link': 'https://finance.yahoo.com/m/4951b614-1b08-307a-bf56-fb4abf21e3bf/cfpb-moves-to-supervise.html', 'symbols': ['0R2V.IL', '0RIH.IL', '0RIH.LSE', '1GOOG.MI', '1GOOGL.MI', '2PP.F', '2PP.STU', '2PP.XETRA', '2PP0.F', 'AAPL.BA', 'AAPL.MX', 'AAPL.NEO', 'AAPL.SN', 'AAPL.US', 'AAPL34.SA', 'ABE0.F', 'ABEA.F', 'ABEA.STU', 'ABEA.XETRA', 'ABEC.F'], 'tags': [], 'sentiment': {'polarity': 0.44, 'neg': 0, 'neu': 0.849, 'pos': 0.151}}, {'date': '2024-12-05T00:00:00+00:00', 'title': \"Here's Why Warren Buffett and Berkshire Hathaway May Change Their Investing Strategy With Donald Trump as President\", 'content': \"Here's Why Warren Buffett and Berkshire Hathaway May Change Their Investing Strategy With Donald Trump as President\", 'link': 'https://www.fool.com/investing/2024/12/05/heres-why-warren-buffett-and-berkshire-hathaway-ma/', 'symbols': ['AAPL.US'], 'tags': [], 'sentiment': {'polarity': 0, 'neg': 0, 'neu': 1, 'pos': 0}}, {'date': '2024-12-05T00:00:00+00:00', 'title': 'Where Will Apple Stock Be in 2 Years?', 'content': 'Where Will Apple Stock Be in 2 Years?', 'link': 'https://www.fool.com/investing/2024/12/05/where-will-apple-stock-be-in-2-years/', 'symbols': ['AAPL.US'], 'tags': [], 'sentiment': {'polarity': 0, 'neg': 0, 'neu': 1, 'pos': 0}}, {'date': '2024-12-03T00:00:00+00:00', 'title': '2 Sensational Stocks \"Britain\\'s Warren Buffett,\" Terry Smith, Wants to Own for 2025', 'content': \"Two industry-leading tech companies -- which aren't exactly value stocks -- have been top buys for Fundsmith's traditionally value-focused billionaire chief, Terry Smith.\", 'link': 'https://www.fool.com/investing/2024/12/03/2-stocks-britain-warren-buffett-wants-to-own-2025/', 'symbols': ['AAPL.US'], 'tags': [], 'sentiment': {'polarity': 0.1, 'neg': 0.058, 'neu': 0.867, 'pos': 0.074}}, {'date': '2024-12-02T21:30:27+00:00', 'title': 'Apple Is IBD Stock Of The Day As Wall Street Eyes iPhone 16 Demand, AI Software Upgrade', 'content': 'Apple is the IBD Stock Of The Day as Wall Street focuses on iPhone 16 demand amid the holiday shopping season and iOS 18 release with AI features.\\n\\nContinue reading\\n\\nView comments', 'link': 'https://finance.yahoo.com/m/ca2d1a4a-6d02-3183-ac7e-e7408152264c/apple-is-ibd-stock-of-the-day.html', 'symbols': ['0R2V.IL', 'AAPL.BA', 'AAPL.MX', 'AAPL.NEO', 'AAPL.SN', 'AAPL.US', 'AAPL34.SA', 'APC.BE', 'APC.DU', 'APC.F', 'APC.HA', 'APC.HM', 'APC.MU', 'APC.STU', 'APC.XETRA', 'APC8.F'], 'tags': [], 'sentiment': {'polarity': 0.296, 'neg': 0.044, 'neu': 0.877, 'pos': 0.079}}, {'date': '2024-12-02T18:36:46+00:00', 'title': 'Dow Jones Tech Titan Apple Breaking Out Today; Meta Stock Eyes New Entry', 'content': 'Dow Jones tech titan Apple stock is breaking out, while AI leader Meta stock is nearing a new buy point on the stock market today.\\n\\nContinue reading\\n\\nView comments', 'link': 'https://finance.yahoo.com/m/fe309558-0a93-337a-8e86-aaa5c0d5e14f/dow-jones-tech-titan-apple.html', 'symbols': ['0LCE.LSE', '0QZI.LSE', '0R2V.IL', '1FB.MI', 'AAPL.BA', 'AAPL.MX', 'AAPL.NEO', 'AAPL.SN', 'AAPL.US', 'AAPL34.SA', 'APC.BE', 'APC.DU', 'APC.F', 'APC.HA', 'APC.HM', 'APC.MU', 'APC.STU', 'APC.XETRA', 'APC8.F', 'EMBR3.SA'], 'tags': [], 'sentiment': {'polarity': 0, 'neg': 0, 'neu': 1, 'pos': 0}}, {'date': '2024-12-02T04:21:00+00:00', 'title': 'Building Apple Products Has Become a Side Hustle for China’s Biggest EV Maker', 'content': 'BYD has grown into a top iPad assembler and has put around 100,000 people to work for Tim Cook’s company.\\n\\nContinue reading\\n\\nView comments', 'link': 'https://finance.yahoo.com/m/b00c1d30-b7f2-3496-aa92-3878844ad25f/building-apple-products-has.html', 'symbols': ['0R2V.IL', '1NVDA.MI', '1TSLA.MI', 'AAPL.BA', 'AAPL.MX', 'AAPL.NEO', 'AAPL.SN', 'AAPL.US', 'AAPL34.SA', 'APC.BE', 'APC.DU', 'APC.F', 'APC.HA', 'APC.HM', 'APC.MU', 'APC.STU', 'APC.XETRA', 'APC8.F', 'BERK34.SA', 'BRH.BE'], 'tags': [], 'sentiment': {'polarity': 0.202, 'neg': 0, 'neu': 0.924, 'pos': 0.076}}, {'date': '2024-12-02T00:00:00+00:00', 'title': '1 Wall Street Analyst Thinks Apple Stock Is Going to $273. Is It a Buy?', 'content': '1 Wall Street Analyst Thinks Apple Stock Is Going to $273. Is It a Buy?', 'link': 'https://www.fool.com/investing/2024/12/02/wall-street-analyst-apple-stock-273-buy/', 'symbols': ['AAPL.US'], 'tags': [], 'sentiment': {'polarity': 0, 'neg': 0, 'neu': 1, 'pos': 0}}, {'date': '2024-12-02T00:00:00+00:00', 'title': 'Warren Buffett and Berkshire Hathaway Continue to Sell Apple Stock. Should You Follow Them?', 'content': 'Warren Buffett and Berkshire Hathaway Continue to Sell Apple Stock. Should You Follow Them?', 'link': 'https://www.fool.com/investing/2024/12/02/warren-buffett-and-berkshire-hathaway-continue-to/', 'symbols': ['AAPL.US'], 'tags': [], 'sentiment': {'polarity': 0, 'neg': 0, 'neu': 1, 'pos': 0}}, {'date': '2024-12-01T05:01:00+00:00', 'title': 'A Top Mission for Europe’s Chief Is to Cool Trump’s Ire Toward the EU', 'content': 'Donald Trump is threatening Europe over trade and war. What comes next will depend partly on Ursula von der Leyen.\\n\\nContinue reading\\n\\nView comments', 'link': 'https://finance.yahoo.com/m/50e65672-9bbe-359e-973b-7f1aac89ea82/a-top-mission-for-europe%E2%80%99s.html', 'symbols': ['0QYY.LSE', '0QZI.LSE', '0R2V.IL', '1FB.MI', 'AAPL.BA', 'AAPL.MX', 'AAPL.NEO', 'AAPL.SN', 'AAPL.US', 'AAPL34.SA', 'APC.BE', 'APC.DU', 'APC.F', 'APC.HA', 'APC.HM', 'APC.MU', 'APC.STU', 'APC.XETRA', 'APC8.F', 'FB20.F'], 'tags': [], 'sentiment': {'polarity': -0.807, 'neg': 0.249, 'neu': 0.751, 'pos': 0}}]\n"
          ]
        }
      ]
    },
    {
      "cell_type": "code",
      "source": [],
      "metadata": {
        "id": "A6QkhVGQUGp8"
      },
      "execution_count": 11,
      "outputs": []
    },
    {
      "cell_type": "code",
      "source": [
        "df = api.get_eod_historical_stock_market_data(symbol = 'NVDA',period='d', from_date = '2022-06-29', order='a')"
      ],
      "metadata": {
        "id": "9oZMrHF9UGlb"
      },
      "execution_count": 12,
      "outputs": []
    },
    {
      "cell_type": "code",
      "source": [
        "print(df)"
      ],
      "metadata": {
        "colab": {
          "base_uri": "https://localhost:8080/"
        },
        "id": "NLp2JY0XUGhL",
        "outputId": "71a1063f-9766-4447-a5fb-b46d4e0dc8e6"
      },
      "execution_count": 13,
      "outputs": [
        {
          "output_type": "stream",
          "name": "stdout",
          "text": [
            "[{'date': '2023-12-08', 'open': 465.95, 'high': 477.4085, 'low': 465.5, 'close': 475.06, 'adjusted_close': 47.4925, 'volume': 359223666}, {'date': '2023-12-11', 'open': 474.91, 'high': 475.31, 'low': 458.3, 'close': 466.27, 'adjusted_close': 46.6138, 'volume': 509728085}, {'date': '2023-12-12', 'open': 460.46, 'high': 476.66, 'low': 460.46, 'close': 476.57, 'adjusted_close': 47.6435, 'volume': 372386876}, {'date': '2023-12-13', 'open': 476.29, 'high': 485.94, 'low': 476.08, 'close': 480.88, 'adjusted_close': 48.0744, 'volume': 447791906}, {'date': '2023-12-14', 'open': 483.9, 'high': 486.7, 'low': 474.22, 'close': 483.5, 'adjusted_close': 48.3363, 'volume': 391231676}, {'date': '2023-12-15', 'open': 481.94, 'high': 494.04, 'low': 481.2, 'close': 488.9, 'adjusted_close': 48.8761, 'volume': 479947615}, {'date': '2023-12-18', 'open': 494, 'high': 504.3299, 'low': 491.5, 'close': 500.77, 'adjusted_close': 50.0628, 'volume': 412587186}, {'date': '2023-12-19', 'open': 494.24, 'high': 497, 'low': 488.95, 'close': 496.04, 'adjusted_close': 49.5899, 'volume': 464444485}, {'date': '2023-12-20', 'open': 496.55, 'high': 499.99, 'low': 480.98, 'close': 481.11, 'adjusted_close': 48.0974, 'volume': 397894406}, {'date': '2023-12-21', 'open': 488.11, 'high': 490.95, 'low': 484.19, 'close': 489.9, 'adjusted_close': 48.9761, 'volume': 300425427}, {'date': '2023-12-22', 'open': 491.95, 'high': 493.83, 'low': 484.6701, 'close': 488.3, 'adjusted_close': 48.8162, 'volume': 252506797}, {'date': '2023-12-26', 'open': 489.68, 'high': 496, 'low': 489.6, 'close': 492.79, 'adjusted_close': 49.265, 'volume': 244199488}, {'date': '2023-12-27', 'open': 495.11, 'high': 496.8, 'low': 490.85, 'close': 494.17, 'adjusted_close': 49.403, 'volume': 233648008}, {'date': '2023-12-28', 'open': 496.43, 'high': 498.8399, 'low': 494.12, 'close': 495.22, 'adjusted_close': 49.508, 'volume': 246587498}, {'date': '2023-12-29', 'open': 498.13, 'high': 499.9701, 'low': 487.51, 'close': 495.22, 'adjusted_close': 49.508, 'volume': 389293276}, {'date': '2024-01-02', 'open': 492.44, 'high': 492.95, 'low': 475.95, 'close': 481.68, 'adjusted_close': 48.1543, 'volume': 411254216}, {'date': '2024-01-03', 'open': 474.85, 'high': 481.841, 'low': 473.2, 'close': 475.69, 'adjusted_close': 47.5555, 'volume': 320896187}, {'date': '2024-01-04', 'open': 477.67, 'high': 485, 'low': 475.08, 'close': 479.98, 'adjusted_close': 47.9844, 'volume': 306534877}, {'date': '2024-01-05', 'open': 484.62, 'high': 495.47, 'low': 483.0601, 'close': 490.97, 'adjusted_close': 49.0831, 'volume': 415039296}, {'date': '2024-01-08', 'open': 495.12, 'high': 522.75, 'low': 494.79, 'close': 522.53, 'adjusted_close': 52.2382, 'volume': 642509874}, {'date': '2024-01-09', 'open': 524.01, 'high': 543.25, 'low': 516.9, 'close': 531.4, 'adjusted_close': 53.1249, 'volume': 773100072}, {'date': '2024-01-10', 'open': 536.16, 'high': 546, 'low': 534.89, 'close': 543.5, 'adjusted_close': 54.3346, 'volume': 533795775}, {'date': '2024-01-11', 'open': 549.99, 'high': 553.46, 'low': 535.6, 'close': 548.22, 'adjusted_close': 54.8065, 'volume': 596758784}, {'date': '2024-01-12', 'open': 546.2, 'high': 549.7, 'low': 543.3008, 'close': 547.1, 'adjusted_close': 54.6945, 'volume': 352993586}, {'date': '2024-01-16', 'open': 550.18, 'high': 568.3499, 'low': 549, 'close': 563.82, 'adjusted_close': 56.366, 'volume': 449579686}, {'date': '2024-01-17', 'open': 563.47, 'high': 564.7068, 'low': 547.4, 'close': 560.53, 'adjusted_close': 56.0371, 'volume': 474394405}, {'date': '2024-01-18', 'open': 572.6, 'high': 576, 'low': 561.07, 'close': 571.07, 'adjusted_close': 57.0908, 'volume': 491650385}, {'date': '2024-01-19', 'open': 579.89, 'high': 595, 'low': 572.25, 'close': 594.91, 'adjusted_close': 59.4741, 'volume': 543501515}, {'date': '2024-01-22', 'open': 600.49, 'high': 603.31, 'low': 590.7, 'close': 596.54, 'adjusted_close': 59.6371, 'volume': 452954605}, {'date': '2024-01-23', 'open': 595.7, 'high': 599.1, 'low': 585.85, 'close': 598.73, 'adjusted_close': 59.856, 'volume': 294654487}, {'date': '2024-01-24', 'open': 603.04, 'high': 628.49, 'low': 599.38, 'close': 613.62, 'adjusted_close': 61.3446, 'volume': 560270774}, {'date': '2024-01-25', 'open': 623.5, 'high': 627.19, 'low': 608.5, 'close': 616.17, 'adjusted_close': 61.5995, 'volume': 482776795}, {'date': '2024-01-26', 'open': 609.6, 'high': 617.83, 'low': 605.73, 'close': 610.31, 'adjusted_close': 61.0137, 'volume': 390308586}, {'date': '2024-01-29', 'open': 612.32, 'high': 624.89, 'low': 609.07, 'close': 624.65, 'adjusted_close': 62.4473, 'volume': 348733007}, {'date': '2024-01-30', 'open': 629, 'high': 634.93, 'low': 622.6, 'close': 627.74, 'adjusted_close': 62.7562, 'volume': 410735266}, {'date': '2024-01-31', 'open': 614.4, 'high': 622.6902, 'low': 607, 'close': 615.27, 'adjusted_close': 61.5096, 'volume': 453794875}, {'date': '2024-02-01', 'open': 621, 'high': 631.91, 'low': 616.5, 'close': 630.27, 'adjusted_close': 63.0091, 'volume': 369145776}, {'date': '2024-02-02', 'open': 639.74, 'high': 666, 'low': 636.9, 'close': 661.6, 'adjusted_close': 66.1412, 'volume': 476577695}, {'date': '2024-02-05', 'open': 682.25, 'high': 694.97, 'low': 672.0501, 'close': 693.32, 'adjusted_close': 69.3123, 'volume': 680077963}, {'date': '2024-02-06', 'open': 696.3, 'high': 697.5399, 'low': 663, 'close': 682.23, 'adjusted_close': 68.2037, 'volume': 683111323}, {'date': '2024-02-07', 'open': 683.19, 'high': 702.2, 'low': 676, 'close': 700.99, 'adjusted_close': 70.0791, 'volume': 495574605}, {'date': '2024-02-08', 'open': 700.74, 'high': 707.94, 'low': 694.5501, 'close': 696.41, 'adjusted_close': 69.6213, 'volume': 414422066}, {'date': '2024-02-09', 'open': 705.3301, 'high': 721.85, 'low': 702.12, 'close': 721.33, 'adjusted_close': 72.1126, 'volume': 436636876}, {'date': '2024-02-12', 'open': 726, 'high': 746.11, 'low': 712.5, 'close': 722.48, 'adjusted_close': 72.2275, 'volume': 613710194}, {'date': '2024-02-13', 'open': 704, 'high': 734.5001, 'low': 696.2, 'close': 721.28, 'adjusted_close': 72.1076, 'volume': 602580154}, {'date': '2024-02-14', 'open': 732.02, 'high': 742.36, 'low': 719.38, 'close': 739, 'adjusted_close': 73.8791, 'volume': 504917375}, {'date': '2024-02-15', 'open': 738.6901, 'high': 739.75, 'low': 724, 'close': 726.5801, 'adjusted_close': 72.6374, 'volume': 420121796}, {'date': '2024-02-16', 'open': 741, 'high': 744.02, 'low': 725.01, 'close': 726.13, 'adjusted_close': 72.5924, 'volume': 495326595}, {'date': '2024-02-20', 'open': 719.47, 'high': 719.56, 'low': 677.34, 'close': 694.52, 'adjusted_close': 69.4323, 'volume': 704833113}, {'date': '2024-02-21', 'open': 680.0601, 'high': 688.88, 'low': 662.48, 'close': 674.72, 'adjusted_close': 67.4529, 'volume': 690298043}, {'date': '2024-02-22', 'open': 750.25, 'high': 785.7501, 'low': 742.2, 'close': 785.38, 'adjusted_close': 78.5157, 'volume': 865099681}, {'date': '2024-02-23', 'open': 807.9, 'high': 823.9401, 'low': 775.7, 'close': 788.1701, 'adjusted_close': 78.7947, 'volume': 829388432}, {'date': '2024-02-26', 'open': 797.0001, 'high': 806.4599, 'low': 785.05, 'close': 790.92, 'adjusted_close': 79.0696, 'volume': 503972725}, {'date': '2024-02-27', 'open': 793.8101, 'high': 794.8, 'low': 771.62, 'close': 787.01, 'adjusted_close': 78.6787, 'volume': 391705196}, {'date': '2024-02-28', 'open': 776.2, 'high': 789.3301, 'low': 771.25, 'close': 776.63, 'adjusted_close': 77.641, 'volume': 393110386}, {'date': '2024-02-29', 'open': 790.94, 'high': 799.9, 'low': 783.5, 'close': 791.12, 'adjusted_close': 79.0896, 'volume': 507288975}, {'date': '2024-03-01', 'open': 800, 'high': 823, 'low': 794.3503, 'close': 822.79, 'adjusted_close': 82.2557, 'volume': 479135115}, {'date': '2024-03-04', 'open': 841.3, 'high': 876.95, 'low': 837.19, 'close': 852.37, 'adjusted_close': 85.2128, 'volume': 615616444}, {'date': '2024-03-05', 'open': 852.7001, 'high': 860.97, 'low': 834.1702, 'close': 859.64, 'adjusted_close': 85.9437, 'volume': 520639295}, {'date': '2024-03-06', 'open': 880.22, 'high': 897.24, 'low': 870.3002, 'close': 887.0001, 'adjusted_close': 88.679, 'volume': 582520304}, {'date': '2024-03-07', 'open': 901.5801, 'high': 927.67, 'low': 896.0201, 'close': 926.69, 'adjusted_close': 92.6471, 'volume': 608119134}, {'date': '2024-03-08', 'open': 951.379, 'high': 974, 'low': 865.0601, 'close': 875.2801, 'adjusted_close': 87.5073, 'volume': 1142268969}, {'date': '2024-03-11', 'open': 864.2901, 'high': 887.97, 'low': 841.6601, 'close': 857.74, 'adjusted_close': 85.7537, 'volume': 678364053}, {'date': '2024-03-12', 'open': 880.4901, 'high': 919.6, 'low': 861.501, 'close': 919.13, 'adjusted_close': 91.8913, 'volume': 668075223}, {'date': '2024-03-13', 'open': 910.55, 'high': 915.04, 'low': 884.35, 'close': 908.88, 'adjusted_close': 90.8665, 'volume': 635712924}, {'date': '2024-03-14', 'open': 895.77, 'high': 906.46, 'low': 866, 'close': 879.44, 'adjusted_close': 87.9232, 'volume': 602318194}, {'date': '2024-03-15', 'open': 869.3, 'high': 895.4601, 'low': 862.5701, 'close': 878.365, 'adjusted_close': 87.8157, 'volume': 642086204}, {'date': '2024-03-18', 'open': 903.88, 'high': 924.05, 'low': 870.85, 'close': 884.5501, 'adjusted_close': 88.4341, 'volume': 668975933}, {'date': '2024-03-19', 'open': 867.0001, 'high': 905.44, 'low': 850.1, 'close': 893.98, 'adjusted_close': 89.3769, 'volume': 672171243}, {'date': '2024-03-20', 'open': 897.97, 'high': 904.1, 'low': 882.23, 'close': 903.72, 'adjusted_close': 90.3506, 'volume': 479062805}, {'date': '2024-03-21', 'open': 923, 'high': 926.48, 'low': 904.05, 'close': 914.35, 'adjusted_close': 91.4134, 'volume': 480372295}, {'date': '2024-03-22', 'open': 911.41, 'high': 947.7799, 'low': 908.3401, 'close': 942.89, 'adjusted_close': 94.2667, 'volume': 586719374}, {'date': '2024-03-25', 'open': 939.41, 'high': 967.6599, 'low': 935.1, 'close': 950.0201, 'adjusted_close': 94.9795, 'volume': 552136084}, {'date': '2024-03-26', 'open': 958.5101, 'high': 963.75, 'low': 925.0201, 'close': 925.61, 'adjusted_close': 92.5391, 'volume': 513647615}, {'date': '2024-03-27', 'open': 931.12, 'high': 932.4, 'low': 891.23, 'close': 902.5, 'adjusted_close': 90.2287, 'volume': 586067184}, {'date': '2024-03-28', 'open': 900, 'high': 913, 'low': 891.93, 'close': 903.5601, 'adjusted_close': 90.3346, 'volume': 435212296}, {'date': '2024-04-01', 'open': 902.9901, 'high': 922.25, 'low': 892.04, 'close': 903.63, 'adjusted_close': 90.3416, 'volume': 452441515}, {'date': '2024-04-02', 'open': 884.48, 'high': 900.94, 'low': 876.2, 'close': 894.52, 'adjusted_close': 89.4308, 'volume': 433063586}, {'date': '2024-04-03', 'open': 884.84, 'high': 903.74, 'low': 884, 'close': 889.64, 'adjusted_close': 88.943, 'volume': 370066596}, {'date': '2024-04-04', 'open': 904.06, 'high': 906.34, 'low': 858.8, 'close': 859.05, 'adjusted_close': 85.8847, 'volume': 434964876}, {'date': '2024-04-05', 'open': 868.66, 'high': 884.8101, 'low': 859.26, 'close': 880.08, 'adjusted_close': 87.9872, 'volume': 399678476}, {'date': '2024-04-08', 'open': 887.0001, 'high': 888.3001, 'low': 867.32, 'close': 871.33, 'adjusted_close': 87.1124, 'volume': 283219997}, {'date': '2024-04-09', 'open': 874.4201, 'high': 876.35, 'low': 830.22, 'close': 853.54, 'adjusted_close': 85.3338, 'volume': 503547375}, {'date': '2024-04-10', 'open': 839.26, 'high': 874, 'low': 837.0901, 'close': 870.39, 'adjusted_close': 87.0184, 'volume': 431928476}, {'date': '2024-04-11', 'open': 874.2001, 'high': 907.3899, 'low': 869.26, 'close': 906.16, 'adjusted_close': 90.5946, 'volume': 431637266}, {'date': '2024-04-12', 'open': 896.99, 'high': 901.7499, 'low': 875.3, 'close': 881.86, 'adjusted_close': 88.1651, 'volume': 426804796}, {'date': '2024-04-15', 'open': 890.98, 'high': 906.13, 'low': 859.2901, 'close': 860.01, 'adjusted_close': 85.9807, 'volume': 443076986}, {'date': '2024-04-16', 'open': 864.325, 'high': 881.1801, 'low': 860.639, 'close': 874.15, 'adjusted_close': 87.3943, 'volume': 370453006}, {'date': '2024-04-17', 'open': 883.4, 'high': 887.75, 'low': 839.5001, 'close': 840.35, 'adjusted_close': 84.0151, 'volume': 495399525}, {'date': '2024-04-18', 'open': 849.7, 'high': 861.9, 'low': 824.02, 'close': 846.7101, 'adjusted_close': 84.651, 'volume': 447260306}, {'date': '2024-04-19', 'open': 831.5, 'high': 843.24, 'low': 756.0601, 'close': 762.0001, 'adjusted_close': 76.182, 'volume': 875197961}, {'date': '2024-04-22', 'open': 781.04, 'high': 800.73, 'low': 764, 'close': 795.18, 'adjusted_close': 79.4992, 'volume': 596340464}, {'date': '2024-04-23', 'open': 807.6901, 'high': 827.6901, 'low': 802.64, 'close': 824.23, 'adjusted_close': 82.4035, 'volume': 438559406}, {'date': '2024-04-24', 'open': 839.5001, 'high': 840.82, 'low': 791.8301, 'close': 796.77, 'adjusted_close': 79.6582, 'volume': 512207535}, {'date': '2024-04-25', 'open': 788.6801, 'high': 833.2299, 'low': 782.23, 'close': 826.3201, 'adjusted_close': 82.6125, 'volume': 424640696}, {'date': '2024-04-26', 'open': 838.18, 'high': 883.3093, 'low': 833.87, 'close': 877.35, 'adjusted_close': 87.7142, 'volume': 551010854}, {'date': '2024-04-29', 'open': 875.95, 'high': 879.92, 'low': 852.66, 'close': 877.5701, 'adjusted_close': 87.7363, 'volume': 388970776}, {'date': '2024-04-30', 'open': 872.4, 'high': 888.19, 'low': 863, 'close': 864.02, 'adjusted_close': 86.3816, 'volume': 363708706}, {'date': '2024-05-01', 'open': 850.77, 'high': 860, 'low': 812.5457, 'close': 830.4101, 'adjusted_close': 83.0214, 'volume': 559863154}, {'date': '2024-05-02', 'open': 844.49, 'high': 862.37, 'low': 832.0001, 'close': 858.1701, 'adjusted_close': 85.7967, 'volume': 377897536}, {'date': '2024-05-03', 'open': 877.89, 'high': 892.81, 'low': 870.4, 'close': 887.89, 'adjusted_close': 88.768, 'volume': 398340696}, {'date': '2024-05-06', 'open': 893.9001, 'high': 922.2, 'low': 890.55, 'close': 921.4001, 'adjusted_close': 92.1182, 'volume': 376202616}, {'date': '2024-05-07', 'open': 910.98, 'high': 917.81, 'low': 890.11, 'close': 905.5401, 'adjusted_close': 90.5326, 'volume': 437341596}, {'date': '2024-05-08', 'open': 894.8251, 'high': 911.94, 'low': 894.2001, 'close': 904.12, 'adjusted_close': 90.3906, 'volume': 325720997}, {'date': '2024-05-09', 'open': 905.29, 'high': 910.72, 'low': 882.3101, 'close': 887.47, 'adjusted_close': 88.726, 'volume': 378012726}, {'date': '2024-05-10', 'open': 903.045, 'high': 914.01, 'low': 892.27, 'close': 898.78, 'adjusted_close': 89.8567, 'volume': 335325427}, {'date': '2024-05-13', 'open': 904.78, 'high': 909.98, 'low': 885.29, 'close': 903.99, 'adjusted_close': 90.3776, 'volume': 289680197}, {'date': '2024-05-14', 'open': 895.99, 'high': 916.51, 'low': 889.3401, 'close': 913.5601, 'adjusted_close': 91.3344, 'volume': 296507107}, {'date': '2024-05-15', 'open': 924.72, 'high': 948.62, 'low': 915.99, 'close': 946.3, 'adjusted_close': 94.6076, 'volume': 417735506}, {'date': '2024-05-16', 'open': 949.1, 'high': 958.1899, 'low': 941.03, 'close': 943.59, 'adjusted_close': 94.3367, 'volume': 323951817}, {'date': '2024-05-17', 'open': 943.6901, 'high': 947.4, 'low': 918.06, 'close': 924.79, 'adjusted_close': 92.4571, 'volume': 359691016}, {'date': '2024-05-20', 'open': 937.5, 'high': 952.0001, 'low': 934.4, 'close': 947.8, 'adjusted_close': 94.7576, 'volume': 318764467}, {'date': '2024-05-21', 'open': 935.99, 'high': 954, 'low': 931.8, 'close': 953.86, 'adjusted_close': 95.3634, 'volume': 328946477}, {'date': '2024-05-22', 'open': 954.5901, 'high': 960.2001, 'low': 932.49, 'close': 949.5001, 'adjusted_close': 94.9276, 'volume': 548648005}, {'date': '2024-05-23', 'open': 1020.28, 'high': 1063.2, 'low': 1015.2, 'close': 1037.99, 'adjusted_close': 103.7744, 'volume': 835065302}, {'date': '2024-05-24', 'open': 1044.49, 'high': 1064.75, 'low': 1030, 'close': 1064.69, 'adjusted_close': 106.4438, 'volume': 429493666}, {'date': '2024-05-28', 'open': 1102.44, 'high': 1149.39, 'low': 1098.83, 'close': 1139.01, 'adjusted_close': 113.8741, 'volume': 652727963}, {'date': '2024-05-29', 'open': 1130.5, 'high': 1154.92, 'low': 1109.01, 'close': 1148.25, 'adjusted_close': 114.7978, 'volume': 557441904}, {'date': '2024-05-30', 'open': 1146.5, 'high': 1158.192, 'low': 1096.63, 'close': 1105, 'adjusted_close': 110.4739, 'volume': 487350305}, {'date': '2024-05-31', 'open': 1125.2, 'high': 1127.17, 'low': 1069.4, 'close': 1096.33, 'adjusted_close': 109.6071, 'volume': 613262454}, {'date': '2024-06-03', 'open': 1136.21, 'high': 1150, 'low': 1120.03, 'close': 1150, 'adjusted_close': 114.9728, 'volume': 438391796}, {'date': '2024-06-04', 'open': 1157.16, 'high': 1166, 'low': 1140.45, 'close': 1164.37, 'adjusted_close': 116.4095, 'volume': 403323976}, {'date': '2024-06-05', 'open': 1183.71, 'high': 1224.495, 'low': 1174.68, 'close': 1224.4, 'adjusted_close': 122.411, 'volume': 528401795}, {'date': '2024-06-06', 'open': 1240.48, 'high': 1255.87, 'low': 1183.2, 'close': 1209.98, 'adjusted_close': 120.9694, 'volume': 664696163}, {'date': '2024-06-07', 'open': 1197.7, 'high': 1216.917, 'low': 1180.22, 'close': 1208.88, 'adjusted_close': 120.8594, 'volume': 412385776}, {'date': '2024-06-10', 'open': 120.37, 'high': 123.1, 'low': 117.01, 'close': 121.79, 'adjusted_close': 121.7612, 'volume': 314162688}, {'date': '2024-06-11', 'open': 121.77, 'high': 122.87, 'low': 118.74, 'close': 120.91, 'adjusted_close': 120.8913, 'volume': 222551203}, {'date': '2024-06-12', 'open': 123.06, 'high': 126.88, 'low': 122.57, 'close': 125.2, 'adjusted_close': 125.1807, 'volume': 299595000}, {'date': '2024-06-13', 'open': 129.39, 'high': 129.8, 'low': 127.16, 'close': 129.61, 'adjusted_close': 129.59, 'volume': 260704500}, {'date': '2024-06-14', 'open': 129.96, 'high': 132.84, 'low': 128.32, 'close': 131.88, 'adjusted_close': 131.8596, 'volume': 309320375}, {'date': '2024-06-17', 'open': 132.99, 'high': 133.73, 'low': 129.58, 'close': 130.98, 'adjusted_close': 130.9598, 'volume': 288504375}, {'date': '2024-06-18', 'open': 131.14, 'high': 136.33, 'low': 130.69, 'close': 135.58, 'adjusted_close': 135.5591, 'volume': 294335094}, {'date': '2024-06-20', 'open': 139.8, 'high': 140.76, 'low': 129.52, 'close': 130.78, 'adjusted_close': 130.7598, 'volume': 517768375}, {'date': '2024-06-21', 'open': 127.12, 'high': 130.63, 'low': 124.3, 'close': 126.57, 'adjusted_close': 126.5505, 'volume': 655484688}, {'date': '2024-06-24', 'open': 123.24, 'high': 124.46, 'low': 118.04, 'close': 118.11, 'adjusted_close': 118.0918, 'volume': 476060906}, {'date': '2024-06-25', 'open': 121.2, 'high': 126.5, 'low': 119.32, 'close': 126.09, 'adjusted_close': 126.0705, 'volume': 425787500}, {'date': '2024-06-26', 'open': 126.13, 'high': 128.12, 'low': 122.6, 'close': 126.4, 'adjusted_close': 126.3805, 'volume': 362975906}, {'date': '2024-06-27', 'open': 124.1, 'high': 126.41, 'low': 122.92, 'close': 123.99, 'adjusted_close': 123.9709, 'volume': 252571703}, {'date': '2024-06-28', 'open': 124.58, 'high': 127.71, 'low': 122.75, 'close': 123.54, 'adjusted_close': 123.5209, 'volume': 315516719}, {'date': '2024-07-01', 'open': 123.47, 'high': 124.84, 'low': 118.83, 'close': 124.3, 'adjusted_close': 124.2808, 'volume': 284885500}, {'date': '2024-07-02', 'open': 121.13, 'high': 123.41, 'low': 121.03, 'close': 122.67, 'adjusted_close': 122.6511, 'volume': 218374000}, {'date': '2024-07-03', 'open': 121.66, 'high': 128.28, 'low': 121.36, 'close': 128.28, 'adjusted_close': 128.2602, 'volume': 215748984}, {'date': '2024-07-05', 'open': 127.38, 'high': 128.85, 'low': 125.68, 'close': 125.83, 'adjusted_close': 125.8106, 'volume': 214176703}, {'date': '2024-07-08', 'open': 127.49, 'high': 130.77, 'low': 127.04, 'close': 128.2, 'adjusted_close': 128.1802, 'volume': 237677297}, {'date': '2024-07-09', 'open': 130.35, 'high': 133.82, 'low': 128.65, 'close': 131.38, 'adjusted_close': 131.3597, 'volume': 287020812}, {'date': '2024-07-10', 'open': 134.03, 'high': 135.1, 'low': 132.42, 'close': 134.91, 'adjusted_close': 134.8892, 'volume': 248978594}, {'date': '2024-07-11', 'open': 135.75, 'high': 136.15, 'low': 127.05, 'close': 127.4, 'adjusted_close': 127.3803, 'volume': 374782688}, {'date': '2024-07-12', 'open': 128.26, 'high': 131.92, 'low': 127.22, 'close': 129.24, 'adjusted_close': 129.22, 'volume': 252680500}, {'date': '2024-07-15', 'open': 130.56, 'high': 131.39, 'low': 127.18, 'close': 128.44, 'adjusted_close': 128.4202, 'volume': 208326203}, {'date': '2024-07-16', 'open': 128.44, 'high': 129.04, 'low': 124.58, 'close': 126.36, 'adjusted_close': 126.3405, 'volume': 214769500}, {'date': '2024-07-17', 'open': 121.35, 'high': 121.85, 'low': 116.72, 'close': 117.99, 'adjusted_close': 117.9718, 'volume': 390086219}, {'date': '2024-07-18', 'open': 121.85, 'high': 122.4, 'low': 116.56, 'close': 121.09, 'adjusted_close': 121.0713, 'volume': 320979500}, {'date': '2024-07-19', 'open': 120.35, 'high': 121.6, 'low': 117.37, 'close': 117.93, 'adjusted_close': 117.9118, 'volume': 217223812}, {'date': '2024-07-22', 'open': 120.35, 'high': 124.07, 'low': 119.86, 'close': 123.54, 'adjusted_close': 123.5209, 'volume': 258068891}, {'date': '2024-07-23', 'open': 122.78, 'high': 124.69, 'low': 122.1, 'close': 122.59, 'adjusted_close': 122.5711, 'volume': 173911016}, {'date': '2024-07-24', 'open': 119.17, 'high': 119.95, 'low': 113.44, 'close': 114.25, 'adjusted_close': 114.2324, 'volume': 327776906}, {'date': '2024-07-25', 'open': 113.04, 'high': 116.63, 'low': 106.3, 'close': 112.28, 'adjusted_close': 112.2627, 'volume': 460067000}, {'date': '2024-07-26', 'open': 116.19, 'high': 116.2, 'low': 111.58, 'close': 113.06, 'adjusted_close': 113.0425, 'volume': 293399094}, {'date': '2024-07-29', 'open': 113.69, 'high': 116.28, 'low': 111.3, 'close': 111.59, 'adjusted_close': 111.5728, 'volume': 248152094}, {'date': '2024-07-30', 'open': 111.52, 'high': 111.99, 'low': 102.54, 'close': 103.73, 'adjusted_close': 103.714, 'volume': 486833312}, {'date': '2024-07-31', 'open': 112.9, 'high': 118.34, 'low': 110.88, 'close': 117.02, 'adjusted_close': 117.0019, 'volume': 473174219}, {'date': '2024-08-01', 'open': 117.53, 'high': 120.16, 'low': 106.8104, 'close': 109.21, 'adjusted_close': 109.1931, 'volume': 523462312}, {'date': '2024-08-02', 'open': 103.76, 'high': 108.72, 'low': 101.37, 'close': 107.27, 'adjusted_close': 107.2534, 'volume': 482027500}, {'date': '2024-08-05', 'open': 92.06, 'high': 103.41, 'low': 90.69, 'close': 100.45, 'adjusted_close': 100.4345, 'volume': 552842375}, {'date': '2024-08-06', 'open': 103.84, 'high': 107.71, 'low': 100.55, 'close': 104.25, 'adjusted_close': 104.2339, 'volume': 409012094}, {'date': '2024-08-07', 'open': 107.81, 'high': 108.8, 'low': 98.69, 'close': 98.91, 'adjusted_close': 98.8947, 'volume': 411440375}, {'date': '2024-08-08', 'open': 102, 'high': 105.5, 'low': 97.52, 'close': 104.97, 'adjusted_close': 104.9538, 'volume': 391910031}, {'date': '2024-08-09', 'open': 105.64, 'high': 106.6, 'low': 103.43, 'close': 104.75, 'adjusted_close': 104.7338, 'volume': 290844188}, {'date': '2024-08-12', 'open': 106.32, 'high': 111.07, 'low': 106.26, 'close': 109.02, 'adjusted_close': 109.0032, 'volume': 325559906}, {'date': '2024-08-13', 'open': 112.44, 'high': 116.23, 'low': 111.58, 'close': 116.14, 'adjusted_close': 116.1221, 'volume': 312646688}, {'date': '2024-08-14', 'open': 118.53, 'high': 118.6, 'low': 114.07, 'close': 118.08, 'adjusted_close': 118.0618, 'volume': 339246406}, {'date': '2024-08-15', 'open': 118.76, 'high': 123.24, 'low': 117.47, 'close': 122.86, 'adjusted_close': 122.841, 'volume': 318086688}, {'date': '2024-08-16', 'open': 121.94, 'high': 125, 'low': 121.18, 'close': 124.58, 'adjusted_close': 124.5608, 'volume': 302589875}, {'date': '2024-08-19', 'open': 124.28, 'high': 130, 'low': 123.42, 'close': 130, 'adjusted_close': 129.9799, 'volume': 318333594}, {'date': '2024-08-20', 'open': 128.4, 'high': 129.88, 'low': 125.89, 'close': 127.25, 'adjusted_close': 127.2303, 'volume': 300087406}, {'date': '2024-08-21', 'open': 127.315, 'high': 129.35, 'low': 126.66, 'close': 128.5, 'adjusted_close': 128.4802, 'volume': 257883594}, {'date': '2024-08-22', 'open': 130.02, 'high': 130.75, 'low': 123.1, 'close': 123.74, 'adjusted_close': 123.7209, 'volume': 376189094}, {'date': '2024-08-23', 'open': 125.86, 'high': 129.6, 'low': 125.22, 'close': 129.37, 'adjusted_close': 129.35, 'volume': 323230312}, {'date': '2024-08-26', 'open': 129.57, 'high': 131.26, 'low': 124.37, 'close': 126.46, 'adjusted_close': 126.4405, 'volume': 331964719}, {'date': '2024-08-27', 'open': 125.05, 'high': 129.2, 'low': 123.88, 'close': 128.3, 'adjusted_close': 128.2802, 'volume': 303134594}, {'date': '2024-08-28', 'open': 128.12, 'high': 128.33, 'low': 122.64, 'close': 125.61, 'adjusted_close': 125.5906, 'volume': 448101094}, {'date': '2024-08-29', 'open': 121.355, 'high': 124.43, 'low': 116.71, 'close': 117.59, 'adjusted_close': 117.5718, 'volume': 453023281}, {'date': '2024-08-30', 'open': 119.53, 'high': 121.75, 'low': 117.22, 'close': 119.37, 'adjusted_close': 119.3516, 'volume': 333751625}, {'date': '2024-09-03', 'open': 116.01, 'high': 116.21, 'low': 107.29, 'close': 108, 'adjusted_close': 107.9833, 'volume': 474972000}, {'date': '2024-09-04', 'open': 105.41, 'high': 113.27, 'low': 104.12, 'close': 106.21, 'adjusted_close': 106.1936, 'volume': 372470312}, {'date': '2024-09-05', 'open': 104.985, 'high': 109.65, 'low': 104.76, 'close': 107.21, 'adjusted_close': 107.1934, 'volume': 306850688}, {'date': '2024-09-06', 'open': 108.04, 'high': 108.15, 'low': 100.95, 'close': 102.83, 'adjusted_close': 102.8141, 'volume': 413638125}, {'date': '2024-09-09', 'open': 104.88, 'high': 106.55, 'low': 103.69, 'close': 106.47, 'adjusted_close': 106.4536, 'volume': 273912000}, {'date': '2024-09-10', 'open': 107.81, 'high': 109.4, 'low': 104.95, 'close': 108.1, 'adjusted_close': 108.0833, 'volume': 268283688}, {'date': '2024-09-11', 'open': 109.39, 'high': 117.19, 'low': 107.42, 'close': 116.91, 'adjusted_close': 116.8919, 'volume': 441422406}, {'date': '2024-09-12', 'open': 116.84, 'high': 120.79, 'low': 115.38, 'close': 119.14, 'adjusted_close': 119.1318, 'volume': 367100500}, {'date': '2024-09-13', 'open': 119.08, 'high': 119.955, 'low': 117.6, 'close': 119.1, 'adjusted_close': 119.0918, 'volume': 238358297}, {'date': '2024-09-16', 'open': 116.79, 'high': 118.18, 'low': 114.36, 'close': 116.78, 'adjusted_close': 116.772, 'volume': 248772297}, {'date': '2024-09-17', 'open': 118.17, 'high': 118.8, 'low': 114.83, 'close': 115.59, 'adjusted_close': 115.582, 'volume': 231925906}, {'date': '2024-09-18', 'open': 115.89, 'high': 117.7, 'low': 113.22, 'close': 113.37, 'adjusted_close': 113.3622, 'volume': 310318906}, {'date': '2024-09-19', 'open': 117.35, 'high': 119.66, 'low': 117.25, 'close': 117.87, 'adjusted_close': 117.8619, 'volume': 293506406}, {'date': '2024-09-20', 'open': 117.06, 'high': 118.6181, 'low': 115.3901, 'close': 116, 'adjusted_close': 115.992, 'volume': 382462406}, {'date': '2024-09-23', 'open': 116.55, 'high': 116.99, 'low': 114.86, 'close': 116.26, 'adjusted_close': 116.252, 'volume': 206228500}, {'date': '2024-09-24', 'open': 116.515, 'high': 121.8, 'low': 115.38, 'close': 120.87, 'adjusted_close': 120.8617, 'volume': 354966781}, {'date': '2024-09-25', 'open': 122.02, 'high': 124.94, 'low': 121.61, 'close': 123.51, 'adjusted_close': 123.5015, 'volume': 284692906}, {'date': '2024-09-26', 'open': 126.8, 'high': 127.665, 'low': 121.8, 'close': 124.04, 'adjusted_close': 124.0315, 'volume': 302582906}, {'date': '2024-09-27', 'open': 123.97, 'high': 124.03, 'low': 119.26, 'close': 121.4, 'adjusted_close': 121.3916, 'volume': 271009219}, {'date': '2024-09-30', 'open': 118.31, 'high': 121.5, 'low': 118.15, 'close': 121.44, 'adjusted_close': 121.4316, 'volume': 227053703}, {'date': '2024-10-01', 'open': 121.765, 'high': 122.4351, 'low': 115.79, 'close': 117, 'adjusted_close': 116.9919, 'volume': 302094500}, {'date': '2024-10-02', 'open': 116.44, 'high': 119.38, 'low': 115.14, 'close': 118.85, 'adjusted_close': 118.8418, 'volume': 221845906}, {'date': '2024-10-03', 'open': 120.92, 'high': 124.36, 'low': 120.3401, 'close': 122.85, 'adjusted_close': 122.8415, 'volume': 277118031}, {'date': '2024-10-04', 'open': 124.94, 'high': 125.04, 'low': 121.83, 'close': 124.92, 'adjusted_close': 124.9114, 'volume': 244465594}, {'date': '2024-10-07', 'open': 124.99, 'high': 130.64, 'low': 124.95, 'close': 127.72, 'adjusted_close': 127.7112, 'volume': 346250219}, {'date': '2024-10-08', 'open': 130.26, 'high': 133.48, 'low': 129.42, 'close': 132.89, 'adjusted_close': 132.8808, 'volume': 285722500}, {'date': '2024-10-09', 'open': 134.11, 'high': 134.52, 'low': 131.38, 'close': 132.65, 'adjusted_close': 132.6409, 'volume': 246191594}, {'date': '2024-10-10', 'open': 131.91, 'high': 135, 'low': 131, 'close': 134.81, 'adjusted_close': 134.8007, 'volume': 242311297}, {'date': '2024-10-11', 'open': 134.01, 'high': 135.78, 'low': 133.66, 'close': 134.8, 'adjusted_close': 134.7907, 'volume': 170209500}, {'date': '2024-10-14', 'open': 136.47, 'high': 139.6, 'low': 136.3, 'close': 138.07, 'adjusted_close': 138.0605, 'volume': 232347703}, {'date': '2024-10-15', 'open': 137.87, 'high': 138.57, 'low': 128.74, 'close': 131.6, 'adjusted_close': 131.5909, 'volume': 377831000}, {'date': '2024-10-16', 'open': 133.98, 'high': 136.62, 'low': 131.58, 'close': 135.72, 'adjusted_close': 135.7106, 'volume': 264879688}, {'date': '2024-10-17', 'open': 139.34, 'high': 140.89, 'low': 136.87, 'close': 136.93, 'adjusted_close': 136.9206, 'volume': 306435906}, {'date': '2024-10-18', 'open': 138.665, 'high': 138.9, 'low': 137.28, 'close': 138, 'adjusted_close': 137.9905, 'volume': 176090203}, {'date': '2024-10-21', 'open': 138.13, 'high': 143.71, 'low': 138, 'close': 143.71, 'adjusted_close': 143.7001, 'volume': 264554500}, {'date': '2024-10-22', 'open': 142.91, 'high': 144.42, 'low': 141.78, 'close': 143.59, 'adjusted_close': 143.5801, 'volume': 226311594}, {'date': '2024-10-23', 'open': 142.03, 'high': 142.43, 'low': 137.46, 'close': 139.56, 'adjusted_close': 139.5504, 'volume': 285929969}, {'date': '2024-10-24', 'open': 140.82, 'high': 141.35, 'low': 138.46, 'close': 140.41, 'adjusted_close': 140.4003, 'volume': 172354891}, {'date': '2024-10-25', 'open': 140.93, 'high': 144.13, 'low': 140.8, 'close': 141.54, 'adjusted_close': 141.5302, 'volume': 205122094}, {'date': '2024-10-28', 'open': 143, 'high': 143.14, 'low': 140.05, 'close': 140.52, 'adjusted_close': 140.5103, 'volume': 173586703}, {'date': '2024-10-29', 'open': 140.285, 'high': 142.2598, 'low': 138.9, 'close': 141.25, 'adjusted_close': 141.2403, 'volume': 157593594}, {'date': '2024-10-30', 'open': 139.54, 'high': 140.33, 'low': 136.81, 'close': 139.335, 'adjusted_close': 139.3254, 'volume': 179418094}, {'date': '2024-10-31', 'open': 137.6, 'high': 137.61, 'low': 132.1106, 'close': 132.76, 'adjusted_close': 132.7509, 'volume': 270039625}, {'date': '2024-11-01', 'open': 134.7, 'high': 137.31, 'low': 134.57, 'close': 135.4, 'adjusted_close': 135.3907, 'volume': 207127812}, {'date': '2024-11-04', 'open': 137.21, 'high': 138.96, 'low': 135.57, 'close': 136.05, 'adjusted_close': 136.0406, 'volume': 187528188}, {'date': '2024-11-05', 'open': 137.45, 'high': 140.3701, 'low': 137.33, 'close': 139.91, 'adjusted_close': 139.9004, 'volume': 160537406}, {'date': '2024-11-06', 'open': 142.96, 'high': 146.49, 'low': 141.96, 'close': 145.61, 'adjusted_close': 145.6, 'volume': 242043906}, {'date': '2024-11-07', 'open': 146.39, 'high': 148.93, 'low': 146.17, 'close': 148.88, 'adjusted_close': 148.8697, 'volume': 207323297}, {'date': '2024-11-08', 'open': 148.77, 'high': 149.77, 'low': 146.26, 'close': 147.63, 'adjusted_close': 147.6198, 'volume': 175665797}, {'date': '2024-11-11', 'open': 148.68, 'high': 148.85, 'low': 143.57, 'close': 145.26, 'adjusted_close': 145.25, 'volume': 182325594}, {'date': '2024-11-12', 'open': 146.78, 'high': 149.65, 'low': 146.01, 'close': 148.29, 'adjusted_close': 148.2798, 'volume': 198634703}, {'date': '2024-11-13', 'open': 149.07, 'high': 149.33, 'low': 145.9, 'close': 146.27, 'adjusted_close': 146.2599, 'volume': 191903297}, {'date': '2024-11-14', 'open': 147.64, 'high': 149, 'low': 145.55, 'close': 146.76, 'adjusted_close': 146.7499, 'volume': 194463297}, {'date': '2024-11-15', 'open': 144.87, 'high': 145.24, 'low': 140.08, 'close': 141.98, 'adjusted_close': 141.9702, 'volume': 250132891}, {'date': '2024-11-18', 'open': 139.5, 'high': 141.55, 'low': 137.15, 'close': 140.15, 'adjusted_close': 140.1403, 'volume': 221866000}, {'date': '2024-11-19', 'open': 141.32, 'high': 147.13, 'low': 140.99, 'close': 147.01, 'adjusted_close': 146.9999, 'volume': 227834891}, {'date': '2024-11-20', 'open': 147.41, 'high': 147.56, 'low': 142.73, 'close': 145.89, 'adjusted_close': 145.8799, 'volume': 309871719}, {'date': '2024-11-21', 'open': 149.35, 'high': 152.89, 'low': 140.7, 'close': 146.67, 'adjusted_close': 146.6599, 'volume': 400946594}, {'date': '2024-11-22', 'open': 145.93, 'high': 147.16, 'low': 141.1, 'close': 141.95, 'adjusted_close': 141.9402, 'volume': 236406203}, {'date': '2024-11-25', 'open': 141.99, 'high': 142.05, 'low': 135.82, 'close': 136.02, 'adjusted_close': 136.0106, 'volume': 344941875}, {'date': '2024-11-26', 'open': 137.7, 'high': 139.3, 'low': 135.67, 'close': 136.92, 'adjusted_close': 136.9106, 'volume': 190287703}, {'date': '2024-11-27', 'open': 135.01, 'high': 137.22, 'low': 131.8, 'close': 135.34, 'adjusted_close': 135.3307, 'volume': 226370891}, {'date': '2024-11-29', 'open': 136.78, 'high': 139.35, 'low': 136.05, 'close': 138.25, 'adjusted_close': 138.2405, 'volume': 141863203}, {'date': '2024-12-02', 'open': 138.83, 'high': 140.45, 'low': 137.825, 'close': 138.63, 'adjusted_close': 138.6204, 'volume': 171682797}, {'date': '2024-12-03', 'open': 138.26, 'high': 140.54, 'low': 137.95, 'close': 140.26, 'adjusted_close': 140.2503, 'volume': 164414000}, {'date': '2024-12-04', 'open': 141.995, 'high': 145.79, 'low': 140.29, 'close': 145.14, 'adjusted_close': 145.13, 'volume': 231224297}, {'date': '2024-12-05', 'open': 145.11, 'high': 146.54, 'low': 143.95, 'close': 145.06, 'adjusted_close': 145.06, 'volume': 172621203}, {'date': '2024-12-06', 'open': 144.6, 'high': 145.7, 'low': 141.31, 'close': 142.44, 'adjusted_close': 142.44, 'volume': 188505573, 'warning': 'Data is limited by one year as you have free subscription'}]\n"
          ]
        }
      ]
    },
    {
      "cell_type": "code",
      "source": [
        "df_of_data = pd.DataFrame(df)\n",
        "df_of_data.to_csv('NVDA.csv')"
      ],
      "metadata": {
        "id": "l0qT6l4SUGcM"
      },
      "execution_count": 14,
      "outputs": []
    },
    {
      "cell_type": "code",
      "source": [
        "df_of_data.head()"
      ],
      "metadata": {
        "colab": {
          "base_uri": "https://localhost:8080/",
          "height": 206
        },
        "id": "svgTShqmUGUj",
        "outputId": "a52b118e-f18e-4bb6-af18-e1d7ebe170fa"
      },
      "execution_count": 15,
      "outputs": [
        {
          "output_type": "execute_result",
          "data": {
            "text/plain": [
              "         date         open         high          low        close  \\\n",
              "0  2023-12-08 465.95000000 477.40850000 465.50000000 475.06000000   \n",
              "1  2023-12-11 474.91000000 475.31000000 458.30000000 466.27000000   \n",
              "2  2023-12-12 460.46000000 476.66000000 460.46000000 476.57000000   \n",
              "3  2023-12-13 476.29000000 485.94000000 476.08000000 480.88000000   \n",
              "4  2023-12-14 483.90000000 486.70000000 474.22000000 483.50000000   \n",
              "\n",
              "   adjusted_close     volume warning  \n",
              "0     47.49250000  359223666     NaN  \n",
              "1     46.61380000  509728085     NaN  \n",
              "2     47.64350000  372386876     NaN  \n",
              "3     48.07440000  447791906     NaN  \n",
              "4     48.33630000  391231676     NaN  "
            ],
            "text/html": [
              "\n",
              "  <div id=\"df-dc40bd56-077c-4c44-ab73-c6b86e241d6d\" class=\"colab-df-container\">\n",
              "    <div>\n",
              "<style scoped>\n",
              "    .dataframe tbody tr th:only-of-type {\n",
              "        vertical-align: middle;\n",
              "    }\n",
              "\n",
              "    .dataframe tbody tr th {\n",
              "        vertical-align: top;\n",
              "    }\n",
              "\n",
              "    .dataframe thead th {\n",
              "        text-align: right;\n",
              "    }\n",
              "</style>\n",
              "<table border=\"1\" class=\"dataframe\">\n",
              "  <thead>\n",
              "    <tr style=\"text-align: right;\">\n",
              "      <th></th>\n",
              "      <th>date</th>\n",
              "      <th>open</th>\n",
              "      <th>high</th>\n",
              "      <th>low</th>\n",
              "      <th>close</th>\n",
              "      <th>adjusted_close</th>\n",
              "      <th>volume</th>\n",
              "      <th>warning</th>\n",
              "    </tr>\n",
              "  </thead>\n",
              "  <tbody>\n",
              "    <tr>\n",
              "      <th>0</th>\n",
              "      <td>2023-12-08</td>\n",
              "      <td>465.95000000</td>\n",
              "      <td>477.40850000</td>\n",
              "      <td>465.50000000</td>\n",
              "      <td>475.06000000</td>\n",
              "      <td>47.49250000</td>\n",
              "      <td>359223666</td>\n",
              "      <td>NaN</td>\n",
              "    </tr>\n",
              "    <tr>\n",
              "      <th>1</th>\n",
              "      <td>2023-12-11</td>\n",
              "      <td>474.91000000</td>\n",
              "      <td>475.31000000</td>\n",
              "      <td>458.30000000</td>\n",
              "      <td>466.27000000</td>\n",
              "      <td>46.61380000</td>\n",
              "      <td>509728085</td>\n",
              "      <td>NaN</td>\n",
              "    </tr>\n",
              "    <tr>\n",
              "      <th>2</th>\n",
              "      <td>2023-12-12</td>\n",
              "      <td>460.46000000</td>\n",
              "      <td>476.66000000</td>\n",
              "      <td>460.46000000</td>\n",
              "      <td>476.57000000</td>\n",
              "      <td>47.64350000</td>\n",
              "      <td>372386876</td>\n",
              "      <td>NaN</td>\n",
              "    </tr>\n",
              "    <tr>\n",
              "      <th>3</th>\n",
              "      <td>2023-12-13</td>\n",
              "      <td>476.29000000</td>\n",
              "      <td>485.94000000</td>\n",
              "      <td>476.08000000</td>\n",
              "      <td>480.88000000</td>\n",
              "      <td>48.07440000</td>\n",
              "      <td>447791906</td>\n",
              "      <td>NaN</td>\n",
              "    </tr>\n",
              "    <tr>\n",
              "      <th>4</th>\n",
              "      <td>2023-12-14</td>\n",
              "      <td>483.90000000</td>\n",
              "      <td>486.70000000</td>\n",
              "      <td>474.22000000</td>\n",
              "      <td>483.50000000</td>\n",
              "      <td>48.33630000</td>\n",
              "      <td>391231676</td>\n",
              "      <td>NaN</td>\n",
              "    </tr>\n",
              "  </tbody>\n",
              "</table>\n",
              "</div>\n",
              "    <div class=\"colab-df-buttons\">\n",
              "\n",
              "  <div class=\"colab-df-container\">\n",
              "    <button class=\"colab-df-convert\" onclick=\"convertToInteractive('df-dc40bd56-077c-4c44-ab73-c6b86e241d6d')\"\n",
              "            title=\"Convert this dataframe to an interactive table.\"\n",
              "            style=\"display:none;\">\n",
              "\n",
              "  <svg xmlns=\"http://www.w3.org/2000/svg\" height=\"24px\" viewBox=\"0 -960 960 960\">\n",
              "    <path d=\"M120-120v-720h720v720H120Zm60-500h600v-160H180v160Zm220 220h160v-160H400v160Zm0 220h160v-160H400v160ZM180-400h160v-160H180v160Zm440 0h160v-160H620v160ZM180-180h160v-160H180v160Zm440 0h160v-160H620v160Z\"/>\n",
              "  </svg>\n",
              "    </button>\n",
              "\n",
              "  <style>\n",
              "    .colab-df-container {\n",
              "      display:flex;\n",
              "      gap: 12px;\n",
              "    }\n",
              "\n",
              "    .colab-df-convert {\n",
              "      background-color: #E8F0FE;\n",
              "      border: none;\n",
              "      border-radius: 50%;\n",
              "      cursor: pointer;\n",
              "      display: none;\n",
              "      fill: #1967D2;\n",
              "      height: 32px;\n",
              "      padding: 0 0 0 0;\n",
              "      width: 32px;\n",
              "    }\n",
              "\n",
              "    .colab-df-convert:hover {\n",
              "      background-color: #E2EBFA;\n",
              "      box-shadow: 0px 1px 2px rgba(60, 64, 67, 0.3), 0px 1px 3px 1px rgba(60, 64, 67, 0.15);\n",
              "      fill: #174EA6;\n",
              "    }\n",
              "\n",
              "    .colab-df-buttons div {\n",
              "      margin-bottom: 4px;\n",
              "    }\n",
              "\n",
              "    [theme=dark] .colab-df-convert {\n",
              "      background-color: #3B4455;\n",
              "      fill: #D2E3FC;\n",
              "    }\n",
              "\n",
              "    [theme=dark] .colab-df-convert:hover {\n",
              "      background-color: #434B5C;\n",
              "      box-shadow: 0px 1px 3px 1px rgba(0, 0, 0, 0.15);\n",
              "      filter: drop-shadow(0px 1px 2px rgba(0, 0, 0, 0.3));\n",
              "      fill: #FFFFFF;\n",
              "    }\n",
              "  </style>\n",
              "\n",
              "    <script>\n",
              "      const buttonEl =\n",
              "        document.querySelector('#df-dc40bd56-077c-4c44-ab73-c6b86e241d6d button.colab-df-convert');\n",
              "      buttonEl.style.display =\n",
              "        google.colab.kernel.accessAllowed ? 'block' : 'none';\n",
              "\n",
              "      async function convertToInteractive(key) {\n",
              "        const element = document.querySelector('#df-dc40bd56-077c-4c44-ab73-c6b86e241d6d');\n",
              "        const dataTable =\n",
              "          await google.colab.kernel.invokeFunction('convertToInteractive',\n",
              "                                                    [key], {});\n",
              "        if (!dataTable) return;\n",
              "\n",
              "        const docLinkHtml = 'Like what you see? Visit the ' +\n",
              "          '<a target=\"_blank\" href=https://colab.research.google.com/notebooks/data_table.ipynb>data table notebook</a>'\n",
              "          + ' to learn more about interactive tables.';\n",
              "        element.innerHTML = '';\n",
              "        dataTable['output_type'] = 'display_data';\n",
              "        await google.colab.output.renderOutput(dataTable, element);\n",
              "        const docLink = document.createElement('div');\n",
              "        docLink.innerHTML = docLinkHtml;\n",
              "        element.appendChild(docLink);\n",
              "      }\n",
              "    </script>\n",
              "  </div>\n",
              "\n",
              "\n",
              "<div id=\"df-e7e89f70-a50a-4c2c-a8f5-3d2b4b7e982d\">\n",
              "  <button class=\"colab-df-quickchart\" onclick=\"quickchart('df-e7e89f70-a50a-4c2c-a8f5-3d2b4b7e982d')\"\n",
              "            title=\"Suggest charts\"\n",
              "            style=\"display:none;\">\n",
              "\n",
              "<svg xmlns=\"http://www.w3.org/2000/svg\" height=\"24px\"viewBox=\"0 0 24 24\"\n",
              "     width=\"24px\">\n",
              "    <g>\n",
              "        <path d=\"M19 3H5c-1.1 0-2 .9-2 2v14c0 1.1.9 2 2 2h14c1.1 0 2-.9 2-2V5c0-1.1-.9-2-2-2zM9 17H7v-7h2v7zm4 0h-2V7h2v10zm4 0h-2v-4h2v4z\"/>\n",
              "    </g>\n",
              "</svg>\n",
              "  </button>\n",
              "\n",
              "<style>\n",
              "  .colab-df-quickchart {\n",
              "      --bg-color: #E8F0FE;\n",
              "      --fill-color: #1967D2;\n",
              "      --hover-bg-color: #E2EBFA;\n",
              "      --hover-fill-color: #174EA6;\n",
              "      --disabled-fill-color: #AAA;\n",
              "      --disabled-bg-color: #DDD;\n",
              "  }\n",
              "\n",
              "  [theme=dark] .colab-df-quickchart {\n",
              "      --bg-color: #3B4455;\n",
              "      --fill-color: #D2E3FC;\n",
              "      --hover-bg-color: #434B5C;\n",
              "      --hover-fill-color: #FFFFFF;\n",
              "      --disabled-bg-color: #3B4455;\n",
              "      --disabled-fill-color: #666;\n",
              "  }\n",
              "\n",
              "  .colab-df-quickchart {\n",
              "    background-color: var(--bg-color);\n",
              "    border: none;\n",
              "    border-radius: 50%;\n",
              "    cursor: pointer;\n",
              "    display: none;\n",
              "    fill: var(--fill-color);\n",
              "    height: 32px;\n",
              "    padding: 0;\n",
              "    width: 32px;\n",
              "  }\n",
              "\n",
              "  .colab-df-quickchart:hover {\n",
              "    background-color: var(--hover-bg-color);\n",
              "    box-shadow: 0 1px 2px rgba(60, 64, 67, 0.3), 0 1px 3px 1px rgba(60, 64, 67, 0.15);\n",
              "    fill: var(--button-hover-fill-color);\n",
              "  }\n",
              "\n",
              "  .colab-df-quickchart-complete:disabled,\n",
              "  .colab-df-quickchart-complete:disabled:hover {\n",
              "    background-color: var(--disabled-bg-color);\n",
              "    fill: var(--disabled-fill-color);\n",
              "    box-shadow: none;\n",
              "  }\n",
              "\n",
              "  .colab-df-spinner {\n",
              "    border: 2px solid var(--fill-color);\n",
              "    border-color: transparent;\n",
              "    border-bottom-color: var(--fill-color);\n",
              "    animation:\n",
              "      spin 1s steps(1) infinite;\n",
              "  }\n",
              "\n",
              "  @keyframes spin {\n",
              "    0% {\n",
              "      border-color: transparent;\n",
              "      border-bottom-color: var(--fill-color);\n",
              "      border-left-color: var(--fill-color);\n",
              "    }\n",
              "    20% {\n",
              "      border-color: transparent;\n",
              "      border-left-color: var(--fill-color);\n",
              "      border-top-color: var(--fill-color);\n",
              "    }\n",
              "    30% {\n",
              "      border-color: transparent;\n",
              "      border-left-color: var(--fill-color);\n",
              "      border-top-color: var(--fill-color);\n",
              "      border-right-color: var(--fill-color);\n",
              "    }\n",
              "    40% {\n",
              "      border-color: transparent;\n",
              "      border-right-color: var(--fill-color);\n",
              "      border-top-color: var(--fill-color);\n",
              "    }\n",
              "    60% {\n",
              "      border-color: transparent;\n",
              "      border-right-color: var(--fill-color);\n",
              "    }\n",
              "    80% {\n",
              "      border-color: transparent;\n",
              "      border-right-color: var(--fill-color);\n",
              "      border-bottom-color: var(--fill-color);\n",
              "    }\n",
              "    90% {\n",
              "      border-color: transparent;\n",
              "      border-bottom-color: var(--fill-color);\n",
              "    }\n",
              "  }\n",
              "</style>\n",
              "\n",
              "  <script>\n",
              "    async function quickchart(key) {\n",
              "      const quickchartButtonEl =\n",
              "        document.querySelector('#' + key + ' button');\n",
              "      quickchartButtonEl.disabled = true;  // To prevent multiple clicks.\n",
              "      quickchartButtonEl.classList.add('colab-df-spinner');\n",
              "      try {\n",
              "        const charts = await google.colab.kernel.invokeFunction(\n",
              "            'suggestCharts', [key], {});\n",
              "      } catch (error) {\n",
              "        console.error('Error during call to suggestCharts:', error);\n",
              "      }\n",
              "      quickchartButtonEl.classList.remove('colab-df-spinner');\n",
              "      quickchartButtonEl.classList.add('colab-df-quickchart-complete');\n",
              "    }\n",
              "    (() => {\n",
              "      let quickchartButtonEl =\n",
              "        document.querySelector('#df-e7e89f70-a50a-4c2c-a8f5-3d2b4b7e982d button');\n",
              "      quickchartButtonEl.style.display =\n",
              "        google.colab.kernel.accessAllowed ? 'block' : 'none';\n",
              "    })();\n",
              "  </script>\n",
              "</div>\n",
              "\n",
              "    </div>\n",
              "  </div>\n"
            ],
            "application/vnd.google.colaboratory.intrinsic+json": {
              "type": "dataframe",
              "variable_name": "df_of_data",
              "summary": "{\n  \"name\": \"df_of_data\",\n  \"rows\": 251,\n  \"fields\": [\n    {\n      \"column\": \"date\",\n      \"properties\": {\n        \"dtype\": \"object\",\n        \"num_unique_values\": 251,\n        \"samples\": [\n          \"2024-07-24\",\n          \"2023-12-18\",\n          \"2024-08-06\"\n        ],\n        \"semantic_type\": \"\",\n        \"description\": \"\"\n      }\n    },\n    {\n      \"column\": \"open\",\n      \"properties\": {\n        \"dtype\": \"number\",\n        \"std\": 353.97111649494155,\n        \"min\": 92.06,\n        \"max\": 1240.48,\n        \"num_unique_values\": 249,\n        \"samples\": [\n          124.1,\n          494.0,\n          872.4\n        ],\n        \"semantic_type\": \"\",\n        \"description\": \"\"\n      }\n    },\n    {\n      \"column\": \"high\",\n      \"properties\": {\n        \"dtype\": \"number\",\n        \"std\": 360.444070793404,\n        \"min\": 103.41,\n        \"max\": 1255.87,\n        \"num_unique_values\": 251,\n        \"samples\": [\n          119.95,\n          504.3299,\n          107.71\n        ],\n        \"semantic_type\": \"\",\n        \"description\": \"\"\n      }\n    },\n    {\n      \"column\": \"low\",\n      \"properties\": {\n        \"dtype\": \"number\",\n        \"std\": 346.7861589375502,\n        \"min\": 90.69,\n        \"max\": 1183.2,\n        \"num_unique_values\": 249,\n        \"samples\": [\n          122.92,\n          491.5,\n          863.0\n        ],\n        \"semantic_type\": \"\",\n        \"description\": \"\"\n      }\n    },\n    {\n      \"column\": \"close\",\n      \"properties\": {\n        \"dtype\": \"number\",\n        \"std\": 354.54898659762364,\n        \"min\": 98.91,\n        \"max\": 1224.4,\n        \"num_unique_values\": 249,\n        \"samples\": [\n          123.54,\n          500.77,\n          830.4101\n        ],\n        \"semantic_type\": \"\",\n        \"description\": \"\"\n      }\n    },\n    {\n      \"column\": \"adjusted_close\",\n      \"properties\": {\n        \"dtype\": \"number\",\n        \"std\": 29.34223160470539,\n        \"min\": 46.6138,\n        \"max\": 148.8697,\n        \"num_unique_values\": 249,\n        \"samples\": [\n          123.5209,\n          50.0628,\n          83.0214\n        ],\n        \"semantic_type\": \"\",\n        \"description\": \"\"\n      }\n    },\n    {\n      \"column\": \"volume\",\n      \"properties\": {\n        \"dtype\": \"number\",\n        \"std\": 156231156,\n        \"min\": 141863203,\n        \"max\": 1142268969,\n        \"num_unique_values\": 251,\n        \"samples\": [\n          327776906,\n          412587186,\n          409012094\n        ],\n        \"semantic_type\": \"\",\n        \"description\": \"\"\n      }\n    },\n    {\n      \"column\": \"warning\",\n      \"properties\": {\n        \"dtype\": \"category\",\n        \"num_unique_values\": 1,\n        \"samples\": [\n          \"Data is limited by one year as you have free subscription\"\n        ],\n        \"semantic_type\": \"\",\n        \"description\": \"\"\n      }\n    }\n  ]\n}"
            }
          },
          "metadata": {},
          "execution_count": 15
        }
      ]
    },
    {
      "cell_type": "code",
      "source": [
        "df_of_data.tail()"
      ],
      "metadata": {
        "collapsed": true,
        "colab": {
          "base_uri": "https://localhost:8080/",
          "height": 206
        },
        "id": "9ZTmyoqoUGHM",
        "outputId": "464b4ae4-fed2-408e-d859-55a73504eaf5"
      },
      "execution_count": 16,
      "outputs": [
        {
          "output_type": "execute_result",
          "data": {
            "text/plain": [
              "           date         open         high          low        close  \\\n",
              "246  2024-12-02 138.83000000 140.45000000 137.82500000 138.63000000   \n",
              "247  2024-12-03 138.26000000 140.54000000 137.95000000 140.26000000   \n",
              "248  2024-12-04 141.99500000 145.79000000 140.29000000 145.14000000   \n",
              "249  2024-12-05 145.11000000 146.54000000 143.95000000 145.06000000   \n",
              "250  2024-12-06 144.60000000 145.70000000 141.31000000 142.44000000   \n",
              "\n",
              "     adjusted_close     volume  \\\n",
              "246    138.62040000  171682797   \n",
              "247    140.25030000  164414000   \n",
              "248    145.13000000  231224297   \n",
              "249    145.06000000  172621203   \n",
              "250    142.44000000  188505573   \n",
              "\n",
              "                                               warning  \n",
              "246                                                NaN  \n",
              "247                                                NaN  \n",
              "248                                                NaN  \n",
              "249                                                NaN  \n",
              "250  Data is limited by one year as you have free s...  "
            ],
            "text/html": [
              "\n",
              "  <div id=\"df-dd455eda-a274-4764-a0fc-2883d90072da\" class=\"colab-df-container\">\n",
              "    <div>\n",
              "<style scoped>\n",
              "    .dataframe tbody tr th:only-of-type {\n",
              "        vertical-align: middle;\n",
              "    }\n",
              "\n",
              "    .dataframe tbody tr th {\n",
              "        vertical-align: top;\n",
              "    }\n",
              "\n",
              "    .dataframe thead th {\n",
              "        text-align: right;\n",
              "    }\n",
              "</style>\n",
              "<table border=\"1\" class=\"dataframe\">\n",
              "  <thead>\n",
              "    <tr style=\"text-align: right;\">\n",
              "      <th></th>\n",
              "      <th>date</th>\n",
              "      <th>open</th>\n",
              "      <th>high</th>\n",
              "      <th>low</th>\n",
              "      <th>close</th>\n",
              "      <th>adjusted_close</th>\n",
              "      <th>volume</th>\n",
              "      <th>warning</th>\n",
              "    </tr>\n",
              "  </thead>\n",
              "  <tbody>\n",
              "    <tr>\n",
              "      <th>246</th>\n",
              "      <td>2024-12-02</td>\n",
              "      <td>138.83000000</td>\n",
              "      <td>140.45000000</td>\n",
              "      <td>137.82500000</td>\n",
              "      <td>138.63000000</td>\n",
              "      <td>138.62040000</td>\n",
              "      <td>171682797</td>\n",
              "      <td>NaN</td>\n",
              "    </tr>\n",
              "    <tr>\n",
              "      <th>247</th>\n",
              "      <td>2024-12-03</td>\n",
              "      <td>138.26000000</td>\n",
              "      <td>140.54000000</td>\n",
              "      <td>137.95000000</td>\n",
              "      <td>140.26000000</td>\n",
              "      <td>140.25030000</td>\n",
              "      <td>164414000</td>\n",
              "      <td>NaN</td>\n",
              "    </tr>\n",
              "    <tr>\n",
              "      <th>248</th>\n",
              "      <td>2024-12-04</td>\n",
              "      <td>141.99500000</td>\n",
              "      <td>145.79000000</td>\n",
              "      <td>140.29000000</td>\n",
              "      <td>145.14000000</td>\n",
              "      <td>145.13000000</td>\n",
              "      <td>231224297</td>\n",
              "      <td>NaN</td>\n",
              "    </tr>\n",
              "    <tr>\n",
              "      <th>249</th>\n",
              "      <td>2024-12-05</td>\n",
              "      <td>145.11000000</td>\n",
              "      <td>146.54000000</td>\n",
              "      <td>143.95000000</td>\n",
              "      <td>145.06000000</td>\n",
              "      <td>145.06000000</td>\n",
              "      <td>172621203</td>\n",
              "      <td>NaN</td>\n",
              "    </tr>\n",
              "    <tr>\n",
              "      <th>250</th>\n",
              "      <td>2024-12-06</td>\n",
              "      <td>144.60000000</td>\n",
              "      <td>145.70000000</td>\n",
              "      <td>141.31000000</td>\n",
              "      <td>142.44000000</td>\n",
              "      <td>142.44000000</td>\n",
              "      <td>188505573</td>\n",
              "      <td>Data is limited by one year as you have free s...</td>\n",
              "    </tr>\n",
              "  </tbody>\n",
              "</table>\n",
              "</div>\n",
              "    <div class=\"colab-df-buttons\">\n",
              "\n",
              "  <div class=\"colab-df-container\">\n",
              "    <button class=\"colab-df-convert\" onclick=\"convertToInteractive('df-dd455eda-a274-4764-a0fc-2883d90072da')\"\n",
              "            title=\"Convert this dataframe to an interactive table.\"\n",
              "            style=\"display:none;\">\n",
              "\n",
              "  <svg xmlns=\"http://www.w3.org/2000/svg\" height=\"24px\" viewBox=\"0 -960 960 960\">\n",
              "    <path d=\"M120-120v-720h720v720H120Zm60-500h600v-160H180v160Zm220 220h160v-160H400v160Zm0 220h160v-160H400v160ZM180-400h160v-160H180v160Zm440 0h160v-160H620v160ZM180-180h160v-160H180v160Zm440 0h160v-160H620v160Z\"/>\n",
              "  </svg>\n",
              "    </button>\n",
              "\n",
              "  <style>\n",
              "    .colab-df-container {\n",
              "      display:flex;\n",
              "      gap: 12px;\n",
              "    }\n",
              "\n",
              "    .colab-df-convert {\n",
              "      background-color: #E8F0FE;\n",
              "      border: none;\n",
              "      border-radius: 50%;\n",
              "      cursor: pointer;\n",
              "      display: none;\n",
              "      fill: #1967D2;\n",
              "      height: 32px;\n",
              "      padding: 0 0 0 0;\n",
              "      width: 32px;\n",
              "    }\n",
              "\n",
              "    .colab-df-convert:hover {\n",
              "      background-color: #E2EBFA;\n",
              "      box-shadow: 0px 1px 2px rgba(60, 64, 67, 0.3), 0px 1px 3px 1px rgba(60, 64, 67, 0.15);\n",
              "      fill: #174EA6;\n",
              "    }\n",
              "\n",
              "    .colab-df-buttons div {\n",
              "      margin-bottom: 4px;\n",
              "    }\n",
              "\n",
              "    [theme=dark] .colab-df-convert {\n",
              "      background-color: #3B4455;\n",
              "      fill: #D2E3FC;\n",
              "    }\n",
              "\n",
              "    [theme=dark] .colab-df-convert:hover {\n",
              "      background-color: #434B5C;\n",
              "      box-shadow: 0px 1px 3px 1px rgba(0, 0, 0, 0.15);\n",
              "      filter: drop-shadow(0px 1px 2px rgba(0, 0, 0, 0.3));\n",
              "      fill: #FFFFFF;\n",
              "    }\n",
              "  </style>\n",
              "\n",
              "    <script>\n",
              "      const buttonEl =\n",
              "        document.querySelector('#df-dd455eda-a274-4764-a0fc-2883d90072da button.colab-df-convert');\n",
              "      buttonEl.style.display =\n",
              "        google.colab.kernel.accessAllowed ? 'block' : 'none';\n",
              "\n",
              "      async function convertToInteractive(key) {\n",
              "        const element = document.querySelector('#df-dd455eda-a274-4764-a0fc-2883d90072da');\n",
              "        const dataTable =\n",
              "          await google.colab.kernel.invokeFunction('convertToInteractive',\n",
              "                                                    [key], {});\n",
              "        if (!dataTable) return;\n",
              "\n",
              "        const docLinkHtml = 'Like what you see? Visit the ' +\n",
              "          '<a target=\"_blank\" href=https://colab.research.google.com/notebooks/data_table.ipynb>data table notebook</a>'\n",
              "          + ' to learn more about interactive tables.';\n",
              "        element.innerHTML = '';\n",
              "        dataTable['output_type'] = 'display_data';\n",
              "        await google.colab.output.renderOutput(dataTable, element);\n",
              "        const docLink = document.createElement('div');\n",
              "        docLink.innerHTML = docLinkHtml;\n",
              "        element.appendChild(docLink);\n",
              "      }\n",
              "    </script>\n",
              "  </div>\n",
              "\n",
              "\n",
              "<div id=\"df-21dac3fb-7f83-453e-84b6-6f0d0da60e04\">\n",
              "  <button class=\"colab-df-quickchart\" onclick=\"quickchart('df-21dac3fb-7f83-453e-84b6-6f0d0da60e04')\"\n",
              "            title=\"Suggest charts\"\n",
              "            style=\"display:none;\">\n",
              "\n",
              "<svg xmlns=\"http://www.w3.org/2000/svg\" height=\"24px\"viewBox=\"0 0 24 24\"\n",
              "     width=\"24px\">\n",
              "    <g>\n",
              "        <path d=\"M19 3H5c-1.1 0-2 .9-2 2v14c0 1.1.9 2 2 2h14c1.1 0 2-.9 2-2V5c0-1.1-.9-2-2-2zM9 17H7v-7h2v7zm4 0h-2V7h2v10zm4 0h-2v-4h2v4z\"/>\n",
              "    </g>\n",
              "</svg>\n",
              "  </button>\n",
              "\n",
              "<style>\n",
              "  .colab-df-quickchart {\n",
              "      --bg-color: #E8F0FE;\n",
              "      --fill-color: #1967D2;\n",
              "      --hover-bg-color: #E2EBFA;\n",
              "      --hover-fill-color: #174EA6;\n",
              "      --disabled-fill-color: #AAA;\n",
              "      --disabled-bg-color: #DDD;\n",
              "  }\n",
              "\n",
              "  [theme=dark] .colab-df-quickchart {\n",
              "      --bg-color: #3B4455;\n",
              "      --fill-color: #D2E3FC;\n",
              "      --hover-bg-color: #434B5C;\n",
              "      --hover-fill-color: #FFFFFF;\n",
              "      --disabled-bg-color: #3B4455;\n",
              "      --disabled-fill-color: #666;\n",
              "  }\n",
              "\n",
              "  .colab-df-quickchart {\n",
              "    background-color: var(--bg-color);\n",
              "    border: none;\n",
              "    border-radius: 50%;\n",
              "    cursor: pointer;\n",
              "    display: none;\n",
              "    fill: var(--fill-color);\n",
              "    height: 32px;\n",
              "    padding: 0;\n",
              "    width: 32px;\n",
              "  }\n",
              "\n",
              "  .colab-df-quickchart:hover {\n",
              "    background-color: var(--hover-bg-color);\n",
              "    box-shadow: 0 1px 2px rgba(60, 64, 67, 0.3), 0 1px 3px 1px rgba(60, 64, 67, 0.15);\n",
              "    fill: var(--button-hover-fill-color);\n",
              "  }\n",
              "\n",
              "  .colab-df-quickchart-complete:disabled,\n",
              "  .colab-df-quickchart-complete:disabled:hover {\n",
              "    background-color: var(--disabled-bg-color);\n",
              "    fill: var(--disabled-fill-color);\n",
              "    box-shadow: none;\n",
              "  }\n",
              "\n",
              "  .colab-df-spinner {\n",
              "    border: 2px solid var(--fill-color);\n",
              "    border-color: transparent;\n",
              "    border-bottom-color: var(--fill-color);\n",
              "    animation:\n",
              "      spin 1s steps(1) infinite;\n",
              "  }\n",
              "\n",
              "  @keyframes spin {\n",
              "    0% {\n",
              "      border-color: transparent;\n",
              "      border-bottom-color: var(--fill-color);\n",
              "      border-left-color: var(--fill-color);\n",
              "    }\n",
              "    20% {\n",
              "      border-color: transparent;\n",
              "      border-left-color: var(--fill-color);\n",
              "      border-top-color: var(--fill-color);\n",
              "    }\n",
              "    30% {\n",
              "      border-color: transparent;\n",
              "      border-left-color: var(--fill-color);\n",
              "      border-top-color: var(--fill-color);\n",
              "      border-right-color: var(--fill-color);\n",
              "    }\n",
              "    40% {\n",
              "      border-color: transparent;\n",
              "      border-right-color: var(--fill-color);\n",
              "      border-top-color: var(--fill-color);\n",
              "    }\n",
              "    60% {\n",
              "      border-color: transparent;\n",
              "      border-right-color: var(--fill-color);\n",
              "    }\n",
              "    80% {\n",
              "      border-color: transparent;\n",
              "      border-right-color: var(--fill-color);\n",
              "      border-bottom-color: var(--fill-color);\n",
              "    }\n",
              "    90% {\n",
              "      border-color: transparent;\n",
              "      border-bottom-color: var(--fill-color);\n",
              "    }\n",
              "  }\n",
              "</style>\n",
              "\n",
              "  <script>\n",
              "    async function quickchart(key) {\n",
              "      const quickchartButtonEl =\n",
              "        document.querySelector('#' + key + ' button');\n",
              "      quickchartButtonEl.disabled = true;  // To prevent multiple clicks.\n",
              "      quickchartButtonEl.classList.add('colab-df-spinner');\n",
              "      try {\n",
              "        const charts = await google.colab.kernel.invokeFunction(\n",
              "            'suggestCharts', [key], {});\n",
              "      } catch (error) {\n",
              "        console.error('Error during call to suggestCharts:', error);\n",
              "      }\n",
              "      quickchartButtonEl.classList.remove('colab-df-spinner');\n",
              "      quickchartButtonEl.classList.add('colab-df-quickchart-complete');\n",
              "    }\n",
              "    (() => {\n",
              "      let quickchartButtonEl =\n",
              "        document.querySelector('#df-21dac3fb-7f83-453e-84b6-6f0d0da60e04 button');\n",
              "      quickchartButtonEl.style.display =\n",
              "        google.colab.kernel.accessAllowed ? 'block' : 'none';\n",
              "    })();\n",
              "  </script>\n",
              "</div>\n",
              "\n",
              "    </div>\n",
              "  </div>\n"
            ],
            "application/vnd.google.colaboratory.intrinsic+json": {
              "type": "dataframe",
              "repr_error": "0"
            }
          },
          "metadata": {},
          "execution_count": 16
        }
      ]
    },
    {
      "cell_type": "code",
      "source": [],
      "metadata": {
        "id": "6tiVNHRncC2S"
      },
      "execution_count": 16,
      "outputs": []
    },
    {
      "cell_type": "code",
      "source": [
        "# import pandas_datareader as pdr\n",
        "# import pandas as pd\n",
        "# import json\n",
        "# tiingo_key = \"key\""
      ],
      "metadata": {
        "id": "Fx1tRihUUEM2"
      },
      "execution_count": 17,
      "outputs": []
    },
    {
      "cell_type": "code",
      "source": [
        "df_of_data_target_col = df_of_data['close']\n",
        "df_of_data_target_col.head()"
      ],
      "metadata": {
        "colab": {
          "base_uri": "https://localhost:8080/",
          "height": 241
        },
        "id": "5YLyWlLrV7J6",
        "outputId": "e34d0261-64cf-4449-a6fc-2da9ecf9ba5a"
      },
      "execution_count": 18,
      "outputs": [
        {
          "output_type": "execute_result",
          "data": {
            "text/plain": [
              "0   475.06000000\n",
              "1   466.27000000\n",
              "2   476.57000000\n",
              "3   480.88000000\n",
              "4   483.50000000\n",
              "Name: close, dtype: float64"
            ],
            "text/html": [
              "<div>\n",
              "<style scoped>\n",
              "    .dataframe tbody tr th:only-of-type {\n",
              "        vertical-align: middle;\n",
              "    }\n",
              "\n",
              "    .dataframe tbody tr th {\n",
              "        vertical-align: top;\n",
              "    }\n",
              "\n",
              "    .dataframe thead th {\n",
              "        text-align: right;\n",
              "    }\n",
              "</style>\n",
              "<table border=\"1\" class=\"dataframe\">\n",
              "  <thead>\n",
              "    <tr style=\"text-align: right;\">\n",
              "      <th></th>\n",
              "      <th>close</th>\n",
              "    </tr>\n",
              "  </thead>\n",
              "  <tbody>\n",
              "    <tr>\n",
              "      <th>0</th>\n",
              "      <td>475.06000000</td>\n",
              "    </tr>\n",
              "    <tr>\n",
              "      <th>1</th>\n",
              "      <td>466.27000000</td>\n",
              "    </tr>\n",
              "    <tr>\n",
              "      <th>2</th>\n",
              "      <td>476.57000000</td>\n",
              "    </tr>\n",
              "    <tr>\n",
              "      <th>3</th>\n",
              "      <td>480.88000000</td>\n",
              "    </tr>\n",
              "    <tr>\n",
              "      <th>4</th>\n",
              "      <td>483.50000000</td>\n",
              "    </tr>\n",
              "  </tbody>\n",
              "</table>\n",
              "</div><br><label><b>dtype:</b> float64</label>"
            ]
          },
          "metadata": {},
          "execution_count": 18
        }
      ]
    },
    {
      "cell_type": "code",
      "source": [
        "df_of_data_target_col.shape"
      ],
      "metadata": {
        "colab": {
          "base_uri": "https://localhost:8080/"
        },
        "id": "4xDLC35ekuhL",
        "outputId": "4267b7bc-6268-4a89-8d2e-570429ca47fa"
      },
      "execution_count": 19,
      "outputs": [
        {
          "output_type": "execute_result",
          "data": {
            "text/plain": [
              "(251,)"
            ]
          },
          "metadata": {},
          "execution_count": 19
        }
      ]
    },
    {
      "cell_type": "code",
      "source": [
        "import matplotlib.pyplot as plt\n",
        "plt.plot(df_of_data_target_col)"
      ],
      "metadata": {
        "colab": {
          "base_uri": "https://localhost:8080/",
          "height": 448
        },
        "id": "pjVqv3v5lC1p",
        "outputId": "414f3cc7-6f53-4cff-f23a-d9ac3882e945"
      },
      "execution_count": 20,
      "outputs": [
        {
          "output_type": "execute_result",
          "data": {
            "text/plain": [
              "[<matplotlib.lines.Line2D at 0x78ed7e39f0a0>]"
            ]
          },
          "metadata": {},
          "execution_count": 20
        },
        {
          "output_type": "display_data",
          "data": {
            "text/plain": [
              "<Figure size 640x480 with 1 Axes>"
            ],
            "image/png": "[encoded data removed]"
          },
          "metadata": {}
        }
      ]
    },
    {
      "cell_type": "markdown",
      "source": [
        "\n",
        "\n",
        "# > LSTM are sensitive to scale of data so we apply minmax scaler\n",
        "\n"
      ],
      "metadata": {
        "id": "HAnwbW_jl-XJ"
      }
    },
    {
      "cell_type": "code",
      "source": [
        "import numpy as np"
      ],
      "metadata": {
        "id": "RXcAPIf0lvns"
      },
      "execution_count": 21,
      "outputs": []
    },
    {
      "cell_type": "code",
      "source": [
        "from sklearn.preprocessing import MinMaxScaler\n",
        "\n",
        "scaler = MinMaxScaler(feature_range=(0,1))\n",
        "df_of_data_target_col = scaler.fit_transform(np.array(df_of_data_target_col).reshape(-1,1))"
      ],
      "metadata": {
        "id": "uXjVjzu-mJTc"
      },
      "execution_count": 22,
      "outputs": []
    },
    {
      "cell_type": "code",
      "source": [
        "df_of_data_target_col.shape"
      ],
      "metadata": {
        "colab": {
          "base_uri": "https://localhost:8080/"
        },
        "id": "WYvhAE4umjfQ",
        "outputId": "6b936bfa-810e-4367-de9e-571702bf4f35"
      },
      "execution_count": 23,
      "outputs": [
        {
          "output_type": "execute_result",
          "data": {
            "text/plain": [
              "(251, 1)"
            ]
          },
          "metadata": {},
          "execution_count": 23
        }
      ]
    },
    {
      "cell_type": "code",
      "source": [
        "df_of_data_target_col"
      ],
      "metadata": {
        "colab": {
          "base_uri": "https://localhost:8080/"
        },
        "collapsed": true,
        "id": "_KrvVbnOmmDv",
        "outputId": "138ac4af-8efa-4164-ceae-d9dfc7ed8428"
      },
      "execution_count": 24,
      "outputs": [
        {
          "output_type": "execute_result",
          "data": {
            "text/plain": [
              "array([[0.33420999],\n",
              "       [0.32640006],\n",
              "       [0.33555163],\n",
              "       [0.33938107],\n",
              "       [0.34170894],\n",
              "       [0.34650685],\n",
              "       [0.35705337],\n",
              "       [0.35285076],\n",
              "       [0.33958543],\n",
              "       [0.34739536],\n",
              "       [0.34597375],\n",
              "       [0.34996313],\n",
              "       [0.35118926],\n",
              "       [0.35212219],\n",
              "       [0.35212219],\n",
              "       [0.34009187],\n",
              "       [0.33476974],\n",
              "       [0.33858142],\n",
              "       [0.34834605],\n",
              "       [0.37638717],\n",
              "       [0.38426819],\n",
              "       [0.39501906],\n",
              "       [0.39921279],\n",
              "       [0.39821767],\n",
              "       [0.41307342],\n",
              "       [0.41015025],\n",
              "       [0.41951506],\n",
              "       [0.44069694],\n",
              "       [0.4421452 ],\n",
              "       [0.44409102],\n",
              "       [0.45732081],\n",
              "       [0.45958649],\n",
              "       [0.45437987],\n",
              "       [0.46712099],\n",
              "       [0.46986646],\n",
              "       [0.45878684],\n",
              "       [0.47211437],\n",
              "       [0.49995113],\n",
              "       [0.52813441],\n",
              "       [0.51828093],\n",
              "       [0.53494922],\n",
              "       [0.53087988],\n",
              "       [0.55302135],\n",
              "       [0.55404313],\n",
              "       [0.55297693],\n",
              "       [0.56872118],\n",
              "       [0.55768607],\n",
              "       [0.55728616],\n",
              "       [0.52920061],\n",
              "       [0.51160828],\n",
              "       [0.6099299 ],\n",
              "       [0.61240891],\n",
              "       [0.6148522 ],\n",
              "       [0.61137816],\n",
              "       [0.60215551],\n",
              "       [0.6150299 ],\n",
              "       [0.64316875],\n",
              "       [0.66945064],\n",
              "       [0.67591005],\n",
              "       [0.70021955],\n",
              "       [0.7354841 ],\n",
              "       [0.68980631],\n",
              "       [0.67422189],\n",
              "       [0.72876703],\n",
              "       [0.71965988],\n",
              "       [0.69350239],\n",
              "       [0.69254725],\n",
              "       [0.69804272],\n",
              "       [0.7064212 ],\n",
              "       [0.71507521],\n",
              "       [0.72451999],\n",
              "       [0.74987783],\n",
              "       [0.75621294],\n",
              "       [0.73452452],\n",
              "       [0.71399124],\n",
              "       [0.71493314],\n",
              "       [0.71499525],\n",
              "       [0.70690099],\n",
              "       [0.7025651 ],\n",
              "       [0.67538583],\n",
              "       [0.69407103],\n",
              "       [0.68629664],\n",
              "       [0.67049019],\n",
              "       [0.68546144],\n",
              "       [0.71724316],\n",
              "       [0.69565256],\n",
              "       [0.67623879],\n",
              "       [0.68880221],\n",
              "       [0.65877085],\n",
              "       [0.66442181],\n",
              "       [0.58915681],\n",
              "       [0.61863722],\n",
              "       [0.6444482 ],\n",
              "       [0.62004993],\n",
              "       [0.64630525],\n",
              "       [0.69164542],\n",
              "       [0.69184098],\n",
              "       [0.67980169],\n",
              "       [0.64993923],\n",
              "       [0.67460404],\n",
              "       [0.70101023],\n",
              "       [0.73078401],\n",
              "       [0.71669237],\n",
              "       [0.71543061],\n",
              "       [0.70063706],\n",
              "       [0.71068601],\n",
              "       [0.71531511],\n",
              "       [0.72381816],\n",
              "       [0.75290762],\n",
              "       [0.75049978],\n",
              "       [0.73379595],\n",
              "       [0.75424038],\n",
              "       [0.7596247 ],\n",
              "       [0.75575092],\n",
              "       [0.83437436],\n",
              "       [0.85809736],\n",
              "       [0.92413082],\n",
              "       [0.93234058],\n",
              "       [0.89391287],\n",
              "       [0.88620956],\n",
              "       [0.93389546],\n",
              "       [0.94666323],\n",
              "       [1.        ],\n",
              "       [0.9871878 ],\n",
              "       [0.98621045],\n",
              "       [0.02032892],\n",
              "       [0.01954704],\n",
              "       [0.02335871],\n",
              "       [0.02727701],\n",
              "       [0.02929391],\n",
              "       [0.02849426],\n",
              "       [0.03258136],\n",
              "       [0.02831656],\n",
              "       [0.02457596],\n",
              "       [0.01705924],\n",
              "       [0.02414948],\n",
              "       [0.02442492],\n",
              "       [0.02228363],\n",
              "       [0.0218838 ],\n",
              "       [0.02255906],\n",
              "       [0.02111081],\n",
              "       [0.0260953 ],\n",
              "       [0.02391847],\n",
              "       [0.02602422],\n",
              "       [0.02884966],\n",
              "       [0.03198607],\n",
              "       [0.02531342],\n",
              "       [0.02694826],\n",
              "       [0.02623746],\n",
              "       [0.02438938],\n",
              "       [0.01695262],\n",
              "       [0.01970697],\n",
              "       [0.01689931],\n",
              "       [0.0218838 ],\n",
              "       [0.02103972],\n",
              "       [0.01362962],\n",
              "       [0.01187927],\n",
              "       [0.0125723 ],\n",
              "       [0.0112662 ],\n",
              "       [0.00428258],\n",
              "       [0.01609077],\n",
              "       [0.00915157],\n",
              "       [0.00742788],\n",
              "       [0.00136829],\n",
              "       [0.0047446 ],\n",
              "       [0.        ],\n",
              "       [0.00538432],\n",
              "       [0.00518885],\n",
              "       [0.00898275],\n",
              "       [0.01530889],\n",
              "       [0.01703258],\n",
              "       [0.02127962],\n",
              "       [0.02280784],\n",
              "       [0.02762352],\n",
              "       [0.02518014],\n",
              "       [0.02629077],\n",
              "       [0.0220615 ],\n",
              "       [0.02706377],\n",
              "       [0.02447823],\n",
              "       [0.02611307],\n",
              "       [0.023723  ],\n",
              "       [0.01659722],\n",
              "       [0.01817875],\n",
              "       [0.00807648],\n",
              "       [0.00648606],\n",
              "       [0.00737457],\n",
              "       [0.00348293],\n",
              "       [0.00671707],\n",
              "       [0.00816533],\n",
              "       [0.01599303],\n",
              "       [0.01797439],\n",
              "       [0.01793885],\n",
              "       [0.01587753],\n",
              "       [0.01482021],\n",
              "       [0.01284774],\n",
              "       [0.016846  ],\n",
              "       [0.0151845 ],\n",
              "       [0.01541551],\n",
              "       [0.0195115 ],\n",
              "       [0.02185715],\n",
              "       [0.02232805],\n",
              "       [0.01998241],\n",
              "       [0.02001795],\n",
              "       [0.016073  ],\n",
              "       [0.01771673],\n",
              "       [0.02127074],\n",
              "       [0.02310993],\n",
              "       [0.02559774],\n",
              "       [0.03019129],\n",
              "       [0.02997805],\n",
              "       [0.03189722],\n",
              "       [0.03188833],\n",
              "       [0.03479373],\n",
              "       [0.02904513],\n",
              "       [0.03270575],\n",
              "       [0.03378084],\n",
              "       [0.03473154],\n",
              "       [0.03980488],\n",
              "       [0.03969826],\n",
              "       [0.0361176 ],\n",
              "       [0.03687283],\n",
              "       [0.03787684],\n",
              "       [0.03697056],\n",
              "       [0.03761917],\n",
              "       [0.03591769],\n",
              "       [0.03007579],\n",
              "       [0.03242143],\n",
              "       [0.03299896],\n",
              "       [0.03642858],\n",
              "       [0.04149304],\n",
              "       [0.04439844],\n",
              "       [0.04328781],\n",
              "       [0.04118206],\n",
              "       [0.04387422],\n",
              "       [0.04207945],\n",
              "       [0.04251482],\n",
              "       [0.03826778],\n",
              "       [0.03664182],\n",
              "       [0.04273694],\n",
              "       [0.04174182],\n",
              "       [0.04243485],\n",
              "       [0.03824112],\n",
              "       [0.03297231],\n",
              "       [0.03377196],\n",
              "       [0.03236812],\n",
              "       [0.03495366],\n",
              "       [0.0352913 ],\n",
              "       [0.03673955],\n",
              "       [0.04107544],\n",
              "       [0.04100436],\n",
              "       [0.03867649]])"
            ]
          },
          "metadata": {},
          "execution_count": 24
        }
      ]
    },
    {
      "cell_type": "code",
      "source": [
        "training_size = int(len(df_of_data_target_col)*0.60)\n",
        "\n",
        "test_size = len(df_of_data_target_col) - training_size\n",
        "\n",
        "train_data, test_data = df_of_data_target_col[0:training_size,:], df_of_data_target_col[training_size:len(df_of_data_target_col),:1]"
      ],
      "metadata": {
        "id": "UZ3Mx7-WmtXc"
      },
      "execution_count": 25,
      "outputs": []
    },
    {
      "cell_type": "code",
      "source": [
        "training_size, test_size"
      ],
      "metadata": {
        "colab": {
          "base_uri": "https://localhost:8080/"
        },
        "id": "ru3Nla_oo9hg",
        "outputId": "6408a369-7cda-42b8-ef0b-8e0808d562b4"
      },
      "execution_count": 26,
      "outputs": [
        {
          "output_type": "execute_result",
          "data": {
            "text/plain": [
              "(150, 101)"
            ]
          },
          "metadata": {},
          "execution_count": 26
        }
      ]
    },
    {
      "cell_type": "code",
      "source": [
        "import numpy as np"
      ],
      "metadata": {
        "id": "oeCR7tvcp8dd"
      },
      "execution_count": 27,
      "outputs": []
    },
    {
      "cell_type": "code",
      "source": [
        "def create_dataset(dataset, time_step=1):\n",
        "    dataX, dataY = [],[]\n",
        "\n",
        "    for i in range(len(dataset)-time_step-1):\n",
        "        a = dataset[i:(i+time_step),0]\n",
        "        dataX.append(a)\n",
        "        dataY.append(dataset [ i+time_step , 0 ] )\n",
        "    return np.array(dataX), np.array(dataY)"
      ],
      "metadata": {
        "id": "o_zz6Zy3qJFx"
      },
      "execution_count": 28,
      "outputs": []
    },
    {
      "cell_type": "code",
      "source": [
        "time_step = 5\n",
        "X_train, Y_train = create_dataset(train_data,time_step)\n",
        "X_test, Y_test = create_dataset(test_data,time_step)"
      ],
      "metadata": {
        "id": "PK1BQeFztjjl"
      },
      "execution_count": 94,
      "outputs": []
    },
    {
      "cell_type": "code",
      "source": [
        "X_train.shape"
      ],
      "metadata": {
        "colab": {
          "base_uri": "https://localhost:8080/"
        },
        "id": "houX3tiPtuSg",
        "outputId": "27dd8c7b-3266-4f12-e227-f3e2d88fe32b"
      },
      "execution_count": 95,
      "outputs": [
        {
          "output_type": "execute_result",
          "data": {
            "text/plain": [
              "(144, 5)"
            ]
          },
          "metadata": {},
          "execution_count": 95
        }
      ]
    },
    {
      "cell_type": "code",
      "source": [
        "Y_train.shape"
      ],
      "metadata": {
        "colab": {
          "base_uri": "https://localhost:8080/"
        },
        "id": "hYJJYEcJtxja",
        "outputId": "989ab010-f098-4007-bf30-de2f56d55812"
      },
      "execution_count": 96,
      "outputs": [
        {
          "output_type": "execute_result",
          "data": {
            "text/plain": [
              "(144,)"
            ]
          },
          "metadata": {},
          "execution_count": 96
        }
      ]
    },
    {
      "cell_type": "code",
      "source": [
        "X_train = X_train.reshape(X_train.shape[0], X_train.shape[1], 1)\n",
        "X_test = X_test.reshape(X_test.shape[0], X_test.shape[1], 1)"
      ],
      "metadata": {
        "id": "b87BbUmet2tH"
      },
      "execution_count": 97,
      "outputs": []
    },
    {
      "cell_type": "code",
      "source": [
        "from tensorflow.keras.models import Sequential\n",
        "from tensorflow.keras.layers import Dense, LSTM"
      ],
      "metadata": {
        "id": "bWPRDj0cu4Ym"
      },
      "execution_count": 98,
      "outputs": []
    },
    {
      "cell_type": "code",
      "source": [
        "model=Sequential()\n",
        "\n",
        "model.add(LSTM(50,return_sequences=True,input_shape=(5,1)))\n",
        "model.add(LSTM(50,return_sequences=True))\n",
        "model.add(LSTM(50))\n",
        "model.add(Dense(1))\n",
        "\n",
        "model.compile(loss=\"mean_squared_error\", optimizer='adam')"
      ],
      "metadata": {
        "colab": {
          "base_uri": "https://localhost:8080/"
        },
        "id": "VbErNSSlvfIb",
        "outputId": "b8a63d4a-5adf-4bd4-c608-a07346f50c63"
      },
      "execution_count": 99,
      "outputs": [
        {
          "output_type": "stream",
          "name": "stderr",
          "text": [
            "/usr/local/lib/python3.10/dist-packages/keras/src/layers/rnn/rnn.py:204: UserWarning: Do not pass an `input_shape`/`input_dim` argument to a layer. When using Sequential models, prefer using an `Input(shape)` object as the first layer in the model instead.\n",
            "  super().__init__(**kwargs)\n"
          ]
        }
      ]
    },
    {
      "cell_type": "code",
      "source": [
        "model.summary()"
      ],
      "metadata": {
        "colab": {
          "base_uri": "https://localhost:8080/",
          "height": 262
        },
        "id": "T0AiV-5Ovy1u",
        "outputId": "d2cbbb96-9d51-4637-8c5d-dc4bf8636a82"
      },
      "execution_count": 100,
      "outputs": [
        {
          "output_type": "display_data",
          "data": {
            "text/plain": [
              "\u001b[1mModel: \"sequential_2\"\u001b[0m\n"
            ],
            "text/html": [
              "<pre style=\"white-space:pre;overflow-x:auto;line-height:normal;font-family:Menlo,'DejaVu Sans Mono',consolas,'Courier New',monospace\"><span style=\"font-weight: bold\">Model: \"sequential_2\"</span>\n",
              "</pre>\n"
            ]
          },
          "metadata": {}
        },
        {
          "output_type": "display_data",
          "data": {
            "text/plain": [
              "┏━━━━━━━━━━━━━━━━━━━━━━━━━━━━━━━━━━━━━━┳━━━━━━━━━━━━━━━━━━━━━━━━━━━━━┳━━━━━━━━━━━━━━━━━┓\n",
              "┃\u001b[1m \u001b[0m\u001b[1mLayer (type)                        \u001b[0m\u001b[1m \u001b[0m┃\u001b[1m \u001b[0m\u001b[1mOutput Shape               \u001b[0m\u001b[1m \u001b[0m┃\u001b[1m \u001b[0m\u001b[1m        Param #\u001b[0m\u001b[1m \u001b[0m┃\n",
              "┡━━━━━━━━━━━━━━━━━━━━━━━━━━━━━━━━━━━━━━╇━━━━━━━━━━━━━━━━━━━━━━━━━━━━━╇━━━━━━━━━━━━━━━━━┩\n",
              "│ lstm_6 (\u001b[38;5;33mLSTM\u001b[0m)                        │ (\u001b[38;5;45mNone\u001b[0m, \u001b[38;5;34m5\u001b[0m, \u001b[38;5;34m50\u001b[0m)               │          \u001b[38;5;34m10,400\u001b[0m │\n",
              "├──────────────────────────────────────┼─────────────────────────────┼─────────────────┤\n",
              "│ lstm_7 (\u001b[38;5;33mLSTM\u001b[0m)                        │ (\u001b[38;5;45mNone\u001b[0m, \u001b[38;5;34m5\u001b[0m, \u001b[38;5;34m50\u001b[0m)               │          \u001b[38;5;34m20,200\u001b[0m │\n",
              "├──────────────────────────────────────┼─────────────────────────────┼─────────────────┤\n",
              "│ lstm_8 (\u001b[38;5;33mLSTM\u001b[0m)                        │ (\u001b[38;5;45mNone\u001b[0m, \u001b[38;5;34m50\u001b[0m)                  │          \u001b[38;5;34m20,200\u001b[0m │\n",
              "├──────────────────────────────────────┼─────────────────────────────┼─────────────────┤\n",
              "│ dense_2 (\u001b[38;5;33mDense\u001b[0m)                      │ (\u001b[38;5;45mNone\u001b[0m, \u001b[38;5;34m1\u001b[0m)                   │              \u001b[38;5;34m51\u001b[0m │\n",
              "└──────────────────────────────────────┴─────────────────────────────┴─────────────────┘\n"
            ],
            "text/html": [
              "<pre style=\"white-space:pre;overflow-x:auto;line-height:normal;font-family:Menlo,'DejaVu Sans Mono',consolas,'Courier New',monospace\">┏━━━━━━━━━━━━━━━━━━━━━━━━━━━━━━━━━━━━━━┳━━━━━━━━━━━━━━━━━━━━━━━━━━━━━┳━━━━━━━━━━━━━━━━━┓\n",
              "┃<span style=\"font-weight: bold\"> Layer (type)                         </span>┃<span style=\"font-weight: bold\"> Output Shape                </span>┃<span style=\"font-weight: bold\">         Param # </span>┃\n",
              "┡━━━━━━━━━━━━━━━━━━━━━━━━━━━━━━━━━━━━━━╇━━━━━━━━━━━━━━━━━━━━━━━━━━━━━╇━━━━━━━━━━━━━━━━━┩\n",
              "│ lstm_6 (<span style=\"color: #0087ff; text-decoration-color: #0087ff\">LSTM</span>)                        │ (<span style=\"color: #00d7ff; text-decoration-color: #00d7ff\">None</span>, <span style=\"color: #00af00; text-decoration-color: #00af00\">5</span>, <span style=\"color: #00af00; text-decoration-color: #00af00\">50</span>)               │          <span style=\"color: #00af00; text-decoration-color: #00af00\">10,400</span> │\n",
              "├──────────────────────────────────────┼─────────────────────────────┼─────────────────┤\n",
              "│ lstm_7 (<span style=\"color: #0087ff; text-decoration-color: #0087ff\">LSTM</span>)                        │ (<span style=\"color: #00d7ff; text-decoration-color: #00d7ff\">None</span>, <span style=\"color: #00af00; text-decoration-color: #00af00\">5</span>, <span style=\"color: #00af00; text-decoration-color: #00af00\">50</span>)               │          <span style=\"color: #00af00; text-decoration-color: #00af00\">20,200</span> │\n",
              "├──────────────────────────────────────┼─────────────────────────────┼─────────────────┤\n",
              "│ lstm_8 (<span style=\"color: #0087ff; text-decoration-color: #0087ff\">LSTM</span>)                        │ (<span style=\"color: #00d7ff; text-decoration-color: #00d7ff\">None</span>, <span style=\"color: #00af00; text-decoration-color: #00af00\">50</span>)                  │          <span style=\"color: #00af00; text-decoration-color: #00af00\">20,200</span> │\n",
              "├──────────────────────────────────────┼─────────────────────────────┼─────────────────┤\n",
              "│ dense_2 (<span style=\"color: #0087ff; text-decoration-color: #0087ff\">Dense</span>)                      │ (<span style=\"color: #00d7ff; text-decoration-color: #00d7ff\">None</span>, <span style=\"color: #00af00; text-decoration-color: #00af00\">1</span>)                   │              <span style=\"color: #00af00; text-decoration-color: #00af00\">51</span> │\n",
              "└──────────────────────────────────────┴─────────────────────────────┴─────────────────┘\n",
              "</pre>\n"
            ]
          },
          "metadata": {}
        },
        {
          "output_type": "display_data",
          "data": {
            "text/plain": [
              "\u001b[1m Total params: \u001b[0m\u001b[38;5;34m50,851\u001b[0m (198.64 KB)\n"
            ],
            "text/html": [
              "<pre style=\"white-space:pre;overflow-x:auto;line-height:normal;font-family:Menlo,'DejaVu Sans Mono',consolas,'Courier New',monospace\"><span style=\"font-weight: bold\"> Total params: </span><span style=\"color: #00af00; text-decoration-color: #00af00\">50,851</span> (198.64 KB)\n",
              "</pre>\n"
            ]
          },
          "metadata": {}
        },
        {
          "output_type": "display_data",
          "data": {
            "text/plain": [
              "\u001b[1m Trainable params: \u001b[0m\u001b[38;5;34m50,851\u001b[0m (198.64 KB)\n"
            ],
            "text/html": [
              "<pre style=\"white-space:pre;overflow-x:auto;line-height:normal;font-family:Menlo,'DejaVu Sans Mono',consolas,'Courier New',monospace\"><span style=\"font-weight: bold\"> Trainable params: </span><span style=\"color: #00af00; text-decoration-color: #00af00\">50,851</span> (198.64 KB)\n",
              "</pre>\n"
            ]
          },
          "metadata": {}
        },
        {
          "output_type": "display_data",
          "data": {
            "text/plain": [
              "\u001b[1m Non-trainable params: \u001b[0m\u001b[38;5;34m0\u001b[0m (0.00 B)\n"
            ],
            "text/html": [
              "<pre style=\"white-space:pre;overflow-x:auto;line-height:normal;font-family:Menlo,'DejaVu Sans Mono',consolas,'Courier New',monospace\"><span style=\"font-weight: bold\"> Non-trainable params: </span><span style=\"color: #00af00; text-decoration-color: #00af00\">0</span> (0.00 B)\n",
              "</pre>\n"
            ]
          },
          "metadata": {}
        }
      ]
    },
    {
      "cell_type": "code",
      "source": [
        "model.fit(X_train, Y_train, validation_data=(X_test,Y_test), epochs=50, batch_size=64, verbose=1)"
      ],
      "metadata": {
        "colab": {
          "base_uri": "https://localhost:8080/"
        },
        "collapsed": true,
        "id": "YpKonvfe23A_",
        "outputId": "7dbf99db-8ca9-4956-940b-e9c1fe34b467"
      },
      "execution_count": 101,
      "outputs": [
        {
          "output_type": "stream",
          "name": "stdout",
          "text": [
            "Epoch 1/50\n",
            "\u001b[1m3/3\u001b[0m \u001b[32m━━━━━━━━━━━━━━━━━━━━\u001b[0m\u001b[37m\u001b[0m \u001b[1m2s\u001b[0m 162ms/step - loss: 0.3381 - val_loss: 2.8408e-04\n",
            "Epoch 2/50\n",
            "\u001b[1m3/3\u001b[0m \u001b[32m━━━━━━━━━━━━━━━━━━━━\u001b[0m\u001b[37m\u001b[0m \u001b[1m0s\u001b[0m 17ms/step - loss: 0.2631 - val_loss: 0.0032\n",
            "Epoch 3/50\n",
            "\u001b[1m3/3\u001b[0m \u001b[32m━━━━━━━━━━━━━━━━━━━━\u001b[0m\u001b[37m\u001b[0m \u001b[1m0s\u001b[0m 28ms/step - loss: 0.2025 - val_loss: 0.0124\n",
            "Epoch 4/50\n",
            "\u001b[1m3/3\u001b[0m \u001b[32m━━━━━━━━━━━━━━━━━━━━\u001b[0m\u001b[37m\u001b[0m \u001b[1m0s\u001b[0m 26ms/step - loss: 0.1261 - val_loss: 0.0342\n",
            "Epoch 5/50\n",
            "\u001b[1m3/3\u001b[0m \u001b[32m━━━━━━━━━━━━━━━━━━━━\u001b[0m\u001b[37m\u001b[0m \u001b[1m0s\u001b[0m 26ms/step - loss: 0.0562 - val_loss: 0.0786\n",
            "Epoch 6/50\n",
            "\u001b[1m3/3\u001b[0m \u001b[32m━━━━━━━━━━━━━━━━━━━━\u001b[0m\u001b[37m\u001b[0m \u001b[1m0s\u001b[0m 27ms/step - loss: 0.0346 - val_loss: 0.1264\n",
            "Epoch 7/50\n",
            "\u001b[1m3/3\u001b[0m \u001b[32m━━━━━━━━━━━━━━━━━━━━\u001b[0m\u001b[37m\u001b[0m \u001b[1m0s\u001b[0m 24ms/step - loss: 0.0622 - val_loss: 0.1144\n",
            "Epoch 8/50\n",
            "\u001b[1m3/3\u001b[0m \u001b[32m━━━━━━━━━━━━━━━━━━━━\u001b[0m\u001b[37m\u001b[0m \u001b[1m0s\u001b[0m 26ms/step - loss: 0.0444 - val_loss: 0.0800\n",
            "Epoch 9/50\n",
            "\u001b[1m3/3\u001b[0m \u001b[32m━━━━━━━━━━━━━━━━━━━━\u001b[0m\u001b[37m\u001b[0m \u001b[1m0s\u001b[0m 25ms/step - loss: 0.0363 - val_loss: 0.0559\n",
            "Epoch 10/50\n",
            "\u001b[1m3/3\u001b[0m \u001b[32m━━━━━━━━━━━━━━━━━━━━\u001b[0m\u001b[37m\u001b[0m \u001b[1m0s\u001b[0m 22ms/step - loss: 0.0340 - val_loss: 0.0461\n",
            "Epoch 11/50\n",
            "\u001b[1m3/3\u001b[0m \u001b[32m━━━━━━━━━━━━━━━━━━━━\u001b[0m\u001b[37m\u001b[0m \u001b[1m0s\u001b[0m 22ms/step - loss: 0.0409 - val_loss: 0.0448\n",
            "Epoch 12/50\n",
            "\u001b[1m3/3\u001b[0m \u001b[32m━━━━━━━━━━━━━━━━━━━━\u001b[0m\u001b[37m\u001b[0m \u001b[1m0s\u001b[0m 28ms/step - loss: 0.0373 - val_loss: 0.0489\n",
            "Epoch 13/50\n",
            "\u001b[1m3/3\u001b[0m \u001b[32m━━━━━━━━━━━━━━━━━━━━\u001b[0m\u001b[37m\u001b[0m \u001b[1m0s\u001b[0m 32ms/step - loss: 0.0310 - val_loss: 0.0556\n",
            "Epoch 14/50\n",
            "\u001b[1m3/3\u001b[0m \u001b[32m━━━━━━━━━━━━━━━━━━━━\u001b[0m\u001b[37m\u001b[0m \u001b[1m0s\u001b[0m 37ms/step - loss: 0.0254 - val_loss: 0.0584\n",
            "Epoch 15/50\n",
            "\u001b[1m3/3\u001b[0m \u001b[32m━━━━━━━━━━━━━━━━━━━━\u001b[0m\u001b[37m\u001b[0m \u001b[1m0s\u001b[0m 38ms/step - loss: 0.0277 - val_loss: 0.0525\n",
            "Epoch 16/50\n",
            "\u001b[1m3/3\u001b[0m \u001b[32m━━━━━━━━━━━━━━━━━━━━\u001b[0m\u001b[37m\u001b[0m \u001b[1m0s\u001b[0m 27ms/step - loss: 0.0276 - val_loss: 0.0445\n",
            "Epoch 17/50\n",
            "\u001b[1m3/3\u001b[0m \u001b[32m━━━━━━━━━━━━━━━━━━━━\u001b[0m\u001b[37m\u001b[0m \u001b[1m0s\u001b[0m 27ms/step - loss: 0.0282 - val_loss: 0.0373\n",
            "Epoch 18/50\n",
            "\u001b[1m3/3\u001b[0m \u001b[32m━━━━━━━━━━━━━━━━━━━━\u001b[0m\u001b[37m\u001b[0m \u001b[1m0s\u001b[0m 33ms/step - loss: 0.0259 - val_loss: 0.0338\n",
            "Epoch 19/50\n",
            "\u001b[1m3/3\u001b[0m \u001b[32m━━━━━━━━━━━━━━━━━━━━\u001b[0m\u001b[37m\u001b[0m \u001b[1m0s\u001b[0m 34ms/step - loss: 0.0226 - val_loss: 0.0319\n",
            "Epoch 20/50\n",
            "\u001b[1m3/3\u001b[0m \u001b[32m━━━━━━━━━━━━━━━━━━━━\u001b[0m\u001b[37m\u001b[0m \u001b[1m0s\u001b[0m 19ms/step - loss: 0.0218 - val_loss: 0.0296\n",
            "Epoch 21/50\n",
            "\u001b[1m3/3\u001b[0m \u001b[32m━━━━━━━━━━━━━━━━━━━━\u001b[0m\u001b[37m\u001b[0m \u001b[1m0s\u001b[0m 16ms/step - loss: 0.0292 - val_loss: 0.0263\n",
            "Epoch 22/50\n",
            "\u001b[1m3/3\u001b[0m \u001b[32m━━━━━━━━━━━━━━━━━━━━\u001b[0m\u001b[37m\u001b[0m \u001b[1m0s\u001b[0m 16ms/step - loss: 0.0232 - val_loss: 0.0233\n",
            "Epoch 23/50\n",
            "\u001b[1m3/3\u001b[0m \u001b[32m━━━━━━━━━━━━━━━━━━━━\u001b[0m\u001b[37m\u001b[0m \u001b[1m0s\u001b[0m 16ms/step - loss: 0.0262 - val_loss: 0.0199\n",
            "Epoch 24/50\n",
            "\u001b[1m3/3\u001b[0m \u001b[32m━━━━━━━━━━━━━━━━━━━━\u001b[0m\u001b[37m\u001b[0m \u001b[1m0s\u001b[0m 19ms/step - loss: 0.0209 - val_loss: 0.0170\n",
            "Epoch 25/50\n",
            "\u001b[1m3/3\u001b[0m \u001b[32m━━━━━━━━━━━━━━━━━━━━\u001b[0m\u001b[37m\u001b[0m \u001b[1m0s\u001b[0m 17ms/step - loss: 0.0235 - val_loss: 0.0143\n",
            "Epoch 26/50\n",
            "\u001b[1m3/3\u001b[0m \u001b[32m━━━━━━━━━━━━━━━━━━━━\u001b[0m\u001b[37m\u001b[0m \u001b[1m0s\u001b[0m 16ms/step - loss: 0.0236 - val_loss: 0.0111\n",
            "Epoch 27/50\n",
            "\u001b[1m3/3\u001b[0m \u001b[32m━━━━━━━━━━━━━━━━━━━━\u001b[0m\u001b[37m\u001b[0m \u001b[1m0s\u001b[0m 17ms/step - loss: 0.0210 - val_loss: 0.0087\n",
            "Epoch 28/50\n",
            "\u001b[1m3/3\u001b[0m \u001b[32m━━━━━━━━━━━━━━━━━━━━\u001b[0m\u001b[37m\u001b[0m \u001b[1m0s\u001b[0m 16ms/step - loss: 0.0199 - val_loss: 0.0067\n",
            "Epoch 29/50\n",
            "\u001b[1m3/3\u001b[0m \u001b[32m━━━━━━━━━━━━━━━━━━━━\u001b[0m\u001b[37m\u001b[0m \u001b[1m0s\u001b[0m 17ms/step - loss: 0.0174 - val_loss: 0.0053\n",
            "Epoch 30/50\n",
            "\u001b[1m3/3\u001b[0m \u001b[32m━━━━━━━━━━━━━━━━━━━━\u001b[0m\u001b[37m\u001b[0m \u001b[1m0s\u001b[0m 17ms/step - loss: 0.0199 - val_loss: 0.0044\n",
            "Epoch 31/50\n",
            "\u001b[1m3/3\u001b[0m \u001b[32m━━━━━━━━━━━━━━━━━━━━\u001b[0m\u001b[37m\u001b[0m \u001b[1m0s\u001b[0m 17ms/step - loss: 0.0224 - val_loss: 0.0033\n",
            "Epoch 32/50\n",
            "\u001b[1m3/3\u001b[0m \u001b[32m━━━━━━━━━━━━━━━━━━━━\u001b[0m\u001b[37m\u001b[0m \u001b[1m0s\u001b[0m 17ms/step - loss: 0.0174 - val_loss: 0.0029\n",
            "Epoch 33/50\n",
            "\u001b[1m3/3\u001b[0m \u001b[32m━━━━━━━━━━━━━━━━━━━━\u001b[0m\u001b[37m\u001b[0m \u001b[1m0s\u001b[0m 16ms/step - loss: 0.0206 - val_loss: 0.0027\n",
            "Epoch 34/50\n",
            "\u001b[1m3/3\u001b[0m \u001b[32m━━━━━━━━━━━━━━━━━━━━\u001b[0m\u001b[37m\u001b[0m \u001b[1m0s\u001b[0m 17ms/step - loss: 0.0251 - val_loss: 0.0024\n",
            "Epoch 35/50\n",
            "\u001b[1m3/3\u001b[0m \u001b[32m━━━━━━━━━━━━━━━━━━━━\u001b[0m\u001b[37m\u001b[0m \u001b[1m0s\u001b[0m 25ms/step - loss: 0.0232 - val_loss: 0.0025\n",
            "Epoch 36/50\n",
            "\u001b[1m3/3\u001b[0m \u001b[32m━━━━━━━━━━━━━━━━━━━━\u001b[0m\u001b[37m\u001b[0m \u001b[1m0s\u001b[0m 17ms/step - loss: 0.0238 - val_loss: 0.0026\n",
            "Epoch 37/50\n",
            "\u001b[1m3/3\u001b[0m \u001b[32m━━━━━━━━━━━━━━━━━━━━\u001b[0m\u001b[37m\u001b[0m \u001b[1m0s\u001b[0m 17ms/step - loss: 0.0177 - val_loss: 0.0026\n",
            "Epoch 38/50\n",
            "\u001b[1m3/3\u001b[0m \u001b[32m━━━━━━━━━━━━━━━━━━━━\u001b[0m\u001b[37m\u001b[0m \u001b[1m0s\u001b[0m 21ms/step - loss: 0.0239 - val_loss: 0.0022\n",
            "Epoch 39/50\n",
            "\u001b[1m3/3\u001b[0m \u001b[32m━━━━━━━━━━━━━━━━━━━━\u001b[0m\u001b[37m\u001b[0m \u001b[1m0s\u001b[0m 17ms/step - loss: 0.0236 - val_loss: 0.0024\n",
            "Epoch 40/50\n",
            "\u001b[1m3/3\u001b[0m \u001b[32m━━━━━━━━━━━━━━━━━━━━\u001b[0m\u001b[37m\u001b[0m \u001b[1m0s\u001b[0m 18ms/step - loss: 0.0188 - val_loss: 0.0031\n",
            "Epoch 41/50\n",
            "\u001b[1m3/3\u001b[0m \u001b[32m━━━━━━━━━━━━━━━━━━━━\u001b[0m\u001b[37m\u001b[0m \u001b[1m0s\u001b[0m 17ms/step - loss: 0.0199 - val_loss: 0.0031\n",
            "Epoch 42/50\n",
            "\u001b[1m3/3\u001b[0m \u001b[32m━━━━━━━━━━━━━━━━━━━━\u001b[0m\u001b[37m\u001b[0m \u001b[1m0s\u001b[0m 16ms/step - loss: 0.0212 - val_loss: 0.0030\n",
            "Epoch 43/50\n",
            "\u001b[1m3/3\u001b[0m \u001b[32m━━━━━━━━━━━━━━━━━━━━\u001b[0m\u001b[37m\u001b[0m \u001b[1m0s\u001b[0m 16ms/step - loss: 0.0270 - val_loss: 0.0027\n",
            "Epoch 44/50\n",
            "\u001b[1m3/3\u001b[0m \u001b[32m━━━━━━━━━━━━━━━━━━━━\u001b[0m\u001b[37m\u001b[0m \u001b[1m0s\u001b[0m 17ms/step - loss: 0.0196 - val_loss: 0.0028\n",
            "Epoch 45/50\n",
            "\u001b[1m3/3\u001b[0m \u001b[32m━━━━━━━━━━━━━━━━━━━━\u001b[0m\u001b[37m\u001b[0m \u001b[1m0s\u001b[0m 16ms/step - loss: 0.0226 - val_loss: 0.0024\n",
            "Epoch 46/50\n",
            "\u001b[1m3/3\u001b[0m \u001b[32m━━━━━━━━━━━━━━━━━━━━\u001b[0m\u001b[37m\u001b[0m \u001b[1m0s\u001b[0m 25ms/step - loss: 0.0266 - val_loss: 0.0020\n",
            "Epoch 47/50\n",
            "\u001b[1m3/3\u001b[0m \u001b[32m━━━━━━━━━━━━━━━━━━━━\u001b[0m\u001b[37m\u001b[0m \u001b[1m0s\u001b[0m 18ms/step - loss: 0.0231 - val_loss: 0.0018\n",
            "Epoch 48/50\n",
            "\u001b[1m3/3\u001b[0m \u001b[32m━━━━━━━━━━━━━━━━━━━━\u001b[0m\u001b[37m\u001b[0m \u001b[1m0s\u001b[0m 17ms/step - loss: 0.0249 - val_loss: 0.0017\n",
            "Epoch 49/50\n",
            "\u001b[1m3/3\u001b[0m \u001b[32m━━━━━━━━━━━━━━━━━━━━\u001b[0m\u001b[37m\u001b[0m \u001b[1m0s\u001b[0m 27ms/step - loss: 0.0216 - val_loss: 0.0016\n",
            "Epoch 50/50\n",
            "\u001b[1m3/3\u001b[0m \u001b[32m━━━━━━━━━━━━━━━━━━━━\u001b[0m\u001b[37m\u001b[0m \u001b[1m0s\u001b[0m 27ms/step - loss: 0.0212 - val_loss: 0.0015\n"
          ]
        },
        {
          "output_type": "execute_result",
          "data": {
            "text/plain": [
              "<keras.src.callbacks.history.History at 0x78ec9620ef80>"
            ]
          },
          "metadata": {},
          "execution_count": 101
        }
      ]
    },
    {
      "cell_type": "code",
      "source": [
        "import tensorflow as tf"
      ],
      "metadata": {
        "id": "0oGSUble3BTC"
      },
      "execution_count": 46,
      "outputs": []
    },
    {
      "cell_type": "code",
      "source": [
        "train_predict = model.predict(X_train)\n",
        "test_predict = model.predict(X_test)"
      ],
      "metadata": {
        "colab": {
          "base_uri": "https://localhost:8080/"
        },
        "id": "saazId9r3_tV",
        "outputId": "65c64382-6ca9-46f3-fd88-cae65dc5c07a"
      },
      "execution_count": 102,
      "outputs": [
        {
          "output_type": "stream",
          "name": "stdout",
          "text": [
            "\u001b[1m5/5\u001b[0m \u001b[32m━━━━━━━━━━━━━━━━━━━━\u001b[0m\u001b[37m\u001b[0m \u001b[1m0s\u001b[0m 68ms/step\n",
            "\u001b[1m3/3\u001b[0m \u001b[32m━━━━━━━━━━━━━━━━━━━━\u001b[0m\u001b[37m\u001b[0m \u001b[1m0s\u001b[0m 5ms/step \n"
          ]
        }
      ]
    },
    {
      "cell_type": "markdown",
      "source": [
        "# to get back to the original value we inverse the transformation"
      ],
      "metadata": {
        "id": "1iF5h0ok4m3s"
      }
    },
    {
      "cell_type": "code",
      "source": [
        "train_predict = scaler.inverse_transform(train_predict)\n",
        "test_predict = scaler.inverse_transform(test_predict)"
      ],
      "metadata": {
        "id": "otSrgjm54aYT"
      },
      "execution_count": 103,
      "outputs": []
    },
    {
      "cell_type": "code",
      "source": [
        "import math\n",
        "\n",
        "from sklearn.metrics import mean_squared_error"
      ],
      "metadata": {
        "id": "io_RdeYS4lV4"
      },
      "execution_count": 104,
      "outputs": []
    },
    {
      "cell_type": "code",
      "source": [
        "math.sqrt(mean_squared_error(Y_train, train_predict))"
      ],
      "metadata": {
        "colab": {
          "base_uri": "https://localhost:8080/"
        },
        "id": "iuP95_b54_Ya",
        "outputId": "4563fc39-0794-4346-b821-079b803b621f"
      },
      "execution_count": 105,
      "outputs": [
        {
          "output_type": "execute_result",
          "data": {
            "text/plain": [
              "737.1551851699829"
            ]
          },
          "metadata": {},
          "execution_count": 105
        }
      ]
    },
    {
      "cell_type": "code",
      "source": [
        "math.sqrt(mean_squared_error(Y_test, test_predict))"
      ],
      "metadata": {
        "colab": {
          "base_uri": "https://localhost:8080/"
        },
        "id": "zuW-npWp5JmR",
        "outputId": "d7b50bdc-3711-483c-82c2-902f017d4ef7"
      },
      "execution_count": 106,
      "outputs": [
        {
          "output_type": "execute_result",
          "data": {
            "text/plain": [
              "170.54335137796988"
            ]
          },
          "metadata": {},
          "execution_count": 106
        }
      ]
    },
    {
      "cell_type": "code",
      "source": [
        "look_back=5\n",
        "trainPredictPlot = np.empty_like(df_of_data_target_col)\n",
        "trainPredictPlot[:, :] = np.nan\n",
        "trainPredictPlot[look_back:len(train_predict)+look_back, :] = train_predict\n",
        "# shift test predictions for plotting\n",
        "testPredictPlot = np.empty_like(df_of_data_target_col)\n",
        "testPredictPlot[:, :] = np.nan\n",
        "testPredictPlot[len(train_predict)+(look_back*2)+1:len(df_of_data_target_col)-1, :] = test_predict\n",
        "# plot baseline and predictions\n",
        "plt.plot(scaler.inverse_transform(df_of_data_target_col))\n",
        "plt.plot(trainPredictPlot)\n",
        "plt.plot(testPredictPlot)\n",
        "plt.show()"
      ],
      "metadata": {
        "colab": {
          "base_uri": "https://localhost:8080/",
          "height": 430
        },
        "id": "XNOKG-QAAtwU",
        "outputId": "2ae13e6b-f46a-4e95-b7bf-dfb0a339ccde"
      },
      "execution_count": 116,
      "outputs": [
        {
          "output_type": "display_data",
          "data": {
            "text/plain": [
              "<Figure size 640x480 with 1 Axes>"
            ],
            "image/png": "[encoded data removed]"
          },
          "metadata": {}
        }
      ]
    },
    {
      "cell_type": "markdown",
      "source": [
        "# next 30 days"
      ],
      "metadata": {
        "id": "toxzaRdJ8GV8"
      }
    },
    {
      "cell_type": "code",
      "source": [
        "len(test_data)"
      ],
      "metadata": {
        "colab": {
          "base_uri": "https://localhost:8080/"
        },
        "id": "uVJyElCj7H8I",
        "outputId": "49a182c3-c480-4d53-a606-ceb75da80aa6"
      },
      "execution_count": 117,
      "outputs": [
        {
          "output_type": "execute_result",
          "data": {
            "text/plain": [
              "101"
            ]
          },
          "metadata": {},
          "execution_count": 117
        }
      ]
    },
    {
      "cell_type": "code",
      "source": [
        "x_input = test_data[96:].reshape(1,-1)\n",
        "x_input.shape"
      ],
      "metadata": {
        "colab": {
          "base_uri": "https://localhost:8080/"
        },
        "id": "33nqnYlL8KDu",
        "outputId": "3f6ef432-4e41-4f96-ea4a-b08b8fd8fa86"
      },
      "execution_count": 118,
      "outputs": [
        {
          "output_type": "execute_result",
          "data": {
            "text/plain": [
              "(1, 5)"
            ]
          },
          "metadata": {},
          "execution_count": 118
        }
      ]
    },
    {
      "cell_type": "code",
      "source": [
        "temp_input = list(x_input)\n",
        "temp_input = temp_input[0].tolist()"
      ],
      "metadata": {
        "id": "ZiF_tuQP8dtq"
      },
      "execution_count": 119,
      "outputs": []
    },
    {
      "cell_type": "code",
      "source": [
        "temp_input"
      ],
      "metadata": {
        "colab": {
          "base_uri": "https://localhost:8080/"
        },
        "id": "2L1KxU8L8rY2",
        "outputId": "84c55bb2-7077-4e7e-84d2-5bda30a485d6"
      },
      "execution_count": 120,
      "outputs": [
        {
          "output_type": "execute_result",
          "data": {
            "text/plain": [
              "[0.035291295346915566,\n",
              " 0.03673955343894658,\n",
              " 0.041075442696070136,\n",
              " 0.04100436254431403,\n",
              " 0.03867648757430098]"
            ]
          },
          "metadata": {},
          "execution_count": 120
        }
      ]
    },
    {
      "cell_type": "code",
      "source": [
        "from numpy import array\n",
        "\n",
        "lst_output=[]\n",
        "n_steps=5\n",
        "i=0\n",
        "while(i<10):\n",
        "\n",
        "    if(len(temp_input)>5):\n",
        "        #print(temp_input)\n",
        "        x_input=np.array(temp_input[1:])\n",
        "        print(\"{} day input {}\".format(i,x_input))\n",
        "        x_input=x_input.reshape(1,-1)\n",
        "        x_input = x_input.reshape((1, n_steps, 1))\n",
        "        #print(x_input)\n",
        "        yhat = model.predict(x_input, verbose=0)\n",
        "        print(\"{} day output {}\".format(i,yhat))\n",
        "        temp_input.extend(yhat[0].tolist())\n",
        "        temp_input=temp_input[1:]\n",
        "        #print(temp_input)\n",
        "        lst_output.extend(yhat.tolist())\n",
        "        i=i+1\n",
        "    else:\n",
        "        x_input = x_input.reshape((1, n_steps,1))\n",
        "        yhat = model.predict(x_input, verbose=0)\n",
        "        print(yhat[0])\n",
        "        temp_input.extend(yhat[0].tolist())\n",
        "        print(len(temp_input))\n",
        "        lst_output.extend(yhat.tolist())\n",
        "        i=i+1\n",
        "\n",
        "\n",
        "print(lst_output)"
      ],
      "metadata": {
        "colab": {
          "base_uri": "https://localhost:8080/"
        },
        "id": "05ebsekzB9dZ",
        "outputId": "222beeac-8769-44d9-a996-614bb2432470"
      },
      "execution_count": 121,
      "outputs": [
        {
          "output_type": "stream",
          "name": "stdout",
          "text": [
            "[0.07511448]\n",
            "6\n",
            "1 day input [0.03673955 0.04107544 0.04100436 0.03867649 0.07511448]\n",
            "1 day output [[0.07789145]]\n",
            "2 day input [0.04107544 0.04100436 0.03867649 0.07511448 0.07789145]\n",
            "2 day output [[0.0827798]]\n",
            "3 day input [0.04100436 0.03867649 0.07511448 0.07789145 0.0827798 ]\n",
            "3 day output [[0.08920626]]\n",
            "4 day input [0.03867649 0.07511448 0.07789145 0.0827798  0.08920626]\n",
            "4 day output [[0.09876652]]\n",
            "5 day input [0.07511448 0.07789145 0.0827798  0.08920626 0.09876652]\n",
            "5 day output [[0.11242655]]\n",
            "6 day input [0.07789145 0.0827798  0.08920626 0.09876652 0.11242655]\n",
            "6 day output [[0.11726683]]\n",
            "7 day input [0.0827798  0.08920626 0.09876652 0.11242655 0.11726683]\n",
            "7 day output [[0.12376781]]\n",
            "8 day input [0.08920626 0.09876652 0.11242655 0.11726683 0.12376781]\n",
            "8 day output [[0.13137989]]\n",
            "9 day input [0.09876652 0.11242655 0.11726683 0.12376781 0.13137989]\n",
            "9 day output [[0.13961008]]\n",
            "[[0.07511448115110397], [0.07789145410060883], [0.08277980238199234], [0.0892062559723854], [0.0987665206193924], [0.11242654919624329], [0.11726683378219604], [0.12376780807971954], [0.1313798874616623], [0.13961008191108704]]\n"
          ]
        }
      ]
    },
    {
      "cell_type": "code",
      "source": [
        "day_new=np.arange(1,6)\n",
        "day_pred=np.arange(6,16)"
      ],
      "metadata": {
        "id": "jyzVF7kJ9a0s"
      },
      "execution_count": 135,
      "outputs": []
    },
    {
      "cell_type": "code",
      "source": [
        "len(df_of_data_target_col)"
      ],
      "metadata": {
        "colab": {
          "base_uri": "https://localhost:8080/"
        },
        "id": "aWFT8Ysz9wpL",
        "outputId": "61091cd9-6adb-4bac-c24d-59440da8aebf"
      },
      "execution_count": 136,
      "outputs": [
        {
          "output_type": "execute_result",
          "data": {
            "text/plain": [
              "251"
            ]
          },
          "metadata": {},
          "execution_count": 136
        }
      ]
    },
    {
      "cell_type": "code",
      "source": [
        "df6 = df_of_data_target_col.tolist()\n",
        "df6.extend(lst_output)"
      ],
      "metadata": {
        "id": "hJB4r0fr90c6"
      },
      "execution_count": 138,
      "outputs": []
    },
    {
      "cell_type": "code",
      "source": [
        "df6"
      ],
      "metadata": {
        "collapsed": true,
        "colab": {
          "base_uri": "https://localhost:8080/"
        },
        "id": "4x5x-vaoDi_q",
        "outputId": "63c31a7a-d042-442e-bb0f-1f75063086d2"
      },
      "execution_count": 139,
      "outputs": [
        {
          "output_type": "execute_result",
          "data": {
            "text/plain": [
              "[[0.3342099885383255],\n",
              " [0.32640005686412144],\n",
              " [0.3355516264027224],\n",
              " [0.3393810695785836],\n",
              " [0.34170894454859657],\n",
              " [0.34650685479213494],\n",
              " [0.35705337230894985],\n",
              " [0.35285075833636903],\n",
              " [0.3395854250148824],\n",
              " [0.3473953566890865],\n",
              " [0.3459737536539641],\n",
              " [0.34996312717127653],\n",
              " [0.3511892597890697],\n",
              " [0.3521221867808688],\n",
              " [0.3521221867808688],\n",
              " [0.3400918710961448],\n",
              " [0.33476974473340504],\n",
              " [0.33858141787132723],\n",
              " [0.34834605371882477],\n",
              " [0.37638717358661555],\n",
              " [0.3842681854125758],\n",
              " [0.3950190583656896],\n",
              " [0.399212787319301],\n",
              " [0.39821766519471524],\n",
              " [0.41307341691174515],\n",
              " [0.4101502456707745],\n",
              " [0.41951505566464387],\n",
              " [0.44069694088796874],\n",
              " [0.4421451989799998],\n",
              " [0.4440910181343237],\n",
              " [0.4573208113799323],\n",
              " [0.45958649121715867],\n",
              " [0.45437987010102265],\n",
              " [0.46712098730330787],\n",
              " [0.46986645816488815],\n",
              " [0.4587868395099023],\n",
              " [0.4721143679641756],\n",
              " [0.4999511323956677],\n",
              " [0.5281344125669709],\n",
              " [0.5182809265297782],\n",
              " [0.5349492221165892],\n",
              " [0.5308798834285511],\n",
              " [0.5530213507005838],\n",
              " [0.554043127882078],\n",
              " [0.5529769256057361],\n",
              " [0.5687211792197177],\n",
              " [0.557686074509769],\n",
              " [0.5572861598059512],\n",
              " [0.5292006148433127],\n",
              " [0.511608277283672],\n",
              " [0.6099298972003305],\n",
              " [0.612408906343015],\n",
              " [0.6148521977094421],\n",
              " [0.6113781552923615],\n",
              " [0.6021555056020045],\n",
              " [0.6150298980888325],\n",
              " [0.643168753165288],\n",
              " [0.6694506392771149],\n",
              " [0.6759100480679526],\n",
              " [0.7002195488187367],\n",
              " [0.735484100258554],\n",
              " [0.6898063065864645],\n",
              " [0.6742218944637447],\n",
              " [0.7287670259176003],\n",
              " [0.719659881473847],\n",
              " [0.6935023856275934],\n",
              " [0.6925472460883704],\n",
              " [0.6980427191712054],\n",
              " [0.7064212032092688],\n",
              " [0.715075211685577],\n",
              " [0.7245199868501719],\n",
              " [0.7498778309891692],\n",
              " [0.7562129383646233],\n",
              " [0.7345245182098464],\n",
              " [0.713991239371296],\n",
              " [0.7149331402322544],\n",
              " [0.7149952465148512],\n",
              " [0.7069009942336226],\n",
              " [0.7025651049764992],\n",
              " [0.6753858319487511],\n",
              " [0.6940710268416423],\n",
              " [0.6862966352433163],\n",
              " [0.6704901864965481],\n",
              " [0.6854614434601818],\n",
              " [0.7172431563141387],\n",
              " [0.6956525602182161],\n",
              " [0.6762387937698247],\n",
              " [0.6888022105927196],\n",
              " [0.6587708464757572],\n",
              " [0.6644218073905588],\n",
              " [0.589156811699793],\n",
              " [0.6186372157904556],\n",
              " [0.6444481958968983],\n",
              " [0.6200499338066087],\n",
              " [0.6463052537117167],\n",
              " [0.6916454166629645],\n",
              " [0.6918409759304837],\n",
              " [0.6798016863766004],\n",
              " [0.6499392264702486],\n",
              " [0.6746040391296235],\n",
              " [0.7010102266568339],\n",
              " [0.73078401407387],\n",
              " [0.7166923739882185],\n",
              " [0.7154306124443576],\n",
              " [0.7006370558601143],\n",
              " [0.7106860123146362],\n",
              " [0.7153151071977538],\n",
              " [0.72381815920177],\n",
              " [0.7529076224577739],\n",
              " [0.7504997823170353],\n",
              " [0.7337959466543461],\n",
              " [0.7542403753032012],\n",
              " [0.7596246967987277],\n",
              " [0.7557509173782085],\n",
              " [0.8343743613892616],\n",
              " [0.858097362037868],\n",
              " [0.9241308230193072],\n",
              " [0.9323405805471395],\n",
              " [0.893912873503985],\n",
              " [0.886209562057415],\n",
              " [0.9338954588668046],\n",
              " [0.9466632311259983],\n",
              " [1.0000000000000002],\n",
              " [0.9871878026459587],\n",
              " [0.986210450559312],\n",
              " [0.020328923402251467],\n",
              " [0.01954704173293409],\n",
              " [0.02335871487085625],\n",
              " [0.02727700823641259],\n",
              " [0.0292939075424926],\n",
              " [0.028494255835236196],\n",
              " [0.03258136456121334],\n",
              " [0.028316555455845896],\n",
              " [0.02457596246967987],\n",
              " [0.017059236421469753],\n",
              " [0.024149481559143135],\n",
              " [0.024424917147198105],\n",
              " [0.022283627575544862],\n",
              " [0.021883801721916674],\n",
              " [0.022559063163599846],\n",
              " [0.02111080507156883],\n",
              " [0.026095300713467023],\n",
              " [0.023918471065935726],\n",
              " [0.026024220561710887],\n",
              " [0.028849656594016823],\n",
              " [0.0319860682902558],\n",
              " [0.02531341904414966],\n",
              " [0.026948262534540524],\n",
              " [0.02623746101697927],\n",
              " [0.02438937707132005],\n",
              " [0.016952616193835562],\n",
              " [0.019706972074385376],\n",
              " [0.01689930608001848],\n",
              " [0.021883801721916674],\n",
              " [0.021039724919812708],\n",
              " [0.013629619099236781],\n",
              " [0.01187927036224222],\n",
              " [0.012572301841864433],\n",
              " [0.01126620405334565],\n",
              " [0.0042825791433064725],\n",
              " [0.01609076935379257],\n",
              " [0.009151569538600954],\n",
              " [0.007427875858514954],\n",
              " [0.0013682929213053863],\n",
              " [0.004744600129721277],\n",
              " [0.0],\n",
              " [0.005384321495526395],\n",
              " [0.005188851078197054],\n",
              " [0.00898275417818016],\n",
              " [0.015308887684475206],\n",
              " [0.017032581364561206],\n",
              " [0.021279620431989624],\n",
              " [0.022807843694746283],\n",
              " [0.027623523976223682],\n",
              " [0.02518014375960692],\n",
              " [0.026290771130796364],\n",
              " [0.022061502101306973],\n",
              " [0.02706376778114422],\n",
              " [0.0244782272610152],\n",
              " [0.026113070751406064],\n",
              " [0.023723000648606385],\n",
              " [0.01659721543505495],\n",
              " [0.018178748811628717],\n",
              " [0.008076482243289593],\n",
              " [0.006486063847746304],\n",
              " [0.0073745657446978585],\n",
              " [0.003482927436050068],\n",
              " [0.006717074340953713],\n",
              " [0.008165332432984743],\n",
              " [0.0159930341451279],\n",
              " [0.017974393375329856],\n",
              " [0.017938853299451787],\n",
              " [0.0158775288985242],\n",
              " [0.014820211641151854],\n",
              " [0.012847737429919417],\n",
              " [0.016845995966201385],\n",
              " [0.015184497418901988],\n",
              " [0.015415507912109397],\n",
              " [0.019511501657056035],\n",
              " [0.021857146665008126],\n",
              " [0.02232805267039245],\n",
              " [0.01998240766244036],\n",
              " [0.020017947738318415],\n",
              " [0.016072999315853542],\n",
              " [0.0177167278252139],\n",
              " [0.021270735413020103],\n",
              " [0.023109934339709814],\n",
              " [0.02559773965117415],\n",
              " [0.030191294458413648],\n",
              " [0.029978054003145294],\n",
              " [0.03189721810056065],\n",
              " [0.03188833308159114],\n",
              " [0.03479373428462269],\n",
              " [0.029045127011346164],\n",
              " [0.032705754826786546],\n",
              " [0.033780842122097934],\n",
              " [0.03473153915183609],\n",
              " [0.039804884983429434],\n",
              " [0.03969826475579524],\n",
              " [0.036117602111080505],\n",
              " [0.03687282872348932],\n",
              " [0.03787683586704457],\n",
              " [0.036970563932154005],\n",
              " [0.03761917031692863],\n",
              " [0.03591768918426641],\n",
              " [0.03007578921180995],\n",
              " [0.03242143421976207],\n",
              " [0.03299896045278057],\n",
              " [0.03642857777501354],\n",
              " [0.04149303858763739],\n",
              " [0.04439843979066896],\n",
              " [0.043287812419479516],\n",
              " [0.04118206292370433],\n",
              " [0.04387422367146754],\n",
              " [0.042079449839625416],\n",
              " [0.04251481576913166],\n",
              " [0.038267776701703254],\n",
              " [0.036641818230281925],\n",
              " [0.04273694124336955],\n",
              " [0.0417418191187838],\n",
              " [0.042434850598406015],\n",
              " [0.03824112164479471],\n",
              " [0.03297230539587202],\n",
              " [0.0337719571031284],\n",
              " [0.03236812410594497],\n",
              " [0.03495366462607398],\n",
              " [0.035291295346915566],\n",
              " [0.03673955343894658],\n",
              " [0.041075442696070136],\n",
              " [0.04100436254431403],\n",
              " [0.03867648757430098],\n",
              " [0.07511448115110397],\n",
              " [0.07789145410060883],\n",
              " [0.08277980238199234],\n",
              " [0.0892062559723854],\n",
              " [0.0987665206193924],\n",
              " [0.11242654919624329],\n",
              " [0.11726683378219604],\n",
              " [0.12376780807971954],\n",
              " [0.1313798874616623],\n",
              " [0.13961008191108704]]"
            ]
          },
          "metadata": {},
          "execution_count": 139
        }
      ]
    },
    {
      "cell_type": "code",
      "source": [
        "plt.plot(day_new,scaler.inverse_transform(df_of_data_target_col[246:]))\n",
        "plt.plot(day_pred,scaler.inverse_transform(lst_output))"
      ],
      "metadata": {
        "colab": {
          "base_uri": "https://localhost:8080/",
          "height": 448
        },
        "id": "SEkHnYcCF4rL",
        "outputId": "eae49cd0-4ced-4f34-c30a-ba85113b28a9"
      },
      "execution_count": 140,
      "outputs": [
        {
          "output_type": "execute_result",
          "data": {
            "text/plain": [
              "[<matplotlib.lines.Line2D at 0x78ec97613610>]"
            ]
          },
          "metadata": {},
          "execution_count": 140
        },
        {
          "output_type": "display_data",
          "data": {
            "text/plain": [
              "<Figure size 640x480 with 1 Axes>"
            ],
            "image/png": "[encoded data removed]"
          },
          "metadata": {}
        }
      ]
    },
    {
      "cell_type": "code",
      "source": [
        "df6 = df_of_data_target_col.tolist()\n",
        "df6.extend(lst_output)\n",
        "plt.plot(df6[5:])"
      ],
      "metadata": {
        "colab": {
          "base_uri": "https://localhost:8080/",
          "height": 448
        },
        "id": "z4-jBWUQ_ql9",
        "outputId": "40c5087e-a79f-4d7b-fc17-fdbf7900fcb7"
      },
      "execution_count": 141,
      "outputs": [
        {
          "output_type": "execute_result",
          "data": {
            "text/plain": [
              "[<matplotlib.lines.Line2D at 0x78ec9766d0c0>]"
            ]
          },
          "metadata": {},
          "execution_count": 141
        },
        {
          "output_type": "display_data",
          "data": {
            "text/plain": [
              "<Figure size 640x480 with 1 Axes>"
            ],
            "image/png": "[encoded data removed]"
          },
          "metadata": {}
        }
      ]
    },
    {
      "cell_type": "code",
      "source": [],
      "metadata": {
        "id": "jS_F-PtmAEhN"
      },
      "execution_count": null,
      "outputs": []
    }
  ]
}